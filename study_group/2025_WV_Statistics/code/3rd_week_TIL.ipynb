{
 "cells": [
  {
   "cell_type": "markdown",
   "metadata": {},
   "source": [
    "# Ⅲ. 통계적 실험과 유의성검정"
   ]
  },
  {
   "cell_type": "code",
   "execution_count": 1,
   "metadata": {},
   "outputs": [],
   "source": [
    "import random\n",
    "\n",
    "import pandas as pd\n",
    "import numpy as np\n",
    "\n",
    "from scipy import stats\n",
    "import statsmodels.api as sm\n",
    "import statsmodels.formula.api as smf\n",
    "from statsmodels.stats import power\n",
    "\n",
    "import matplotlib.pylab as plt"
   ]
  },
  {
   "cell_type": "code",
   "execution_count": 2,
   "metadata": {},
   "outputs": [],
   "source": [
    "import warnings\n",
    "warnings.filterwarnings('ignore')"
   ]
  },
  {
   "cell_type": "markdown",
   "metadata": {},
   "source": [
    "## 1. A/B 검정\n",
    "---\n",
    "- **처리(treatment)**: 어떤 대상에 주어지는 특별한 환경이나 조건\n",
    "- **처리군(treatment group)**: *특정 처리에 노출된* 대상들의 집단\n",
    "- **대조군(control group)**: *어떤 처리도 하지 않은* 대상들의 집단\n",
    "- **임의화(= 랜덤화, randomization)**: 처리를 적용할 대상을 임의로 결정하는 과정\n",
    "- **대상(subject)**: 처리를 적용할 개체 대상\n",
    "    - 유의어 - 피실험자\n",
    "- **검정통계량(test statistic)**: 처리 효과를 측정하기 위한 지표"
   ]
  },
  {
   "cell_type": "markdown",
   "metadata": {},
   "source": [
    "### A. 대조군은 왜 필요할까?"
   ]
  },
  {
   "cell_type": "markdown",
   "metadata": {},
   "source": [
    "### B. 왜 하필 A/B일까? C, D, …가 아니라?"
   ]
  },
  {
   "cell_type": "markdown",
   "metadata": {},
   "source": [
    "## 2. 가설검정\n",
    "---\n",
    "- **가설검정(hypothesis test)**\n",
    "- **유의성검정(significance test)**\n",
    "- **귀무가설(null hypothesis)**: *관찰한 효과가 우연 때문*이라는 가설\n",
    "    - 유의어 - 영가설\n",
    "- **대립가설(alternative hypothesis)**: *증명*하고자 하는 가설(귀무가설과의 대조)\n",
    "- **일원검정(one-way test)**: 한 방향으로만 (우연히 일어날 확률을) 계산하는 가설검정\n",
    "- **이원검정(two-way test)**: 양방향으로 (우연히 일어날 확률을) 계산하는 가설검정"
   ]
  },
  {
   "cell_type": "markdown",
   "metadata": {},
   "source": [
    "```\n",
    "※ 가설을 세워야 하는 이유\n",
    "\n",
    "인간은 임의성을 과소평가하려는 경향이 있기 때문이다.\n",
    "예를 들어 '흑고니'와 같은 예외적 사건을 예상하지 못하거나 무작위 사건에 과한 의미를 부여하는 경향을 들 수 있다.\n",
    "```"
   ]
  },
  {
   "cell_type": "markdown",
   "metadata": {},
   "source": [
    "```\n",
    "※ 흑고니 이론?\n",
    "\n",
    "흑조 이론, 블랙 스완 이론이라고도 불린다.\n",
    "나심 탈레브가 2007년 블랙스완을 발간하면서 대중화되었다.\n",
    "1. 예외적으로 일어나며 2. 일단 발생하면 파생 변화가 엄청나고 3. 발생 이후에는 사전에 예측할 수 있었다고 받아들이는 3가지 특징을 가진다.\n",
    "```\n",
    "[흑고니 이론](https://ko.wikipedia.org/wiki/%ED%9D%91%EA%B3%A0%EB%8B%88_%EC%9D%B4%EB%A1%A0)"
   ]
  },
  {
   "cell_type": "markdown",
   "metadata": {},
   "source": [
    "### A. 귀무가설\n",
    "---\n",
    "가설검정의 최종 목적은 귀무가설이 틀렸다는 것을 입증하여 어떠한 차이 따위가 우연이 아니라고 말하는 것이다."
   ]
  },
  {
   "cell_type": "markdown",
   "metadata": {},
   "source": [
    "### B. 대립가설"
   ]
  },
  {
   "cell_type": "markdown",
   "metadata": {},
   "source": [
    "### C. 일원/이원 가설검정\n",
    "---\n",
    "- 일원 가설검정(단측 검정을 말하는 듯): A/B 중에서 B가 A보다 낫다는 대립가설이 필요한 경우\n",
    "    - 귀무가설: $\\mu=\\mu_0$\n",
    "    - 대립가설: $\\mu>\\mu_0$ (or $\\mu<\\mu_0$)\n",
    "- 이원 가설검정(양측 검정을 말하는 듯): A/B 중에서 A는 B와 다르며 더 크거나 작을 수 있는 경우\n",
    "    - 귀무가설: $\\mu=\\mu_0$\n",
    "    - 대립가설: $\\mu≠\\mu_0$"
   ]
  },
  {
   "cell_type": "markdown",
   "metadata": {},
   "source": [
    "## 3. 재표본추출\n",
    "---\n",
    "- **순열검정(permutation test)**: 두 개 이상의 표본을 함께 결합하여 관측값들을 무작위로(또는 전부를) 재표본으로 추출하는 과정\n",
    "    - 유의어 - 임의화검정, 임의순열검정, 정확검정\n",
    "- **재표본추출**: 랜덤한 변동성을 알아보기 위해 관찰된 데이터로부터 반복적으로 표본추출하는 것\n",
    "- **복원/비복원(with/witout replacement)**"
   ]
  },
  {
   "cell_type": "markdown",
   "metadata": {},
   "source": [
    "### A. 순열검정\n",
    "---\n",
    "- permute(= \"순서를 바꾸다\")에서 파생\n",
    "- 순열 절차\n",
    "    1. 여러 그룹의 결과를 단일 데이터 집합으로 결합한다.\n",
    "    1. 결합된 데이터를 잘 섞은 후, 그룹 A와 동일한 크기의 표본을 무작위 비복원 추출한다. (다른 그룹 일부 데이터 포함)\n",
    "    1. 나머지 데이터에서 그룹 B와 동일한 크기의 표본을 무작위 비복원 추출한다.\n",
    "    1. C, D 등의 그룹에 대해서도 동일한 작업을 수행한다.\n",
    "    1. 원래 표본에 대해 구한 통계량 또는 추정치가 무엇이든, 지금 추출한 재표본에 대해 모두 다시 계산하고 기록한다.\n",
    "    1. 앞선 단계들을 $R$번 반복하여 검정통계량의 순열분포를 얻는다.\n",
    "- 결과 해석\n",
    "    - 관찰된 차이가 순열로 보이는 차이보다 크거나 같은 비율 계산\n",
    "    - 관찰된 차이가 순열로 보이는 차이의 집합 안에 있음 -> 우연히 일어날 수 있는 범위 안임\n",
    "    - 관찰된 차이가 대부분 순열분포 바깥에 있음 -> 우연이 아니라고 결론내릴 수 있음 = 통계적으로 유의미하다(statistically significant)고 할 수 있음"
   ]
  },
  {
   "cell_type": "markdown",
   "metadata": {},
   "source": [
    "### B. 예제: 웹 점착성\n",
    "---\n",
    "- **대리변수(proxy variable)**: (관심 변수를 직접 얻을 수 없거나, 측정하는 데 많은 비용이나 시간이 소요될 경우) 참된 관심 변수를 대신하는 변수"
   ]
  },
  {
   "cell_type": "code",
   "execution_count": 3,
   "metadata": {},
   "outputs": [],
   "source": [
    "session_times = pd.read_csv('../data/web_page_data.csv')\n",
    "session_times.Time = 100 * session_times.Time"
   ]
  },
  {
   "cell_type": "code",
   "execution_count": 4,
   "metadata": {},
   "outputs": [
    {
     "data": {
      "image/png": "[encoded data removed]",
      "text/plain": [
       "<Figure size 400x400 with 1 Axes>"
      ]
     },
     "metadata": {},
     "output_type": "display_data"
    }
   ],
   "source": [
    "# 세션 시간 시각적 비교\n",
    "ax = session_times.boxplot(by='Page', column='Time',\n",
    "                           figsize=(4, 4))\n",
    "ax.set_xlabel('')\n",
    "ax.set_ylabel('Time (in seconds)')\n",
    "plt.suptitle('')\n",
    "\n",
    "plt.tight_layout()\n",
    "plt.show()"
   ]
  },
  {
   "cell_type": "code",
   "execution_count": 5,
   "metadata": {},
   "outputs": [
    {
     "name": "stdout",
     "output_type": "stream",
     "text": [
      "35.66666666666667\n"
     ]
    }
   ],
   "source": [
    "# 평균 차이 계산\n",
    "mean_a = session_times[session_times.Page == 'Page A'].Time.mean()\n",
    "mean_b = session_times[session_times.Page == 'Page B'].Time.mean()\n",
    "print(mean_b - mean_a)"
   ]
  },
  {
   "cell_type": "code",
   "execution_count": 6,
   "metadata": {},
   "outputs": [],
   "source": [
    "# 함수 정의\n",
    "# Permutation test example with stickiness\n",
    "def perm_fun(x, nA, nB):\n",
    "    n = nA + nB\n",
    "    idx_B = set(random.sample(range(n), nB))\n",
    "    idx_A = set(range(n)) - idx_B\n",
    "    return x.loc[list(idx_B)].mean() - x.loc[list(idx_A)].mean()"
   ]
  },
  {
   "cell_type": "code",
   "execution_count": 7,
   "metadata": {},
   "outputs": [
    {
     "name": "stdout",
     "output_type": "stream",
     "text": [
      "58.75238095238096\n"
     ]
    }
   ],
   "source": [
    "# 순열 검정 시행\n",
    "nA = session_times[session_times.Page == 'Page A'].shape[0]\n",
    "nB = session_times[session_times.Page == 'Page B'].shape[0]\n",
    "print(perm_fun(session_times.Time, nA, nB))"
   ]
  },
  {
   "cell_type": "code",
   "execution_count": 8,
   "metadata": {},
   "outputs": [
    {
     "data": {
      "image/png": "[encoded data removed]",
      "text/plain": [
       "<Figure size 500x500 with 1 Axes>"
      ]
     },
     "metadata": {},
     "output_type": "display_data"
    }
   ],
   "source": [
    "# 1000번 실행하여 히스토그램 시각화\n",
    "random.seed(1)\n",
    "perm_diffs = [perm_fun(session_times.Time, nA, nB) for _ in range(1000)]\n",
    "\n",
    "fig, ax = plt.subplots(figsize=(5, 5))\n",
    "ax.hist(perm_diffs, bins=11, rwidth=0.9)\n",
    "ax.axvline(x = mean_b - mean_a, color='black', lw=2)\n",
    "ax.text(50, 190, 'Observed\\ndifference', bbox={'facecolor':'white'})\n",
    "ax.set_xlabel('Session time differences (in seconds)')\n",
    "ax.set_ylabel('Frequency')\n",
    "\n",
    "plt.tight_layout()\n",
    "plt.show()"
   ]
  },
  {
   "cell_type": "code",
   "execution_count": 9,
   "metadata": {},
   "outputs": [
    {
     "name": "stdout",
     "output_type": "stream",
     "text": [
      "0.121\n"
     ]
    }
   ],
   "source": [
    "# 실제 차이를 넘어갈 확률\n",
    "# convert perm_diffs to numpy array to avoid problems with some Python installations\n",
    "perm_diffs = np.array(perm_diffs)\n",
    "print(np.mean(perm_diffs > mean_b - mean_a))"
   ]
  },
  {
   "cell_type": "markdown",
   "metadata": {},
   "source": [
    "12.1%로 세션 시간의 차이가 확률분포의 범위 내에 있음을 의미함 -> 차이가 통계적으로 유의하지 않음"
   ]
  },
  {
   "cell_type": "markdown",
   "metadata": {},
   "source": [
    "### C. 전체 및 부트스트랩 순열검정\n",
    "---\n",
    "- 순열검정의 두 가지 변종\n",
    "    - 전체순열검정(exhausitive permutation test)\n",
    "        - 데이터를 무작위로 섞고 나누는 대신 실제로 나눌 수 있는 모든 가능한 조합을 찾음\n",
    "        - 샘플 크기가 비교적 작을 때만 실용적\n",
    "        - 좀 더 정확한 결론을 보장 -> 정확검정(exact test)라고도 함\n",
    "    - 부트스트랩 순열검정(bootstrap permutation test)\n",
    "        - 무작위 순열검정의 2단계와 3단계의 비복원추출을 복원추출로 수행\n",
    "        - 모집단에서 개체를 선택할 때 임의성을 보장할 뿐만 아니라, 개체가 처리군에 할당될 때에도 임의성 보장"
   ]
  },
  {
   "cell_type": "markdown",
   "metadata": {},
   "source": [
    "### D. 순열검정: 데이터 과학의 최종 결론"
   ]
  },
  {
   "cell_type": "markdown",
   "metadata": {},
   "source": [
    "## 4. 통계적 유의성과 p값\n",
    "---\n",
    "- **통계적으로 유의하다**: 결과가 우연히 벌어질 수 있는 변동성의 바깥에 존재한다\n",
    "- **p 값(p-value)**: (귀무가설을 구체화한 기회 모델이 주어졌을 때) 관측된 결과와 같이 특이하거나 극단적인 결과를 얻을 확률\n",
    "- **$\\alpha$=alpha**: 실제 결과가 통계적으로 유의한 것으로 간주되기 위해, 우연에 의한 결과가 능가해야 하는 '비정상적인' 가능성의 임계 확률\n",
    "- **제1종 오류(type Ⅰ error)**: 우연에 의한 효과를 실제 효과라고 잘못 결론 내리는 것\n",
    "- **제2종 오류(type Ⅱ error)**: 실제 효과를 우연에 의한 효과라고 잘못 결론 내리는 것"
   ]
  },
  {
   "cell_type": "code",
   "execution_count": 10,
   "metadata": {},
   "outputs": [
    {
     "name": "stdout",
     "output_type": "stream",
     "text": [
      "Observed difference: 0.0368%\n"
     ]
    },
    {
     "data": {
      "image/png": "[encoded data removed]",
      "text/plain": [
       "<Figure size 500x500 with 1 Axes>"
      ]
     },
     "metadata": {},
     "output_type": "display_data"
    }
   ],
   "source": [
    "random.seed(1)\n",
    "obs_pct_diff = 100 * (200 / 23739 - 182 / 22588)\n",
    "print(f'Observed difference: {obs_pct_diff:.4f}%')\n",
    "conversion = [0] * 45945\n",
    "conversion.extend([1] * 382)\n",
    "conversion = pd.Series(conversion)\n",
    "\n",
    "perm_diffs = [100 * perm_fun(conversion, 23739, 22588)\n",
    "              for _ in range(1000)]\n",
    "\n",
    "fig, ax = plt.subplots(figsize=(5, 5))\n",
    "ax.hist(perm_diffs, bins=11, rwidth=0.9)\n",
    "ax.axvline(x=obs_pct_diff, color='black', lw=2)\n",
    "ax.text(0.06, 200, 'Observed\\ndifference', bbox={'facecolor':'white'})\n",
    "ax.set_xlabel('Conversion rate (percent)')\n",
    "ax.set_ylabel('Frequency')\n",
    "\n",
    "plt.tight_layout()\n",
    "plt.show()"
   ]
  },
  {
   "cell_type": "markdown",
   "metadata": {},
   "source": [
    "관측된 0.0368%의 차이는 랜덤 변이의 범위 내에 있음"
   ]
  },
  {
   "cell_type": "markdown",
   "metadata": {},
   "source": [
    "### A. p 값\n",
    "---\n",
    "- 확률모형이 관측된 결과보다 더 극단적인 결과를 생성하는 빈도\n",
    "- 순열검정의 결과 중에서 관찰된 차이와 같거나 더 큰 차이를 보이는 경우의 비율"
   ]
  },
  {
   "cell_type": "code",
   "execution_count": 11,
   "metadata": {},
   "outputs": [
    {
     "name": "stdout",
     "output_type": "stream",
     "text": [
      "0.332\n"
     ]
    }
   ],
   "source": [
    "print(np.mean([diff > obs_pct_diff for diff in perm_diffs]))"
   ]
  },
  {
   "cell_type": "code",
   "execution_count": 12,
   "metadata": {},
   "outputs": [
    {
     "name": "stdout",
     "output_type": "stream",
     "text": [
      "p-value for single sided test: 0.3498\n"
     ]
    }
   ],
   "source": [
    "# 가설이 이항분포를 따르므로 p 값을 정규근사함\n",
    "survivors = np.array([[200, 23739 - 200], [182, 22588 - 182]])\n",
    "chi2, p_value, df, _ = stats.chi2_contingency(survivors)\n",
    "\n",
    "print(f'p-value for single sided test: {p_value / 2:.4f}')"
   ]
  },
  {
   "cell_type": "markdown",
   "metadata": {},
   "source": [
    "### B. 유의수준"
   ]
  },
  {
   "cell_type": "markdown",
   "metadata": {},
   "source": [
    "```\n",
    "※ p 값의 진정한 의미\n",
    "논문 통과만을 생각하다보면 '결과가 우연에서 비롯될 확률'이라고 잘못 해석할 수 있다.\n",
    "'랜덤 모델이 주어졌을 때, 그 결과가 관찰된 결과보다 더 극단적인 확률'일 뿐이므로 p 값이 충분한 증거가 되기는 어렵다.\n",
    "```"
   ]
  },
  {
   "cell_type": "markdown",
   "metadata": {},
   "source": [
    "### C. 제1종과 제2종 오류\n",
    "---\n",
    "- 실제로 제2종 오류는 오류라기보단 '표본크기가 너무 작아 효과를 알아낼 수 없다고 판단'하는 것에 가깝다.\n",
    "- 표본크기가 더 클수록 p 값이 더 작아지기 마련이므로, p 값의 유의수준에 미치지 못하는 경우 '효과가 아직 입증되지 않았다'에 가깝다.\n",
    "- 유의성검정(가설검정)의 기본 목적에 따라 보통은 제1종 오류를 최소화하도록 설계한다."
   ]
  },
  {
   "cell_type": "markdown",
   "metadata": {},
   "source": [
    "### D. 데이터 과학과 p 값"
   ]
  },
  {
   "cell_type": "markdown",
   "metadata": {},
   "source": [
    "## 5. t 검정\n",
    "---\n",
    "- 가장 자주 사용됨\n",
    "- 1920년대와 1930년대 재표본 검정을 대체하기 위한 좋은 근사로써 사용\n",
    "- <ins>데이터가 수치형인 아주 일반적인 2표본 비교(A/B 검정)에 주로 사용</ins>\n",
    "---\n",
    "- **검정통계량(test statistic)**: 관심의 차이 또는 효과에 대한 측정 지표\n",
    "- **t 통계량(t-statistic)**: 평균처럼, *표준화*된 형태의 *일반적*인 검정통계량\n",
    "- **t 분포(t-distribution)**: 관측된 t 통계량을 비교할 수 있는 기준분포 (귀무가설에서 파생)"
   ]
  },
  {
   "cell_type": "code",
   "execution_count": 13,
   "metadata": {},
   "outputs": [
    {
     "name": "stdout",
     "output_type": "stream",
     "text": [
      "p-value for single sided test: 0.1408\n"
     ]
    }
   ],
   "source": [
    "res = stats.ttest_ind(session_times[session_times.Page == 'Page A'].Time,\n",
    "                      session_times[session_times.Page == 'Page B'].Time,\n",
    "                      equal_var=False)\n",
    "print(f'p-value for single sided test: {res.pvalue / 2:.4f}')"
   ]
  },
  {
   "cell_type": "code",
   "execution_count": 14,
   "metadata": {},
   "outputs": [
    {
     "name": "stdout",
     "output_type": "stream",
     "text": [
      "p-value: 0.1408\n"
     ]
    }
   ],
   "source": [
    "tstat, pvalue, df = sm.stats.ttest_ind(\n",
    "    session_times[session_times.Page == 'Page A'].Time,\n",
    "    session_times[session_times.Page == 'Page B'].Time,\n",
    "    usevar='unequal', alternative='smaller')\n",
    "print(f'p-value: {pvalue:.4f}')"
   ]
  },
  {
   "cell_type": "markdown",
   "metadata": {},
   "source": [
    "## 6. 다중검정\n",
    "---\n",
    "- **거짓 발견 비율(FDR, false discovery rate)**: 다중검정에서 *제1종 오류가 발생*하는 비율\n",
    "- **alpha infaltion**: *제1종 오류를 만들 확률이 알파가 더 많은 테스트를 수행할수록 증가*하는 다중검정 현상\n",
    "- **p 값 조정(adjustment of p-value)**: 동일한 데이터에 대해 다중검정을 수행하는 경우 필요\n",
    "- **과대적합(overfitting)**: 잡음까지 fitting"
   ]
  },
  {
   "cell_type": "markdown",
   "metadata": {},
   "source": [
    "```\n",
    "※ 알파 인플레이션\n",
    "유의수준 5%에서 무의미한 결과를 정확하게 검정할 확률이 0.95이다.\n",
    "따라서 n번 모두 무의미하다고 올바르게 검정할 확률은 0.95^{n}이다.\n",
    "적어도 하나의 예측값이 유의미하다고 잘못 검정할 확률은 1-0.95^{n}이 되는  현상을 말한다.\n",
    "\n",
    "이는 오버피팅 문제와 관련이 있으며, 지도 학습에서는 이런 위험을 낮추기 위해 홀드아웃 세트를 사용해 이전에 못 보던 데이터로 모델을 평가한다.\n",
    "```"
   ]
  },
  {
   "cell_type": "markdown",
   "metadata": {},
   "source": [
    "**p 값 조정**\n",
    "- 본페로니(Bonferroni) 수정: 간단히 알파를 비교 횟수 n으로 나눔\n",
    "- 투키의 정직유의차(HSD, honest significant differnce)"
   ]
  },
  {
   "cell_type": "markdown",
   "metadata": {},
   "source": [
    "## 7. 자유도\n",
    "---\n",
    "- **표본 크기 n**: 해당 데이터에서 관측값의 개수\n",
    "- **자유도(d.f., degrees of freedom)**: (표본 데이터에서 계산된 통계량에 적용되는) 변화가 가능한 값들의 개수"
   ]
  },
  {
   "cell_type": "markdown",
   "metadata": {},
   "source": [
    "```\n",
    "데이터 과학에서는 공식적인 통계 검정을 아주 드물게 사용하며, 대부분 데이터 크기가 충분히 크기 때문에 적어도 유의성검정에서는 중요하지 않다.\n",
    "그러나 회귀에서 요인변수를 사용할 때는 다중공선성 오차를 피하기 위해 이유로써 제시되는 중요한 개념이다.\n",
    "```"
   ]
  },
  {
   "cell_type": "markdown",
   "metadata": {},
   "source": [
    "## 8. 분산분석\n",
    "---\n",
    "- **분산분석(ANOVA, analysis of variance)**: *여러 그룹 간의 통계적으로 유의미한 차이를 검정*하는 통계적 절차\n",
    "- **쌍별 비교(pairwise comparison)**: *여러 그룹 중 두 그룹 간*의 (평균 등에 대한) 가설검정\n",
    "- **총괄검정(omnibus test)**: *여러 그룹 평균들의 전체 분산*에 관한 단일 가설검정\n",
    "- **분산분해(decomposition of variance)**: 구성 요소 분리\n",
    "    - 예시 - 전체 평균, 처리 평균, 잔차 오차로부터 개별 값들에 대한 기여\n",
    "- **F 통계량(F-statistic)**: *그룹 평균 간의 차이*가 랜덤 모델에서 예상되는 것에서 *벗어나는 정도*를 측정하는 표준화된 통계량\n",
    "- **SS(sum of sqaure)**: 어떤 평균으로부터의 *편차들의 제곱합*"
   ]
  },
  {
   "cell_type": "code",
   "execution_count": 19,
   "metadata": {},
   "outputs": [
    {
     "data": {
      "image/png": "[encoded data removed]",
      "text/plain": [
       "<Figure size 400x400 with 1 Axes>"
      ]
     },
     "metadata": {},
     "output_type": "display_data"
    }
   ],
   "source": [
    "four_sessions = pd.read_csv('../data/four_sessions.csv')\n",
    "\n",
    "ax = four_sessions.boxplot(by='Page', column='Time',\n",
    "                           figsize=(4, 4))\n",
    "ax.set_xlabel('Page')\n",
    "ax.set_ylabel('Time (in seconds)')\n",
    "plt.suptitle('')\n",
    "plt.title('')\n",
    "\n",
    "plt.tight_layout()\n",
    "plt.show()"
   ]
  },
  {
   "cell_type": "code",
   "execution_count": 20,
   "metadata": {},
   "outputs": [
    {
     "name": "stdout",
     "output_type": "stream",
     "text": [
      "     Page  Time\n",
      "0  Page 1   164\n",
      "1  Page 2   178\n",
      "2  Page 3   175\n",
      "3  Page 4   155\n",
      "4  Page 1   172\n"
     ]
    }
   ],
   "source": [
    "print(pd.read_csv('../data/four_sessions.csv').head())"
   ]
  },
  {
   "cell_type": "code",
   "execution_count": 21,
   "metadata": {},
   "outputs": [
    {
     "name": "stdout",
     "output_type": "stream",
     "text": [
      "Observed means: [172.8 182.6 175.6 164.6]\n",
      "Variance: 55.426666666666655\n",
      "11.346666666666744\n"
     ]
    }
   ],
   "source": [
    "# 순열검정 시행\n",
    "observed_variance = four_sessions.groupby('Page').mean().var().iloc[0]\n",
    "print('Observed means:', four_sessions.groupby('Page').mean().values.ravel())\n",
    "print('Variance:', observed_variance)\n",
    "# Permutation test example with stickiness\n",
    "def perm_test(df):\n",
    "    df = df.copy()\n",
    "    df['Time'] = np.random.permutation(df['Time'].values)\n",
    "    return df.groupby('Page').mean().var().iloc[0]\n",
    "\n",
    "print(perm_test(four_sessions))"
   ]
  },
  {
   "cell_type": "code",
   "execution_count": 22,
   "metadata": {},
   "outputs": [
    {
     "name": "stdout",
     "output_type": "stream",
     "text": [
      "Pr(Prob) 0.08033333333333334\n"
     ]
    },
    {
     "data": {
      "image/png": "[encoded data removed]",
      "text/plain": [
       "<Figure size 500x500 with 1 Axes>"
      ]
     },
     "metadata": {},
     "output_type": "display_data"
    }
   ],
   "source": [
    "random.seed(1)\n",
    "perm_variance = [perm_test(four_sessions) for _ in range(3000)]\n",
    "print('Pr(Prob)', np.mean([var > observed_variance for var in perm_variance]))\n",
    "\n",
    "fig, ax = plt.subplots(figsize=(5, 5))\n",
    "ax.hist(perm_variance, bins=11, rwidth=0.9)\n",
    "ax.axvline(x = observed_variance, color='black', lw=2)\n",
    "ax.text(60, 200, 'Observed\\nvariance', bbox={'facecolor':'white'})\n",
    "ax.set_xlabel('Variance')\n",
    "ax.set_ylabel('Frequency')\n",
    "\n",
    "plt.tight_layout()\n",
    "plt.show()"
   ]
  },
  {
   "cell_type": "markdown",
   "metadata": {},
   "source": [
    "네 페이지 사이의 응답률이 8.0% 정도의 확률로, 실제 관측값과 달라지는 경우가 우연히 발생할 수 있다. 이러한 비개연성의 정도가 통상적 임계치인 5%에 미치지 못하므로 네 페이지 간의 차이가 우연히 발생할 수 있다고, 즉 통계적으로 유의미하지 않다고 말할 수 있다."
   ]
  },
  {
   "cell_type": "markdown",
   "metadata": {},
   "source": [
    "### A. F 통계량\n",
    "---\n",
    "- 잔차 오차(residual error)로 인한 분산과 그룹 평균(처리 효과)의 분산에 대한 비율을 기초로 함\n",
    "- 이 비율이 높을수록 통계적으로 유의하다고 할 수 있음"
   ]
  },
  {
   "cell_type": "code",
   "execution_count": 23,
   "metadata": {},
   "outputs": [
    {
     "name": "stdout",
     "output_type": "stream",
     "text": [
      "            df  sum_sq     mean_sq         F    PR(>F)\n",
      "Page       3.0   831.4  277.133333  2.739825  0.077586\n",
      "Residual  16.0  1618.4  101.150000       NaN       NaN\n"
     ]
    }
   ],
   "source": [
    "model = smf.ols('Time ~ Page', data=four_sessions).fit()\n",
    "\n",
    "aov_table = sm.stats.anova_lm(model)\n",
    "print(aov_table)"
   ]
  },
  {
   "cell_type": "code",
   "execution_count": 24,
   "metadata": {},
   "outputs": [
    {
     "name": "stdout",
     "output_type": "stream",
     "text": [
      "F-Statistic: 1.3699\n",
      "p-value: 0.0388\n"
     ]
    }
   ],
   "source": [
    "res = stats.f_oneway(four_sessions[four_sessions.Page == 'Page 1'].Time,\n",
    "                     four_sessions[four_sessions.Page == 'Page 2'].Time,\n",
    "                     four_sessions[four_sessions.Page == 'Page 3'].Time,\n",
    "                     four_sessions[four_sessions.Page == 'Page 4'].Time)\n",
    "print(f'F-Statistic: {res.statistic / 2:.4f}')\n",
    "print(f'p-value: {res.pvalue / 2:.4f}')"
   ]
  },
  {
   "cell_type": "markdown",
   "metadata": {},
   "source": [
    "- df: 자유도\n",
    "- sum_sq: 제곱합\n",
    "- mean_sq: 평균제곱(평균제곱편차)\n",
    "- F: F 통계량\n",
    "\n",
    "[one-way ANOVA table](https://s3-us-west-2.amazonaws.com/courses-images/wp-content/uploads/sites/1888/2017/05/11171329/8636.png)"
   ]
  },
  {
   "cell_type": "markdown",
   "metadata": {},
   "source": [
    "### B. 이원 분산분석"
   ]
  },
  {
   "cell_type": "markdown",
   "metadata": {},
   "source": [
    "[two-way ANOVA table](https://s3-us-west-2.amazonaws.com/courses-images/wp-content/uploads/sites/1888/2017/05/11171421/098_fmt.png)\t "
   ]
  },
  {
   "cell_type": "markdown",
   "metadata": {},
   "source": [
    "## 9. 카이제곱검정\n",
    "---\n",
    "- 횟수 관련 데이터에서 주로 사용\n",
    "- 예상되는 분포에 *얼마나 잘 맞는지* 검정\n",
    "- 일반적으로 *변수 간 독립성*에 대한 귀무가설의 타당성 평가를 위해 $r×c$ 분할표를 함께 사용\n",
    "- $r$=row $c$=column\n",
    "---\n",
    "- **카이제곱 통계량(chi-square statistic)**: *기댓값으로부터 어떤 관찰값까지의 거리*를 나타내는 특정치\n",
    "- **기댓값(expectation, expected)**: 어떤 가정(보통 귀무가설)으로부터 데이터가 발생할 때, 그에 대해 기대하는 정도"
   ]
  },
  {
   "cell_type": "markdown",
   "metadata": {},
   "source": [
    "- 피어슨 잔차(Pearson residual): $R={{관측값 - 기댓값} \\over \\sqrt{기댓값}}$\n",
    "- 카이제곱 통계량 = 피어슨 잔차들의 제곱합: $\\Chi=\\sum _i^r \\sum _j^c R^2$"
   ]
  },
  {
   "cell_type": "markdown",
   "metadata": {},
   "source": [
    "### A. 재표본추출 방법"
   ]
  },
  {
   "cell_type": "code",
   "execution_count": 26,
   "metadata": {},
   "outputs": [
    {
     "name": "stdout",
     "output_type": "stream",
     "text": [
      "Headline  Headline A  Headline B  Headline C\n",
      "Click                                       \n",
      "Click             14           8          12\n",
      "No-click         986         992         988\n"
     ]
    }
   ],
   "source": [
    "# Table 3-4\n",
    "click_rate = pd.read_csv('../data/click_rates.csv')\n",
    "clicks = click_rate.pivot(index='Click', columns='Headline', values='Rate')\n",
    "print(clicks)"
   ]
  },
  {
   "cell_type": "code",
   "execution_count": 27,
   "metadata": {},
   "outputs": [
    {
     "data": {
      "text/html": [
       "<div>\n",
       "<style scoped>\n",
       "    .dataframe tbody tr th:only-of-type {\n",
       "        vertical-align: middle;\n",
       "    }\n",
       "\n",
       "    .dataframe tbody tr th {\n",
       "        vertical-align: top;\n",
       "    }\n",
       "\n",
       "    .dataframe thead th {\n",
       "        text-align: right;\n",
       "    }\n",
       "</style>\n",
       "<table border=\"1\" class=\"dataframe\">\n",
       "  <thead>\n",
       "    <tr style=\"text-align: right;\">\n",
       "      <th></th>\n",
       "      <th>Headline A</th>\n",
       "      <th>Headline B</th>\n",
       "      <th>Headline C</th>\n",
       "    </tr>\n",
       "    <tr>\n",
       "      <th>Click</th>\n",
       "      <th></th>\n",
       "      <th></th>\n",
       "      <th></th>\n",
       "    </tr>\n",
       "  </thead>\n",
       "  <tbody>\n",
       "    <tr>\n",
       "      <th>Click</th>\n",
       "      <td>11.333333</td>\n",
       "      <td>11.333333</td>\n",
       "      <td>11.333333</td>\n",
       "    </tr>\n",
       "    <tr>\n",
       "      <th>No-click</th>\n",
       "      <td>988.666667</td>\n",
       "      <td>988.666667</td>\n",
       "      <td>988.666667</td>\n",
       "    </tr>\n",
       "  </tbody>\n",
       "</table>\n",
       "</div>"
      ],
      "text/plain": [
       "          Headline A  Headline B  Headline C\n",
       "Click                                       \n",
       "Click      11.333333   11.333333   11.333333\n",
       "No-click  988.666667  988.666667  988.666667"
      ]
     },
     "execution_count": 27,
     "metadata": {},
     "output_type": "execute_result"
    }
   ],
   "source": [
    "# Table 3-5\n",
    "row_average = clicks.mean(axis=1)\n",
    "pd.DataFrame({\n",
    "    'Headline A': row_average,\n",
    "    'Headline B': row_average,\n",
    "    'Headline C': row_average,\n",
    "})"
   ]
  },
  {
   "cell_type": "code",
   "execution_count": 28,
   "metadata": {},
   "outputs": [
    {
     "name": "stdout",
     "output_type": "stream",
     "text": [
      "Observed chi2: 1.6659\n",
      "Resampled p-value: 0.4660\n"
     ]
    }
   ],
   "source": [
    "# Resampling approach\n",
    "box = [1] * 34\n",
    "box.extend([0] * 2966)\n",
    "random.shuffle(box)\n",
    "\n",
    "def chi2(observed, expected):\n",
    "    pearson_residuals = []\n",
    "    for row, expect in zip(observed, expected):\n",
    "        pearson_residuals.append([(observe - expect) ** 2 / expect\n",
    "                                  for observe in row])\n",
    "    # return sum of squares\n",
    "    return np.sum(pearson_residuals)\n",
    "\n",
    "expected_clicks = 34 / 3\n",
    "expected_noclicks = 1000 - expected_clicks\n",
    "expected = [expected_clicks, expected_noclicks]\n",
    "chi2observed = chi2(clicks.values, expected)\n",
    "\n",
    "def perm_fun(box):\n",
    "    random.shuffle(box)\n",
    "    sample_clicks = [sum(box[0:1000]),\n",
    "                     sum(box[1000:2000]),\n",
    "                     sum(box[2000:3000])]\n",
    "    sample_noclicks = [1000 - n for n in sample_clicks]\n",
    "    return chi2([sample_clicks, sample_noclicks], expected)\n",
    "\n",
    "perm_chi2 = [perm_fun(box) for _ in range(2000)]\n",
    "\n",
    "resampled_p_value = sum(perm_chi2 > chi2observed) / len(perm_chi2)\n",
    "print(f'Observed chi2: {chi2observed:.4f}')\n",
    "print(f'Resampled p-value: {resampled_p_value:.4f}')"
   ]
  },
  {
   "cell_type": "markdown",
   "metadata": {},
   "source": [
    "### B. 통계적 이론\n",
    "---\n",
    "$자유도=(r-1)×(c-1)$"
   ]
  },
  {
   "cell_type": "code",
   "execution_count": 29,
   "metadata": {},
   "outputs": [
    {
     "name": "stdout",
     "output_type": "stream",
     "text": [
      "Observed chi2: 1.6659\n",
      "p-value: 0.4348\n"
     ]
    }
   ],
   "source": [
    "chisq, pvalue, df, expected = stats.chi2_contingency(clicks)\n",
    "print(f'Observed chi2: {chisq:.4f}')\n",
    "print(f'p-value: {pvalue:.4f}')"
   ]
  },
  {
   "cell_type": "markdown",
   "metadata": {},
   "source": [
    "재표본추출로 얻은 값보다 약간 작은데, 카이제곱분포는 실제 통계 분포가 아니라 근사치이기 때문이다."
   ]
  },
  {
   "cell_type": "markdown",
   "metadata": {},
   "source": [
    "### C. 피셔의 정확검정\n",
    "---\n",
    "발생할 수 있는 모든 순열을 계산한다."
   ]
  },
  {
   "cell_type": "markdown",
   "metadata": {},
   "source": [
    "파이썬은 쉽게 사용할 수 있도록 구현해놓은 것이 없다. <br>\n",
    "R에서는 재표본추출로 얻은 p 값과 아주 가깝다고 한다.\n"
   ]
  },
  {
   "cell_type": "markdown",
   "metadata": {},
   "source": [
    "### D. 데이터 과학과의 관련성"
   ]
  },
  {
   "cell_type": "markdown",
   "metadata": {},
   "source": [
    "## 10. 멀티암드 밴딧 알고리즘"
   ]
  },
  {
   "cell_type": "markdown",
   "metadata": {},
   "source": []
  },
  {
   "cell_type": "code",
   "execution_count": null,
   "metadata": {},
   "outputs": [],
   "source": []
  }
 ],
 "metadata": {
  "kernelspec": {
   "display_name": "base",
   "language": "python",
   "name": "python3"
  },
  "language_info": {
   "codemirror_mode": {
    "name": "ipython",
    "version": 3
   },
   "file_extension": ".py",
   "mimetype": "text/x-python",
   "name": "python",
   "nbconvert_exporter": "python",
   "pygments_lexer": "ipython3",
   "version": "3.11.5"
  }
 },
 "nbformat": 4,
 "nbformat_minor": 2
}
