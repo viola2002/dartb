{
 "cells": [
  {
   "cell_type": "markdown",
   "metadata": {},
   "source": [
    "# Ⅰ. 탐색적 데이터 분석 (Exploratory Data Analysis)"
   ]
  },
  {
   "cell_type": "markdown",
   "metadata": {},
   "source": [
    "## 1. 정형화된 데이터의 요소\n",
    "---\n",
    "- **수치형(numeric)**: <ins>숫자</ins>를 이용해 표현할 수 있는 데이터\n",
    "    - **연속형(continuous)**: <ins>일정 숫자 범위 안에서 어떤 값</ins>이든 취할 수 있는 데이터\n",
    "        - 유의어 - 구간형, 실수형, 수치형 데이터\n",
    "        - 예시 - 풍속, 지속 시간\n",
    "    - **이산(discrete)**: 횟수와 같이 <ins>정수 값</ins>만 취할 수 있는 데이터\n",
    "        - 유의어 - 정수형, 횟수 데이터\n",
    "        - 예시 - 사건의 발생 빈도\n",
    "- **범주형(categorical)**: <ins>가능한 범주 안의 값</ins>만을 취하는 데이터\n",
    "    - **이진(binary)**: <ins>두 개의 값</ins>만을 갖는, 범주형 데이터의 특수한 경우\n",
    "        - 유의어 - 이항적, 논리형, 지표(indicator), 불리언(boolean) 데이터\n",
    "        - 예시 - 0/1, 예/아니오, 참/거짓\n",
    "    - **순서형(ordinal)**: 값들 사이에 분명한 <ins>순위</ins>가 있는 범주형 데이터\n",
    "        - 예시 - 수치로 나타낼 수 있는 평점"
   ]
  },
  {
   "cell_type": "markdown",
   "metadata": {},
   "source": [
    "## 2. 테이블 데이터\n",
    "---\n",
    "- **데이터 프레임(data frame)**: 통계와 머신러닝 모델에서 가장 기본이 되는 테이블 형태의 데이터 구조\n",
    "- **피처(feature)**: 일반적으로 테이블의 각 <ins>열(column)</ins>\n",
    "    - 유의어 - 특징, 속성, 예측변수(predictor), 변수, 입력(input)\n",
    "- **결과(outcome)**: 데이터 과학 프로젝트의 목표로 예측하고자 하는 것으로, 이를 위해 *피처*를 사용함\n",
    "    - 유의어 - 종속변수, 목표, 출력(output)\n",
    "- **레코드(record)**: 일반적으로 테이블의 각 <ins>행(row)</ins>\n",
    "    - 유의어 - 기록값, 사건(case), 관측값, 패턴, 샘플\n",
    "---\n",
    "- [R의 데이터 종류](http://www.r-tutor.com/r-introduction/basic-data-types)\n",
    "- [SQL 가이드 자료](https://www.w3schools.com/sql/sql_datatypes.asp)"
   ]
  },
  {
   "cell_type": "markdown",
   "metadata": {},
   "source": [
    "### A. 데이터 프레임과 인덱스"
   ]
  },
  {
   "cell_type": "markdown",
   "metadata": {},
   "source": [
    "```\n",
    "※ 학문마다 서로 다른 용어를 사용함에 유의\n",
    "\n",
    "예시 1\n",
    "통계학자들은 *종속변수*를 예측하는 모델에서 *예측변수*라는 용어를 사용한다.\n",
    "같은 상황에서 데이터 과학자들은 *목표*를 예측하는 데 *피처*를 사용한다고 표현한다.\n",
    "\n",
    "예시 2\n",
    "컴퓨터 과학과 정보공학에서 graph는 어떤 개체들 사이의 연결 관계를 묘사하는 도구이다.\n",
    "통계학에서 graph는 그보다는 다양한 도표 혹은 시각화(visualization) 방법을 의미한다.\n",
    "```"
   ]
  },
  {
   "cell_type": "markdown",
   "metadata": {},
   "source": [
    "### B. 테이블 형식이 아닌 데이터 구조\n",
    "---\n",
    "- **시계열 데이터**: 동일한 변수 안에 연속적은 측정값을 가짐\n",
    "- **공간 데이터**\n",
    "    - 객체(object)\n",
    "        - 어떤 객체와 그것의 공간 좌표가 중심이 됨\n",
    "        - 예시 - 주택의 좌표\n",
    "    - 필드(field) 정보\n",
    "        - 공간을 나타내는 작은 단위들과 적당한 측정 기준값에 중점\n",
    "        - 예시 - 픽셀의 밝기\n",
    "- **그래프(or 네트워크) 데이터**: 물리적 관계, 사회적 관계 등 표현\n"
   ]
  },
  {
   "cell_type": "markdown",
   "metadata": {},
   "source": [
    "## 3. 위치 추정\n",
    "---\n",
    "- 평균(mean): 모든 값의 총합을 개수로 나눈 값\n",
    "- 가중평균: 가중치를 곱한 값의 총합을 가중치의 총합으로 나누 값\n",
    "- 중간값: 데이터에서 가장 가운데 위치한 값\n",
    "- 백분위수: 전체의 P%를 아래에 두는 값\n",
    "- 가중 중간값: 데이터를 정렬한 후, 각 가중치 값을 위에서부터 더할 때, 총합의 중간이 위치하는 데이터 값\n",
    "- 절사평균: 정해진 개수의 극단값을 제외한 나머지 값들의 평균\n",
    "- 로버스트(robust)하다 = 극단값들에 민감하지 않다 = 저항성(resistant) 있다\n",
    "- 특잇값: 대부분의 값과 매우 다른 데이터 값"
   ]
  },
  {
   "cell_type": "markdown",
   "metadata": {},
   "source": [
    "\n",
    "```\n",
    "통계학은 궁극적으로 불확실성을 이해하고자 하므로, 데이터로부터 계산된 값들에 \"추정값(estimate)\"이라는 용어를 사용한다.\n",
    "데이터 과학은 구체적인 비즈니스나 조직의 목표치에 관심이 있으므로, 이러한 값들을 \"측정 지표(metric)\"이라고 부른다.\n",
    "```"
   ]
  },
  {
   "cell_type": "markdown",
   "metadata": {},
   "source": [
    "### A. 평균\n",
    "---\n",
    "- 평균\n",
    "- 절사평균\n",
    "- 가중평균"
   ]
  },
  {
   "cell_type": "markdown",
   "metadata": {},
   "source": [
    "### B. 중간값과 로버스트 추정\n",
    "---\n",
    "- 중간값\n",
    "- 가중 중간값\n",
    "- 특잇값"
   ]
  },
  {
   "cell_type": "markdown",
   "metadata": {},
   "source": [
    "### C. 예제\n",
    "---\n",
    "인구에 따른 살인 비율의 위치 추정"
   ]
  },
  {
   "cell_type": "code",
   "execution_count": 3,
   "metadata": {},
   "outputs": [],
   "source": [
    "import pandas as pd\n",
    "from scipy.stats import trim_mean\n",
    "import numpy as np\n",
    "import wquantiles\n",
    "\n",
    "state = pd.read_csv('../data/state.csv')"
   ]
  },
  {
   "cell_type": "code",
   "execution_count": 4,
   "metadata": {},
   "outputs": [
    {
     "name": "stdout",
     "output_type": "stream",
     "text": [
      "6162876.3\n",
      "4783697.125\n",
      "4436369.5\n"
     ]
    }
   ],
   "source": [
    "print(state['Population'].mean())\n",
    "print(trim_mean(state['Population'], 0.1)) # 각 끝에서 10% 제외외\n",
    "print(state['Population'].median())"
   ]
  },
  {
   "cell_type": "code",
   "execution_count": 5,
   "metadata": {},
   "outputs": [
    {
     "name": "stdout",
     "output_type": "stream",
     "text": [
      "4.445833981123393\n",
      "4.4\n"
     ]
    }
   ],
   "source": [
    "print(np.average(state['Murder.Rate'],weights=state['Population']))\n",
    "print(wquantiles.median(state['Murder.Rate'], weights=state['Population']))"
   ]
  },
  {
   "cell_type": "markdown",
   "metadata": {},
   "source": [
    "```\n",
    "\n",
    "```"
   ]
  },
  {
   "cell_type": "markdown",
   "metadata": {},
   "source": [
    "## 4. 변이 추정\n",
    "---\n",
    "- 위치: 데이터의 특징을 요약하는 다양한 요소 중 하나\n",
    "- 변이(variability): 데이터 값이 얼마나 밀집해 있는지 혹은 퍼져 있는지를 나타내는 산포도(dispersion)\n",
    "\n",
    "- 편차: 관측값과 위치 추정값 사이의 차이\n",
    "- 분산: 평균과의 편차를 제곱한 값들의 합을 n-1로 나눈 값. n은 데이터 개수\n",
    "- 표준편차: 분산의 제곱근\n",
    "- 평균절대편차: 평균과의 편차 절댓값의 평균\n",
    "- 중간값의 중위절대편차(MAD): 중간값과의 편차 절댓값의 중간값\n",
    "- 범위: 데이터의 최댓값과 최솟값의 차이\n",
    "- 순서통계량: 최소에서 최대까지 정렬된 데이터 값에 따른 계량형\n",
    "- 백분위수: 어떤 값들의 P%가 이 값 또는 더 작은 값을 갖고, (100-P)%가 이 값 또는 더 큰 값을 갖도록 하는 값\n",
    "- 사분위범위(IQR): 75번째 백분위수와 25번째 백분위수 사이의 차이"
   ]
  },
  {
   "cell_type": "markdown",
   "metadata": {},
   "source": [
    "### A. 표준편차와 관련 추정값들\n",
    "---\n",
    "- 평균절대편차\n",
    "- 분산\n",
    "- 표준편차"
   ]
  },
  {
   "cell_type": "markdown",
   "metadata": {},
   "source": [
    "```\n",
    "※ 자유도 n? n-1?\n",
    "```"
   ]
  },
  {
   "cell_type": "markdown",
   "metadata": {},
   "source": [
    "### B. 백분위수에 기초한 추정\n",
    "---\n",
    "- 백분위수"
   ]
  },
  {
   "cell_type": "markdown",
   "metadata": {},
   "source": [
    "### C. 예제\n",
    "---\n",
    "주별 인구의 변이 추정"
   ]
  },
  {
   "cell_type": "code",
   "execution_count": 7,
   "metadata": {},
   "outputs": [],
   "source": [
    "from statsmodels import robust"
   ]
  },
  {
   "cell_type": "code",
   "execution_count": 8,
   "metadata": {},
   "outputs": [
    {
     "name": "stdout",
     "output_type": "stream",
     "text": [
      "6848235.347401142\n",
      "4847308.0\n",
      "3849876.1459979336\n"
     ]
    }
   ],
   "source": [
    "print(state['Population'].std())\n",
    "print(state['Population'].quantile(0.75) - state['Population'].quantile(0.25))\n",
    "print(robust.scale.mad(state['Population']))"
   ]
  },
  {
   "cell_type": "markdown",
   "metadata": {},
   "source": [
    "## 5. 데이터 분포 탐색\n",
    "---\n",
    "- 상자그림: 투키가 데이터의 분포를 시각화 하기 위한 간단한 방법으로 소개한 그림\n",
    "- 도수분포표: 어떤 구간(빈)에 해당하는 수치 데이터 값들의 빈도를 나타내는 기록\n",
    "- 히스토그램: x축은 구간 y축은 빈도수를 나타내는 도수 테이블의 그림\n",
    "- 밀도 그림: 히스토그램을 부드러운 곡선으로 나타내느 그림. 커널밀도추정(KDE)을 주로 사용함"
   ]
  },
  {
   "cell_type": "markdown",
   "metadata": {},
   "source": [
    "### A. 백분위수와 상자그림"
   ]
  },
  {
   "cell_type": "code",
   "execution_count": 12,
   "metadata": {},
   "outputs": [],
   "source": [
    "import matplotlib.pyplot as plt"
   ]
  },
  {
   "cell_type": "code",
   "execution_count": 13,
   "metadata": {},
   "outputs": [
    {
     "name": "stdout",
     "output_type": "stream",
     "text": [
      "0.05    1.600\n",
      "0.25    2.425\n",
      "0.50    4.000\n",
      "0.75    5.550\n",
      "0.95    6.510\n",
      "Name: Murder.Rate, dtype: float64\n"
     ]
    }
   ],
   "source": [
    "print(state['Murder.Rate'].quantile([0.05, 0.25, 0.5, 0.75, 0.95]))"
   ]
  },
  {
   "cell_type": "code",
   "execution_count": 16,
   "metadata": {},
   "outputs": [
    {
     "name": "stdout",
     "output_type": "stream",
     "text": [
      "             5.0%  25.0%  50.0%  75.0%  95.0%\n",
      "Murder.Rate   1.6  2.425    4.0   5.55   6.51\n"
     ]
    }
   ],
   "source": [
    "percentages = [0.05, 0.25, 0.5, 0.75, 0.95]\n",
    "df = pd.DataFrame(state['Murder.Rate'].quantile(percentages))\n",
    "df.index = [f'{p * 100}%' for p in percentages]\n",
    "print(df.transpose())"
   ]
  },
  {
   "cell_type": "code",
   "execution_count": 14,
   "metadata": {},
   "outputs": [
    {
     "data": {
      "image/png": "[encoded data removed]",
      "text/plain": [
       "<Figure size 300x400 with 1 Axes>"
      ]
     },
     "metadata": {},
     "output_type": "display_data"
    }
   ],
   "source": [
    "ax = (state['Population']/1_000_000).plot.box(figsize=(3, 4))\n",
    "ax.set_ylabel('Population (millions)')\n",
    "\n",
    "plt.tight_layout()\n",
    "plt.show()"
   ]
  },
  {
   "cell_type": "markdown",
   "metadata": {},
   "source": [
    "### B. 도수분포표와 히스토그램"
   ]
  },
  {
   "cell_type": "code",
   "execution_count": 15,
   "metadata": {},
   "outputs": [
    {
     "name": "stdout",
     "output_type": "stream",
     "text": [
      "Population\n",
      "(526935.67, 4232659.0]      24\n",
      "(4232659.0, 7901692.0]      14\n",
      "(7901692.0, 11570725.0]      6\n",
      "(11570725.0, 15239758.0]     2\n",
      "(15239758.0, 18908791.0]     1\n",
      "(18908791.0, 22577824.0]     1\n",
      "(22577824.0, 26246857.0]     1\n",
      "(33584923.0, 37253956.0]     1\n",
      "(26246857.0, 29915890.0]     0\n",
      "(29915890.0, 33584923.0]     0\n",
      "Name: count, dtype: int64\n"
     ]
    }
   ],
   "source": [
    "binnedPopulation = pd.cut(state['Population'], 10)\n",
    "print(binnedPopulation.value_counts())"
   ]
  },
  {
   "cell_type": "markdown",
   "metadata": {},
   "source": [
    "```\n",
    "구간의 크기를 바꿔보는 것도 유용한 정보를 얻는 좋은 방법이다.\n",
    "만약 크기가 너무 크면 분포를 나타내는 중요한 특징을 놓칠 수 있다.\n",
    "반대로 너무 작아도 결과가 너무 쪼개져 있어서 더 큰 그림을 볼 수가 없게 된다.\n",
    "```"
   ]
  },
  {
   "cell_type": "code",
   "execution_count": 17,
   "metadata": {},
   "outputs": [
    {
     "name": "stdout",
     "output_type": "stream",
     "text": [
      "                   BinRange  Count  \\\n",
      "0    (526935.67, 4232659.0]     24   \n",
      "1    (4232659.0, 7901692.0]     14   \n",
      "2   (7901692.0, 11570725.0]      6   \n",
      "3  (11570725.0, 15239758.0]      2   \n",
      "4  (15239758.0, 18908791.0]      1   \n",
      "5  (18908791.0, 22577824.0]      1   \n",
      "6  (22577824.0, 26246857.0]      1   \n",
      "7  (26246857.0, 29915890.0]      0   \n",
      "8  (29915890.0, 33584923.0]      0   \n",
      "9  (33584923.0, 37253956.0]      1   \n",
      "\n",
      "                                              States  \n",
      "0  WY,VT,ND,AK,SD,DE,MT,RI,NH,ME,HI,ID,NE,WV,NM,N...  \n",
      "1          KY,LA,SC,AL,CO,MN,WI,MD,MO,TN,AZ,IN,MA,WA  \n",
      "2                                  VA,NJ,NC,GA,MI,OH  \n",
      "3                                              PA,IL  \n",
      "4                                                 FL  \n",
      "5                                                 NY  \n",
      "6                                                 TX  \n",
      "7                                                     \n",
      "8                                                     \n",
      "9                                                 CA  \n"
     ]
    }
   ],
   "source": [
    "binnedPopulation.name = 'binnedPopulation'\n",
    "df = pd.concat([state, binnedPopulation], axis=1)\n",
    "df = df.sort_values(by='Population')\n",
    "\n",
    "groups = []\n",
    "for group, subset in df.groupby(by='binnedPopulation', observed=False):\n",
    "    groups.append({\n",
    "        'BinRange': group,\n",
    "        'Count': len(subset),\n",
    "        'States': ','.join(subset.Abbreviation)\n",
    "    })\n",
    "print(pd.DataFrame(groups))"
   ]
  },
  {
   "cell_type": "code",
   "execution_count": 18,
   "metadata": {},
   "outputs": [
    {
     "data": {
      "image/png": "[encoded data removed]",
      "text/plain": [
       "<Figure size 400x400 with 1 Axes>"
      ]
     },
     "metadata": {},
     "output_type": "display_data"
    }
   ],
   "source": [
    "ax = (state['Population'] / 1_000_000).plot.hist(figsize=(4, 4))\n",
    "ax.set_xlabel('Population (millions)')\n",
    "\n",
    "plt.tight_layout()\n",
    "plt.show()"
   ]
  },
  {
   "cell_type": "markdown",
   "metadata": {},
   "source": [
    "```\n",
    "통계학에서 말하는 모멘트\n",
    "```"
   ]
  },
  {
   "cell_type": "markdown",
   "metadata": {},
   "source": [
    "### C. 밀도 그림과 추정"
   ]
  },
  {
   "cell_type": "code",
   "execution_count": null,
   "metadata": {},
   "outputs": [
    {
     "data": {
      "image/png": "[encoded data removed]",
      "text/plain": [
       "<Figure size 400x400 with 1 Axes>"
      ]
     },
     "metadata": {},
     "output_type": "display_data"
    }
   ],
   "source": [
    "ax = state['Murder.Rate'].plot.hist(density=True, xlim=[0, 12],\n",
    "                                    bins=range(1,12), figsize=(4, 4))\n",
    "state['Murder.Rate'].plot.density(ax=ax)\n",
    "ax.set_xlabel('Murder Rate (per 100,000)')\n",
    "\n",
    "plt.tight_layout()\n",
    "plt.show()"
   ]
  },
  {
   "cell_type": "markdown",
   "metadata": {},
   "source": [
    "```\n",
    "밀도추정은 기본 함수를 사용하는 것으로도 충분함\n",
    "```"
   ]
  },
  {
   "cell_type": "markdown",
   "metadata": {},
   "source": [
    "## 2. 이진 데이터와 범주 데이터 탐색하기\n",
    "---\n",
    "- 최빈값: 데이터에서 가장 자주 등장하는 범주 혹은 값\n",
    "- 기댓값: 범주에 해당하는 어떤 수치가 있을 때 범주의 출현 확률에 따른 평균\n",
    "- 막대도표: 각 범주의 빈도수 혹은 비율을 막대로 나타낸 그림\n",
    "- 파이그림: 각 범주의 빈도수 혹은 비율을 원의 부채꼴 모양으로 나타낸 그림"
   ]
  },
  {
   "cell_type": "markdown",
   "metadata": {},
   "source": [
    "### A. 최빈값"
   ]
  },
  {
   "cell_type": "markdown",
   "metadata": {},
   "source": [
    "### B. 기댓값"
   ]
  },
  {
   "cell_type": "markdown",
   "metadata": {},
   "source": [
    "### C. 확률"
   ]
  },
  {
   "cell_type": "markdown",
   "metadata": {},
   "source": [
    "## 7. 상관관계\n",
    "---\n",
    "- 상관계수: 수치적 변수들 간에 어떤 관계가 있는지를 나타내기 위해 사용되는 측정량 (-1 ~ +1)\n",
    "- 상관행렬: 행과 열이 변수들을 의미하는 표\n",
    "- 산점도: x축과 y축이 서로 다른 두 개의 변수를 나타내는 도표"
   ]
  },
  {
   "cell_type": "code",
   "execution_count": 24,
   "metadata": {},
   "outputs": [],
   "source": [
    "import seaborn as sns\n",
    "\n",
    "sp500_sym = pd.read_csv('../data/sp500_sectors.csv')\n",
    "sp500_px = pd.read_csv('../data/sp500_data.csv', index_col=0)"
   ]
  },
  {
   "cell_type": "code",
   "execution_count": 25,
   "metadata": {},
   "outputs": [
    {
     "name": "stdout",
     "output_type": "stream",
     "text": [
      "                 XLI       QQQ       SPY       DIA       GLD    VXX       USO  \\\n",
      "2012-07-02 -0.376098  0.096313  0.028223 -0.242796  0.419998 -10.40  0.000000   \n",
      "2012-07-03  0.376099  0.481576  0.874936  0.728405  0.490006  -3.52  0.250000   \n",
      "2012-07-05  0.150440  0.096313 -0.103487  0.149420  0.239991   6.56 -0.070000   \n",
      "2012-07-06 -0.141040 -0.491201  0.018819 -0.205449 -0.519989  -8.80 -0.180000   \n",
      "2012-07-09  0.244465 -0.048160 -0.056445 -0.168094  0.429992  -0.48  0.459999   \n",
      "\n",
      "                 IWM       XLE       XLY       XLU       XLB       XTL  \\\n",
      "2012-07-02  0.534641  0.028186  0.095759  0.098311 -0.093713  0.019076   \n",
      "2012-07-03  0.926067  0.995942  0.000000 -0.044686  0.337373  0.000000   \n",
      "2012-07-05 -0.171848 -0.460387  0.306431 -0.151938  0.103086  0.019072   \n",
      "2012-07-06 -0.229128  0.206706  0.153214  0.080437  0.018744 -0.429213   \n",
      "2012-07-09 -0.190939 -0.234892 -0.201098 -0.035751 -0.168687  0.000000   \n",
      "\n",
      "                 XLV       XLP       XLF       XLK  \n",
      "2012-07-02 -0.009529  0.313499  0.018999  0.075668  \n",
      "2012-07-03  0.000000  0.129087  0.104492  0.236462  \n",
      "2012-07-05 -0.142955 -0.073766 -0.142490  0.066211  \n",
      "2012-07-06 -0.095304  0.119865  0.066495 -0.227003  \n",
      "2012-07-09  0.352630 -0.064548  0.018999  0.009457  \n"
     ]
    }
   ],
   "source": [
    "etfs = sp500_px.loc[sp500_px.index > '2012-07-01',\n",
    "                    sp500_sym[sp500_sym['sector'] == 'etf']['symbol']]\n",
    "print(etfs.head())"
   ]
  },
  {
   "cell_type": "code",
   "execution_count": null,
   "metadata": {},
   "outputs": [
    {
     "data": {
      "image/png": "[encoded data removed]",
      "text/plain": [
       "<Figure size 500x400 with 2 Axes>"
      ]
     },
     "metadata": {},
     "output_type": "display_data"
    }
   ],
   "source": [
    "fig, ax = plt.subplots(figsize=(5, 4))\n",
    "ax = sns.heatmap(etfs.corr(), vmin=-1, vmax=1,\n",
    "                 cmap=sns.diverging_palette(20, 220, as_cmap=True),\n",
    "                 ax=ax)\n",
    "\n",
    "plt.tight_layout()\n",
    "plt.show()"
   ]
  },
  {
   "cell_type": "code",
   "execution_count": null,
   "metadata": {},
   "outputs": [],
   "source": []
  }
 ],
 "metadata": {
  "kernelspec": {
   "display_name": "base",
   "language": "python",
   "name": "python3"
  },
  "language_info": {
   "codemirror_mode": {
    "name": "ipython",
    "version": 3
   },
   "file_extension": ".py",
   "mimetype": "text/x-python",
   "name": "python",
   "nbconvert_exporter": "python",
   "pygments_lexer": "ipython3",
   "version": "3.11.5"
  }
 },
 "nbformat": 4,
 "nbformat_minor": 2
}
