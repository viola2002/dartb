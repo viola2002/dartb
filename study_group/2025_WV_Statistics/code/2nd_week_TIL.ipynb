{
 "cells": [
  {
   "cell_type": "markdown",
   "metadata": {},
   "source": [
    "# Ⅱ. 데이터와 표본분포"
   ]
  },
  {
   "cell_type": "markdown",
   "metadata": {},
   "source": [
    "## 1. 임의표본추출과 표본편향\n",
    "---\n",
    "- **표본(sample)**: 더 큰 데이터 집합으로부터 얻은 데이터의 부분집합\n",
    "- **모집단(population)**: 어떤 데이터 집합을 구성하는 전체 대상 혹은 전체 집합\n",
    "- **N(n)**: 모집단(표본)의 크기\n",
    "- **임의표본추출(= 랜덤표본추출, random sampling)**: 무작위로 표본을 추출하는 것\n",
    "- **단순임의표본(simple random sample)**: 모집단 층화 없이 임의표본추출로 얻은 표본\n",
    "- **층화표본추출(stratified sampling)**: 모집단을 층으로 나눈 뒤, 각 층에서 무작위로 표본을 추출하는 것\n",
    "    - 예시 - 백인, 흑인, 라틴계 유권자들의 투표 성향\n",
    "- **계층(stratum pl.strata)**: 공통된 특징을 가진 모집단의 동종 하위 그룹\n",
    "- **편향(bias)**: 계통상의 오류\n",
    "- **표본편향(sample bias)**: 모집단을 잘못 대표하는 표본\n",
    "<br></br>\n",
    "- **복원추출(with replacement)**\n",
    "- **비복원추출(without replacement)**"
   ]
  },
  {
   "cell_type": "markdown",
   "metadata": {},
   "source": [
    "### A. 편향\n",
    "---\n",
    "- **통계적 편향**: 측정 과정 혹은 표본추출 과정에서 발생하는 계통적인 오차\n",
    "- 임의표본추출로 인한 오류 (빗나간 총알) vs 편향에 따른 오류 (치우친 탄착군)"
   ]
  },
  {
   "cell_type": "markdown",
   "metadata": {},
   "source": [
    "### B. 임의 선택"
   ]
  },
  {
   "cell_type": "markdown",
   "metadata": {},
   "source": [
    "### C. 크기와 품질: 크기는 언제 중요해질까?"
   ]
  },
  {
   "cell_type": "markdown",
   "metadata": {},
   "source": [
    "### D. 표본평균과 모평균\n",
    "---\n",
    "- **$\\bar{x}$ vs $\\mu$**\n",
    "    - $\\bar{x}$\n",
    "        - 모집단의 표본평균\n",
    "        - *관찰*을 통해 얻어짐\n",
    "    - $\\mu$\n",
    "        - 모집단의 평균\n",
    "        - 주로 작은 표본들로부터 *추론*함"
   ]
  },
  {
   "cell_type": "markdown",
   "metadata": {},
   "source": [
    "## 2. 선택편향\n",
    "---\n",
    "- **선택편향(selection bias)**: 관측 데이터를 선택하는 방식 때문에 생기는 편향\n",
    "- **data snooping**\n",
    "- **방대한 검색 효과(vast search effect)**"
   ]
  },
  {
   "cell_type": "markdown",
   "metadata": {},
   "source": [
    "### A. 평균으로의 회귀\n",
    "---\n",
    "- 예외적인 경우가 관찰되면 그다음에는 중간 정도의 경우가 관찰되는 경향\n",
    "- 이 예외 경우를 너무 특별히 생각하고 의미를 부여하면 선택편향으로 이어질 수 있음\n",
    "```\n",
    "여기서 '회귀'는 단순히 '돌아간다'는 개념으로 선형 회귀와는 다르다.\n",
    "```"
   ]
  },
  {
   "cell_type": "markdown",
   "metadata": {},
   "source": [
    "## 3. 통계학에서의 표본분포\n",
    "---\n",
    "- **표본통계량(sample statistic)**: 더 큰 모집단에서 추출된 표본 데이터들로부터 얻은 측정 지표\n",
    "- **데이터 분포(data distribution)**: 어떤 데이터 집합에서의 각 개별 값의 도수분포\n",
    "- **표본분포(sampling distribution)**: 여러 표본들 혹은 재표본들로부터 얻은 표본통계량의 도수분포\n",
    "- **중심극한정리(Central Limit Theorem)**: 표본크기가 커질수록 표본분포가 정규분포를 따르는 경향\n",
    "- **표준오차(standard error)**: 여러 표본들로부터 얻은 표본통계량의 변동성\n",
    "    - 개별 데이터 값들의 변동성을 뜻하는 *표준편차*와 혼동하지 말 것\n",
    "<br></br>\n",
    "- **표본의 변동성(sampling variability)**"
   ]
  },
  {
   "cell_type": "markdown",
   "metadata": {},
   "source": [
    "```\n",
    "개별 데이터 포인트의 분포(데이터 분포)와 표본통계량의 분포(표본분포)를 잘 구별해야 함\n",
    "```"
   ]
  },
  {
   "cell_type": "code",
   "execution_count": 1,
   "metadata": {},
   "outputs": [],
   "source": [
    "import pandas as pd\n",
    "import numpy as np\n",
    "from scipy import stats\n",
    "from sklearn.utils import resample\n",
    "\n",
    "import seaborn as sns\n",
    "import matplotlib.pylab as plt"
   ]
  },
  {
   "cell_type": "code",
   "execution_count": 2,
   "metadata": {},
   "outputs": [
    {
     "name": "stdout",
     "output_type": "stream",
     "text": [
      "         income  type\n",
      "11473   33532.0  Data\n",
      "7196    98000.0  Data\n",
      "6911    90000.0  Data\n",
      "40133   50000.0  Data\n",
      "45685  190000.0  Data\n"
     ]
    }
   ],
   "source": [
    "loans_income = pd.read_csv('../data/loans_income.csv').squeeze('columns')\n",
    "\n",
    "sample_data = pd.DataFrame({\n",
    "    'income': loans_income.sample(1000),\n",
    "    'type': 'Data',\n",
    "})\n",
    "\n",
    "sample_mean_05 = pd.DataFrame({\n",
    "    'income': [loans_income.sample(5).mean() for _ in range(1000)],\n",
    "    'type': 'Mean of 5',\n",
    "})\n",
    "\n",
    "sample_mean_20 = pd.DataFrame({\n",
    "    'income': [loans_income.sample(20).mean() for _ in range(1000)],\n",
    "    'type': 'Mean of 20',\n",
    "})\n",
    "\n",
    "results = pd.concat([sample_data, sample_mean_05, sample_mean_20])\n",
    "print(results.head())"
   ]
  },
  {
   "cell_type": "code",
   "execution_count": 3,
   "metadata": {},
   "outputs": [
    {
     "name": "stderr",
     "output_type": "stream",
     "text": [
      "c:\\Users\\Yeo\\anaconda3\\Lib\\site-packages\\seaborn\\axisgrid.py:118: UserWarning: The figure layout has changed to tight\n",
      "  self._figure.tight_layout(*args, **kwargs)\n",
      "C:\\Users\\Yeo\\AppData\\Local\\Temp\\ipykernel_11100\\723397296.py:7: UserWarning: The figure layout has changed to tight\n",
      "  plt.tight_layout()\n"
     ]
    },
    {
     "data": {
      "image/png": "[encoded data removed]",
      "text/plain": [
       "<Figure size 400x600 with 3 Axes>"
      ]
     },
     "metadata": {},
     "output_type": "display_data"
    }
   ],
   "source": [
    "g = sns.FacetGrid(results, col='type', col_wrap=1,\n",
    "                  height=2, aspect=2)\n",
    "g.map(plt.hist, 'income', range=[0, 200000], bins=40)\n",
    "g.set_axis_labels('Income', 'Count')\n",
    "g.set_titles('{col_name}')\n",
    "\n",
    "plt.tight_layout()\n",
    "plt.show()"
   ]
  },
  {
   "cell_type": "markdown",
   "metadata": {},
   "source": [
    "### A. 중심극한정리"
   ]
  },
  {
   "cell_type": "markdown",
   "metadata": {},
   "source": [
    "### B. 표준오차\n",
    "---\n",
    "- 통계에 대한 표본분포의 변동성을 나타내는 단일 측정 지표\n",
    "- $SE={s \\over \\sqrt{n}}$\n",
    "- **n 제곱근의 법칙(square-root of n rule)**: 표준오차를 $n$배로 줄이려면 표본 크기를 $n^2$배 증가시켜야 함"
   ]
  },
  {
   "cell_type": "markdown",
   "metadata": {},
   "source": [
    "## 4. 부트스트랩\n",
    "---\n",
    "- **부트스트랩(bootstrap)**: *현재 있는 표본*에서 추가적으로 표본을 복원추출하고 각 표본에 대한 통계량과 모델을 다시 계산하는 것\n",
    "- 부트스트랩 표본\n",
    "- **재표본추출(resampling)**: 관측 데이터로부터 반복해서 표본추출하는 과정\n",
    "    - 부트스트랩과 순열(셔플링) 과정 포함"
   ]
  },
  {
   "cell_type": "code",
   "execution_count": 4,
   "metadata": {},
   "outputs": [
    {
     "name": "stdout",
     "output_type": "stream",
     "text": [
      "Bootstrap Statistics:\n",
      "original: 62000.0\n",
      "bias: -73.71199999999953\n",
      "std. error: 213.34648996592622\n"
     ]
    }
   ],
   "source": [
    "results = []\n",
    "for nrepeat in range(1000):\n",
    "    sample = resample(loans_income)\n",
    "    results.append(sample.median())\n",
    "results = pd.Series(results)\n",
    "print('Bootstrap Statistics:')\n",
    "print(f'original: {loans_income.median()}')\n",
    "print(f'bias: {results.mean() - loans_income.median()}')\n",
    "print(f'std. error: {results.std()}')"
   ]
  },
  {
   "cell_type": "markdown",
   "metadata": {},
   "source": [
    "```\n",
    "분류 및 회귀 트리(a.k.a. 의사 결정 트리)를 사용할 때,\n",
    "여러 부트스트랩 샘플을 가지고 트리를 여러 개 만든 다음 각 트리에서 나온 예측값을 평균 내는 것이\n",
    "일반적으로 단일 트리를 사용하는 것보다 효과적이다.\n",
    "이 과정을 배깅이라고 한다.\n",
    "```"
   ]
  },
  {
   "cell_type": "markdown",
   "metadata": {},
   "source": [
    "```\n",
    "※ 부트스트랩의 역할\n",
    "\n",
    "표본크기가 작은 것을 보완함 X\n",
    "새 데이터를 만듦 X\n",
    "기존 데이터 집합의 빈 곳을 채움 X\n",
    "모집단에서 추가적으로 표본을 뽑는다고 할 때, 그 표본이 얼마나 원래 표본과 비슷할지를 알려줌 O\n",
    "```"
   ]
  },
  {
   "cell_type": "markdown",
   "metadata": {},
   "source": [
    "### A. 재표본추출 vs 부트스트래핑\n",
    "---\n",
    "- 재표본추출\n",
    "    - 여러 표본이 결합되어 비복원추출을 수행할 수 있는 순열 과정 포함\n",
    "- 부트스트랩\n",
    "    - 항상 관측된 데이터로부터 복원추출"
   ]
  },
  {
   "cell_type": "markdown",
   "metadata": {},
   "source": [
    "## 5. 신뢰구간\n",
    "---\n",
    "- **신뢰수준(confidence level)**: 같은 모집단으로부터 같은 방식으로 얻은, 관심 통계량을 포함할 것으로 예상되는, *신뢰구간의 백분율*\n",
    "    - 신뢰수준이 높을수록 신뢰구간은 넓어짐\n",
    "- **구간끝점(interval endpoint)**: 신뢰구간의 최상위, 최하위 끝점"
   ]
  },
  {
   "cell_type": "markdown",
   "metadata": {},
   "source": [
    "```\n",
    "90% 신뢰구간이란?\n",
    "표본통계량의 부트스트랩 표본분포의 90%를 포함하는 구간 O\n",
    "참값이 일정 구간 안에 있을 확률 90% X\n",
    "```\n"
   ]
  },
  {
   "cell_type": "markdown",
   "metadata": {},
   "source": [
    "## 6. 정규분포\n",
    "---\n",
    "- **오차(error)**: 데이터 포인트와 예측값 혹은 평균 사이의 차이\n",
    "- **표준화(=정규화)하다(standardize)**: 평균을 빼고 표준편차로 나눈다\n",
    "- **z-score**: 개별 데이터 포인트를 정규화한 결과\n",
    "- **표준정규분포(standard normal distribution)**: 평균=0 표준편차=1인 정규분포\n",
    "- **QQ-plot**: 표본분포가 특정 분포에 얼마나 가까운지를 보여주는 그림"
   ]
  },
  {
   "cell_type": "code",
   "execution_count": 5,
   "metadata": {},
   "outputs": [
    {
     "data": {
      "image/png": "[encoded data removed]",
      "text/plain": [
       "<Figure size 400x400 with 1 Axes>"
      ]
     },
     "metadata": {},
     "output_type": "display_data"
    }
   ],
   "source": [
    "fig, ax = plt.subplots(figsize=(4, 4))\n",
    "\n",
    "norm_sample = stats.norm.rvs(size=100)\n",
    "stats.probplot(norm_sample, plot=ax)\n",
    "\n",
    "plt.tight_layout()\n",
    "plt.show()"
   ]
  },
  {
   "cell_type": "markdown",
   "metadata": {},
   "source": [
    "## 7. "
   ]
  },
  {
   "cell_type": "code",
   "execution_count": null,
   "metadata": {},
   "outputs": [],
   "source": []
  }
 ],
 "metadata": {
  "kernelspec": {
   "display_name": "base",
   "language": "python",
   "name": "python3"
  },
  "language_info": {
   "codemirror_mode": {
    "name": "ipython",
    "version": 3
   },
   "file_extension": ".py",
   "mimetype": "text/x-python",
   "name": "python",
   "nbconvert_exporter": "python",
   "pygments_lexer": "ipython3",
   "version": "3.11.5"
  }
 },
 "nbformat": 4,
 "nbformat_minor": 2
}
