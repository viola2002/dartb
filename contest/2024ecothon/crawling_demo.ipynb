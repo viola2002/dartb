{
  "cells": [
    {
      "cell_type": "markdown",
      "metadata": {},
      "source": [
        "# 0. 기본 정보\n",
        "* 코드 작성자: 여서연\n",
        "* 코드 작성일: 2024-05-06 ~ \n",
        "* 데이터 분석 목적: 크롤링 대상 적합성 판정"
      ]
    },
    {
      "cell_type": "markdown",
      "metadata": {},
      "source": [
        "# 1. 기초 설정"
      ]
    },
    {
      "cell_type": "code",
      "execution_count": 1,
      "metadata": {},
      "outputs": [],
      "source": [
        "# 사용한 라이브러리\n",
        "\n",
        "from googleapiclient.discovery import build\n",
        "import pandas as pd\n",
        "\n",
        "from dotenv import load_dotenv\n",
        "import os\n",
        "\n",
        "import warnings\n",
        "warnings.filterwarnings('ignore')"
      ]
    },
    {
      "cell_type": "markdown",
      "metadata": {},
      "source": [
        "# 2. 유튜브 댓글 크롤링\n",
        "* [코드 출처](https://velog.io/@jihyunko/python-%EC%9C%A0%ED%8A%9C%EB%B8%8C-%EB%8C%93%EA%B8%80-%ED%81%AC%EB%A1%A4%EB%A7%81)\n",
        "* [참조](https://developers.google.com/youtube/v3/docs/commentThreads/list?hl=ko)"
      ]
    },
    {
      "cell_type": "markdown",
      "metadata": {},
      "source": [
        "## 함수 소개\n",
        "* YoutubeCommentCrawl(key, url, max=100)\n",
        "    * key: Google Cloud API에서 발급 받은 API 키\n",
        "    * url: 댓글을 크롤링할 주소 (단, 상단바에서 복사할 것)\n",
        "    * max: 결과 집합에 반환해야 하는 최대 항목 수 (1 ~ 100)"
      ]
    },
    {
      "cell_type": "code",
      "execution_count": 2,
      "metadata": {},
      "outputs": [],
      "source": [
        "load_dotenv()\n",
        "myKEY = os.environ.get('GOOGLE_API_KEY')\n",
        "\n",
        "url1 = 'https://www.youtube.com/watch?v=rh73ASuF038'\n",
        "url2 = 'https://www.youtube.com/watch?v=SX3o62ek70s'"
      ]
    },
    {
      "cell_type": "code",
      "execution_count": 3,
      "metadata": {},
      "outputs": [],
      "source": [
        "def YoutubeCommentCrawl(key, url, max=100):\n",
        "    video_id = url[-11:] #영상 주소에서 추출\n",
        "    comments = list() #댓글을 담을 리스트\n",
        "    api_obj = build('youtube', 'v3', developerKey=key) #API name, version, key\n",
        "    response = api_obj.commentThreads().list(part='snippet, replies', videoId=video_id, maxResults=max).execute()\n",
        "\n",
        "    while response:\n",
        "        for item in response['items']:\n",
        "            comment = item['snippet']['topLevelComment']['snippet']\n",
        "            comments.append([comment['textDisplay'], comment['authorDisplayName'], comment['publishedAt'], comment['likeCount']])\n",
        "\n",
        "            if item['snippet']['totalReplyCount'] > 0:\n",
        "                for reply_item in item['replies']['comments']:\n",
        "                    reply = reply_item['snippet']\n",
        "                    comments.append([reply['textDisplay'], reply['authorDisplayName'], reply['publishedAt'], reply['likeCount']])\n",
        "\n",
        "        if 'nextPageToken' in response:\n",
        "            response = api_obj.commentThreads().list(part='snippet,replies', videoId='rh73ASuF038', pageToken=response['nextPageToken'], maxResults=100).execute()\n",
        "        else:\n",
        "            break\n",
        "\n",
        "    df = pd.DataFrame(comments, columns=['comment', 'author', 'date', 'num_likes'])\n",
        "    return df"
      ]
    },
    {
      "cell_type": "code",
      "execution_count": 4,
      "metadata": {},
      "outputs": [],
      "source": [
        "df1 = YoutubeCommentCrawl(myKEY, url1)\n",
        "df2 = YoutubeCommentCrawl(myKEY, url2)"
      ]
    },
    {
      "cell_type": "code",
      "execution_count": 5,
      "metadata": {},
      "outputs": [
        {
          "data": {
            "text/html": [
              "<div>\n",
              "<style scoped>\n",
              "    .dataframe tbody tr th:only-of-type {\n",
              "        vertical-align: middle;\n",
              "    }\n",
              "\n",
              "    .dataframe tbody tr th {\n",
              "        vertical-align: top;\n",
              "    }\n",
              "\n",
              "    .dataframe thead th {\n",
              "        text-align: right;\n",
              "    }\n",
              "</style>\n",
              "<table border=\"1\" class=\"dataframe\">\n",
              "  <thead>\n",
              "    <tr style=\"text-align: right;\">\n",
              "      <th></th>\n",
              "      <th>comment</th>\n",
              "      <th>author</th>\n",
              "      <th>date</th>\n",
              "      <th>num_likes</th>\n",
              "    </tr>\n",
              "  </thead>\n",
              "  <tbody>\n",
              "    <tr>\n",
              "      <th>311</th>\n",
              "      <td>저정도면 국가차원에서 뭘 막아야하는거 아님?</td>\n",
              "      <td>@user-qk6ok4zx7b</td>\n",
              "      <td>2023-04-12T09:07:38Z</td>\n",
              "      <td>81</td>\n",
              "    </tr>\n",
              "  </tbody>\n",
              "</table>\n",
              "</div>"
            ],
            "text/plain": [
              "                      comment            author                  date  \\\n",
              "311  저정도면 국가차원에서 뭘 막아야하는거 아님?  @user-qk6ok4zx7b  2023-04-12T09:07:38Z   \n",
              "\n",
              "     num_likes  \n",
              "311         81  "
            ]
          },
          "execution_count": 5,
          "metadata": {},
          "output_type": "execute_result"
        }
      ],
      "source": [
        "df1.sample()"
      ]
    },
    {
      "cell_type": "code",
      "execution_count": 6,
      "metadata": {},
      "outputs": [
        {
          "data": {
            "text/html": [
              "<div>\n",
              "<style scoped>\n",
              "    .dataframe tbody tr th:only-of-type {\n",
              "        vertical-align: middle;\n",
              "    }\n",
              "\n",
              "    .dataframe tbody tr th {\n",
              "        vertical-align: top;\n",
              "    }\n",
              "\n",
              "    .dataframe thead th {\n",
              "        text-align: right;\n",
              "    }\n",
              "</style>\n",
              "<table border=\"1\" class=\"dataframe\">\n",
              "  <thead>\n",
              "    <tr style=\"text-align: right;\">\n",
              "      <th></th>\n",
              "      <th>comment</th>\n",
              "      <th>author</th>\n",
              "      <th>date</th>\n",
              "      <th>num_likes</th>\n",
              "    </tr>\n",
              "  </thead>\n",
              "  <tbody>\n",
              "    <tr>\n",
              "      <th>36</th>\n",
              "      <td>지금 우리는 누구의 책임이 문제가 아니라 해결책이 가장 우선이다</td>\n",
              "      <td>@user-qn1yc8up5w</td>\n",
              "      <td>2019-02-09T01:06:01Z</td>\n",
              "      <td>0</td>\n",
              "    </tr>\n",
              "  </tbody>\n",
              "</table>\n",
              "</div>"
            ],
            "text/plain": [
              "                                comment            author  \\\n",
              "36  지금 우리는 누구의 책임이 문제가 아니라 해결책이 가장 우선이다  @user-qn1yc8up5w   \n",
              "\n",
              "                    date  num_likes  \n",
              "36  2019-02-09T01:06:01Z          0  "
            ]
          },
          "execution_count": 6,
          "metadata": {},
          "output_type": "execute_result"
        }
      ],
      "source": [
        "df2.sample()"
      ]
    },
    {
      "cell_type": "markdown",
      "metadata": {},
      "source": [
        "# 3. NLP"
      ]
    },
    {
      "cell_type": "code",
      "execution_count": null,
      "metadata": {},
      "outputs": [],
      "source": []
    }
  ],
  "metadata": {
    "colab": {
      "provenance": []
    },
    "kernelspec": {
      "display_name": "Python 3",
      "name": "python3"
    },
    "language_info": {
      "codemirror_mode": {
        "name": "ipython",
        "version": 3
      },
      "file_extension": ".py",
      "mimetype": "text/x-python",
      "name": "python",
      "nbconvert_exporter": "python",
      "pygments_lexer": "ipython3",
      "version": "3.11.5"
    }
  },
  "nbformat": 4,
  "nbformat_minor": 0
}
