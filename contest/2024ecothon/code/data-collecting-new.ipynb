{
 "cells": [
  {
   "cell_type": "markdown",
   "metadata": {},
   "source": [
    "# 0. 기본 정보\n",
    "* 코드 작성자: 여서연\n",
    "* 코드 작성일: 2024-06-02"
   ]
  },
  {
   "cell_type": "markdown",
   "metadata": {},
   "source": [
    "# 1. 기초 설정"
   ]
  },
  {
   "cell_type": "markdown",
   "metadata": {},
   "source": [
    "## 사용 라이브러리"
   ]
  },
  {
   "cell_type": "code",
   "execution_count": 1,
   "metadata": {},
   "outputs": [],
   "source": [
    "import requests\n",
    "import json\n",
    "import pandas as pd\n",
    "\n",
    "from dotenv import load_dotenv\n",
    "import os\n",
    "\n",
    "import numpy as np\n",
    "import matplotlib.pyplot as plt\n",
    "import koreanize_matplotlib\n",
    "\n",
    "import warnings\n",
    "warnings.filterwarnings('ignore')\n"
   ]
  },
  {
   "cell_type": "markdown",
   "metadata": {},
   "source": [
    "## 기타 설정"
   ]
  },
  {
   "cell_type": "code",
   "execution_count": 2,
   "metadata": {},
   "outputs": [],
   "source": [
    "# 데이터 프레임 열 전부 표시\n",
    "pd.set_option('display.max_columns', None)"
   ]
  },
  {
   "cell_type": "code",
   "execution_count": 3,
   "metadata": {},
   "outputs": [],
   "source": [
    "load_dotenv()\n",
    "myKEY = os.environ.get('PUBLIC_DATA_API_KEY')"
   ]
  },
  {
   "cell_type": "markdown",
   "metadata": {},
   "source": [
    "# 2. API 데이터 수집"
   ]
  },
  {
   "cell_type": "markdown",
   "metadata": {},
   "source": [
    "## A. [환경부 국립환경과학원_골프장 농약사용량 DB](https://www.data.go.kr/data/15000937/openapi.do)"
   ]
  },
  {
   "cell_type": "code",
   "execution_count": 4,
   "metadata": {},
   "outputs": [],
   "source": [
    "new_columns = {\n",
    "    'SPOT_STD_CODE': '지점표준코드',\n",
    "    'SIDO': '시도',\n",
    "    'GOLFCLUB_NAME': '골프장명',\n",
    "    'GOLF_TYPE_NAME': '골프장 형태',\n",
    "    'ADDRESS': '소재지',\n",
    "    'HOLE_CNT': '홀수',\n",
    "    'REG_YEAR': '개장년도',\n",
    "    'YEAR': '입력년도',\n",
    "    'PES_GROUND': '농약사용면적(m2)',\n",
    "    'TOTAL_GROUND': '면적총계(m2)',\n",
    "    'NONE_GROUND': '농약미사용면적(m2)',\n",
    "    'SPRAY_SUPPLY': '총사용량_실물량(kg)',\n",
    "    'REAL_SUPPLY': '총사용량_성분량(kg)',\n",
    "    'THA_SPRAY': '전체면적대비_ha_실물량(kg)',\n",
    "    'THA_REAL': '전체면적대비_ha_성분량(kg)',\n",
    "    'HA_SPRAY': '농약사용_ha_실물량(kg)',\n",
    "    'HA_REAL': '농약사용_ha_성분량(kg)'\n",
    "}"
   ]
  },
  {
   "cell_type": "code",
   "execution_count": 5,
   "metadata": {},
   "outputs": [],
   "source": [
    "# 시군구 추출 함수 - 주소를 공백을 기준으로 나눠 시군구 추출\n",
    "def ExtractSigungoo(address):\n",
    "    parts = address.split()\n",
    "    if len(parts) > 1: #주소가 둘 이상으로 쪼개질 경우\n",
    "        return parts[1]\n",
    "    return None"
   ]
  },
  {
   "cell_type": "code",
   "execution_count": 6,
   "metadata": {},
   "outputs": [],
   "source": [
    "def GetGolf(key, sido, year):\n",
    "    url = 'http://apis.data.go.kr/1480523/SgisGp/getSgisGpList1' #API 호출 URL\n",
    "    params = {'serviceKey' : key, 'pageNo' : '1', 'numOfRows' : '1000', 'resultType' : 'JSON', 'search_year': year} #parameter 지정\n",
    "    response = requests.get(url, params=params) #API 호출 응답 결과 저장\n",
    "    result = json.loads(response.content) #응답을 json 형식으로 변환\n",
    "    golf = pd.DataFrame(result['getSgisGpList']['item']) #item 항목을 data frame으로 저장 - 전국 데이터\n",
    "\n",
    "    # column 이름 변경\n",
    "    golf.rename(columns=new_columns, inplace=True)\n",
    "\n",
    "    # 시군구 컬럼 추가\n",
    "    golf['시군구'] = golf['소재지'].apply(ExtractSigungoo)\n",
    "\n",
    "    # 시도 컬럼 바로 옆에 시군구 컬럼 배치\n",
    "    columns = list(golf.columns)\n",
    "    sido_index = columns.index('시도') #'시도' column의 index 추출\n",
    "    columns.insert(sido_index + 1, columns.pop(columns.index('시군구'))) #바로 옆에 추가하고 기존 column을 삭제\n",
    "    golf = golf[columns]\n",
    "\n",
    "    return golf[golf['시도']==sido].reset_index(drop=True)"
   ]
  },
  {
   "cell_type": "code",
   "execution_count": 7,
   "metadata": {},
   "outputs": [],
   "source": [
    "golf_2020 = GetGolf(myKEY, '강원도', '2020')\n",
    "golf_2019 = GetGolf(myKEY, '강원도', '2019')\n",
    "golf_2018 = GetGolf(myKEY, '강원도', '2018')"
   ]
  },
  {
   "cell_type": "code",
   "execution_count": 8,
   "metadata": {},
   "outputs": [
    {
     "data": {
      "text/html": [
       "<div>\n",
       "<style scoped>\n",
       "    .dataframe tbody tr th:only-of-type {\n",
       "        vertical-align: middle;\n",
       "    }\n",
       "\n",
       "    .dataframe tbody tr th {\n",
       "        vertical-align: top;\n",
       "    }\n",
       "\n",
       "    .dataframe thead th {\n",
       "        text-align: right;\n",
       "    }\n",
       "</style>\n",
       "<table border=\"1\" class=\"dataframe\">\n",
       "  <thead>\n",
       "    <tr style=\"text-align: right;\">\n",
       "      <th></th>\n",
       "      <th>지점표준코드</th>\n",
       "      <th>입력년도</th>\n",
       "      <th>골프장명</th>\n",
       "      <th>소재지</th>\n",
       "      <th>홀수</th>\n",
       "      <th>시도</th>\n",
       "      <th>시군구</th>\n",
       "      <th>개장년도</th>\n",
       "      <th>골프장 형태</th>\n",
       "      <th>면적총계(m2)</th>\n",
       "      <th>농약사용면적(m2)</th>\n",
       "      <th>농약미사용면적(m2)</th>\n",
       "      <th>총사용량_실물량(kg)</th>\n",
       "      <th>총사용량_성분량(kg)</th>\n",
       "      <th>농약사용_ha_성분량(kg)</th>\n",
       "      <th>농약사용_ha_실물량(kg)</th>\n",
       "      <th>전체면적대비_ha_성분량(kg)</th>\n",
       "      <th>전체면적대비_ha_실물량(kg)</th>\n",
       "    </tr>\n",
       "  </thead>\n",
       "  <tbody>\n",
       "    <tr>\n",
       "      <th>3</th>\n",
       "      <td>42130G040200004</td>\n",
       "      <td>2020</td>\n",
       "      <td>인터불고호텔원주G.C.</td>\n",
       "      <td>강원도 원주시 반곡동 1809-1</td>\n",
       "      <td>9</td>\n",
       "      <td>강원도</td>\n",
       "      <td>원주시</td>\n",
       "      <td>2010</td>\n",
       "      <td>대중제</td>\n",
       "      <td>165318</td>\n",
       "      <td>116705</td>\n",
       "      <td>48613</td>\n",
       "      <td>368.423</td>\n",
       "      <td>83.396624</td>\n",
       "      <td>7.145934107364723</td>\n",
       "      <td>31.56874169915599</td>\n",
       "      <td>5.044618492844094</td>\n",
       "      <td>22.285716013985166</td>\n",
       "    </tr>\n",
       "  </tbody>\n",
       "</table>\n",
       "</div>"
      ],
      "text/plain": [
       "            지점표준코드  입력년도          골프장명                 소재지 홀수   시도  시군구  개장년도  \\\n",
       "3  42130G040200004  2020  인터불고호텔원주G.C.  강원도 원주시 반곡동 1809-1  9  강원도  원주시  2010   \n",
       "\n",
       "  골프장 형태 면적총계(m2) 농약사용면적(m2) 농약미사용면적(m2) 총사용량_실물량(kg) 총사용량_성분량(kg)  \\\n",
       "3    대중제   165318     116705       48613      368.423    83.396624   \n",
       "\n",
       "     농약사용_ha_성분량(kg)    농약사용_ha_실물량(kg)  전체면적대비_ha_성분량(kg)   전체면적대비_ha_실물량(kg)  \n",
       "3  7.145934107364723  31.56874169915599  5.044618492844094  22.285716013985166  "
      ]
     },
     "execution_count": 8,
     "metadata": {},
     "output_type": "execute_result"
    }
   ],
   "source": [
    "golf_2020.sample()"
   ]
  },
  {
   "cell_type": "code",
   "execution_count": 9,
   "metadata": {},
   "outputs": [
    {
     "data": {
      "text/plain": [
       "(61, 18)"
      ]
     },
     "execution_count": 9,
     "metadata": {},
     "output_type": "execute_result"
    }
   ],
   "source": [
    "golf_2020.shape"
   ]
  },
  {
   "cell_type": "code",
   "execution_count": 10,
   "metadata": {},
   "outputs": [
    {
     "data": {
      "text/html": [
       "<div>\n",
       "<style scoped>\n",
       "    .dataframe tbody tr th:only-of-type {\n",
       "        vertical-align: middle;\n",
       "    }\n",
       "\n",
       "    .dataframe tbody tr th {\n",
       "        vertical-align: top;\n",
       "    }\n",
       "\n",
       "    .dataframe thead th {\n",
       "        text-align: right;\n",
       "    }\n",
       "</style>\n",
       "<table border=\"1\" class=\"dataframe\">\n",
       "  <thead>\n",
       "    <tr style=\"text-align: right;\">\n",
       "      <th></th>\n",
       "      <th>지점표준코드</th>\n",
       "      <th>입력년도</th>\n",
       "      <th>골프장명</th>\n",
       "      <th>소재지</th>\n",
       "      <th>홀수</th>\n",
       "      <th>시도</th>\n",
       "      <th>시군구</th>\n",
       "      <th>개장년도</th>\n",
       "      <th>골프장 형태</th>\n",
       "      <th>면적총계(m2)</th>\n",
       "      <th>농약사용면적(m2)</th>\n",
       "      <th>농약미사용면적(m2)</th>\n",
       "      <th>총사용량_실물량(kg)</th>\n",
       "      <th>총사용량_성분량(kg)</th>\n",
       "      <th>농약사용_ha_성분량(kg)</th>\n",
       "      <th>농약사용_ha_실물량(kg)</th>\n",
       "      <th>전체면적대비_ha_성분량(kg)</th>\n",
       "      <th>전체면적대비_ha_실물량(kg)</th>\n",
       "    </tr>\n",
       "  </thead>\n",
       "  <tbody>\n",
       "    <tr>\n",
       "      <th>63</th>\n",
       "      <td>42730G040100004</td>\n",
       "      <td>2019</td>\n",
       "      <td>동원썬밸리CC</td>\n",
       "      <td>강원도 횡성군 서원면 석화리 646</td>\n",
       "      <td>18</td>\n",
       "      <td>강원도</td>\n",
       "      <td>횡성군</td>\n",
       "      <td>2015</td>\n",
       "      <td>회원제</td>\n",
       "      <td>1097999</td>\n",
       "      <td>572330</td>\n",
       "      <td>525669</td>\n",
       "      <td>1233.05</td>\n",
       "      <td>338.26</td>\n",
       "      <td>5.91</td>\n",
       "      <td>21.54</td>\n",
       "      <td>3.08</td>\n",
       "      <td>11.23</td>\n",
       "    </tr>\n",
       "  </tbody>\n",
       "</table>\n",
       "</div>"
      ],
      "text/plain": [
       "             지점표준코드  입력년도     골프장명                  소재지  홀수   시도  시군구  개장년도  \\\n",
       "63  42730G040100004  2019  동원썬밸리CC  강원도 횡성군 서원면 석화리 646  18  강원도  횡성군  2015   \n",
       "\n",
       "   골프장 형태 면적총계(m2) 농약사용면적(m2) 농약미사용면적(m2) 총사용량_실물량(kg) 총사용량_성분량(kg)  \\\n",
       "63    회원제  1097999     572330      525669      1233.05       338.26   \n",
       "\n",
       "   농약사용_ha_성분량(kg) 농약사용_ha_실물량(kg) 전체면적대비_ha_성분량(kg) 전체면적대비_ha_실물량(kg)  \n",
       "63            5.91           21.54              3.08             11.23  "
      ]
     },
     "execution_count": 10,
     "metadata": {},
     "output_type": "execute_result"
    }
   ],
   "source": [
    "golf_2019.sample()"
   ]
  },
  {
   "cell_type": "code",
   "execution_count": 11,
   "metadata": {},
   "outputs": [
    {
     "data": {
      "text/plain": [
       "(64, 18)"
      ]
     },
     "execution_count": 11,
     "metadata": {},
     "output_type": "execute_result"
    }
   ],
   "source": [
    "golf_2019.shape"
   ]
  },
  {
   "cell_type": "code",
   "execution_count": 12,
   "metadata": {},
   "outputs": [
    {
     "data": {
      "text/html": [
       "<div>\n",
       "<style scoped>\n",
       "    .dataframe tbody tr th:only-of-type {\n",
       "        vertical-align: middle;\n",
       "    }\n",
       "\n",
       "    .dataframe tbody tr th {\n",
       "        vertical-align: top;\n",
       "    }\n",
       "\n",
       "    .dataframe thead th {\n",
       "        text-align: right;\n",
       "    }\n",
       "</style>\n",
       "<table border=\"1\" class=\"dataframe\">\n",
       "  <thead>\n",
       "    <tr style=\"text-align: right;\">\n",
       "      <th></th>\n",
       "      <th>지점표준코드</th>\n",
       "      <th>입력년도</th>\n",
       "      <th>골프장명</th>\n",
       "      <th>소재지</th>\n",
       "      <th>홀수</th>\n",
       "      <th>시도</th>\n",
       "      <th>시군구</th>\n",
       "      <th>개장년도</th>\n",
       "      <th>골프장 형태</th>\n",
       "      <th>면적총계(m2)</th>\n",
       "      <th>농약사용면적(m2)</th>\n",
       "      <th>농약미사용면적(m2)</th>\n",
       "      <th>총사용량_실물량(kg)</th>\n",
       "      <th>총사용량_성분량(kg)</th>\n",
       "      <th>농약사용_ha_성분량(kg)</th>\n",
       "      <th>농약사용_ha_실물량(kg)</th>\n",
       "      <th>전체면적대비_ha_성분량(kg)</th>\n",
       "      <th>전체면적대비_ha_실물량(kg)</th>\n",
       "    </tr>\n",
       "  </thead>\n",
       "  <tbody>\n",
       "    <tr>\n",
       "      <th>30</th>\n",
       "      <td>42760G040200001</td>\n",
       "      <td>2018</td>\n",
       "      <td>알펜시아700골프클럽</td>\n",
       "      <td>강원도 평창군 대관령면 수하리 산240-1</td>\n",
       "      <td>18</td>\n",
       "      <td>강원도</td>\n",
       "      <td>평창군</td>\n",
       "      <td>2009</td>\n",
       "      <td>대중제</td>\n",
       "      <td>1270178.0</td>\n",
       "      <td>594118.0</td>\n",
       "      <td>676060.0</td>\n",
       "      <td>1960.2799</td>\n",
       "      <td>479.2769</td>\n",
       "      <td>8.06703213839675</td>\n",
       "      <td>32.9947905971541</td>\n",
       "      <td>3.773305001346268</td>\n",
       "      <td>15.433111737095116</td>\n",
       "    </tr>\n",
       "  </tbody>\n",
       "</table>\n",
       "</div>"
      ],
      "text/plain": [
       "             지점표준코드  입력년도         골프장명                      소재지  홀수   시도  시군구  \\\n",
       "30  42760G040200001  2018  알펜시아700골프클럽  강원도 평창군 대관령면 수하리 산240-1  18  강원도  평창군   \n",
       "\n",
       "    개장년도 골프장 형태   면적총계(m2) 농약사용면적(m2) 농약미사용면적(m2) 총사용량_실물량(kg) 총사용량_성분량(kg)  \\\n",
       "30  2009    대중제  1270178.0   594118.0    676060.0    1960.2799     479.2769   \n",
       "\n",
       "     농약사용_ha_성분량(kg)   농약사용_ha_실물량(kg)  전체면적대비_ha_성분량(kg)   전체면적대비_ha_실물량(kg)  \n",
       "30  8.06703213839675  32.9947905971541  3.773305001346268  15.433111737095116  "
      ]
     },
     "execution_count": 12,
     "metadata": {},
     "output_type": "execute_result"
    }
   ],
   "source": [
    "golf_2018.sample()"
   ]
  },
  {
   "cell_type": "code",
   "execution_count": 13,
   "metadata": {},
   "outputs": [
    {
     "data": {
      "text/plain": [
       "(63, 18)"
      ]
     },
     "execution_count": 13,
     "metadata": {},
     "output_type": "execute_result"
    }
   ],
   "source": [
    "golf_2018.shape"
   ]
  },
  {
   "cell_type": "code",
   "execution_count": 14,
   "metadata": {},
   "outputs": [
    {
     "name": "stdout",
     "output_type": "stream",
     "text": [
      "2020: ['강릉시' '고성군' '동해시' '삼척시' '속초시' '양양군' '영월군' '원주시' '정선군' '철원군' '춘천시' '태백시'\n",
      " '평창군' '홍천군' '횡성군']\n",
      "\n",
      "2019: ['강릉시' '고성군' '동해시' '삼척시' '속초시' '양양군' '영월군' '원주시' '정선군' '철원군' '춘천시' '태백시'\n",
      " '평창군' '홍천군' '횡성군']\n",
      "\n",
      "2018: ['강릉시' '고성군' '동해시' '삼척시' '속초시' '양양군' '영월군' '원주시' '정선군' '철원군' '춘천시' '태백시'\n",
      " '평창군' '홍천군' '횡성군']\n"
     ]
    }
   ],
   "source": [
    "print('2020:', np.sort(golf_2020['시군구'].unique()))\n",
    "print()\n",
    "print('2019:', np.sort(golf_2019['시군구'].unique()))\n",
    "print()\n",
    "print('2018:', np.sort(golf_2018['시군구'].unique()))"
   ]
  },
  {
   "cell_type": "code",
   "execution_count": 15,
   "metadata": {},
   "outputs": [
    {
     "name": "stdout",
     "output_type": "stream",
     "text": [
      "<class 'pandas.core.frame.DataFrame'>\n",
      "RangeIndex: 61 entries, 0 to 60\n",
      "Data columns (total 18 columns):\n",
      " #   Column             Non-Null Count  Dtype \n",
      "---  ------             --------------  ----- \n",
      " 0   지점표준코드             61 non-null     object\n",
      " 1   입력년도               61 non-null     object\n",
      " 2   골프장명               61 non-null     object\n",
      " 3   소재지                61 non-null     object\n",
      " 4   홀수                 61 non-null     object\n",
      " 5   시도                 61 non-null     object\n",
      " 6   시군구                61 non-null     object\n",
      " 7   개장년도               61 non-null     object\n",
      " 8   골프장 형태             61 non-null     object\n",
      " 9   면적총계(m2)           61 non-null     object\n",
      " 10  농약사용면적(m2)         61 non-null     object\n",
      " 11  농약미사용면적(m2)        61 non-null     object\n",
      " 12  총사용량_실물량(kg)       61 non-null     object\n",
      " 13  총사용량_성분량(kg)       61 non-null     object\n",
      " 14  농약사용_ha_성분량(kg)    61 non-null     object\n",
      " 15  농약사용_ha_실물량(kg)    61 non-null     object\n",
      " 16  전체면적대비_ha_성분량(kg)  61 non-null     object\n",
      " 17  전체면적대비_ha_실물량(kg)  61 non-null     object\n",
      "dtypes: object(18)\n",
      "memory usage: 8.7+ KB\n"
     ]
    }
   ],
   "source": [
    "golf_2020.info()"
   ]
  },
  {
   "cell_type": "code",
   "execution_count": 16,
   "metadata": {},
   "outputs": [],
   "source": [
    "# 데이터 저장\n",
    "golf_2020.to_csv('../data/golf_Gangwon_2020.csv', index=False, encoding='utf-8-sig')"
   ]
  },
  {
   "cell_type": "code",
   "execution_count": 17,
   "metadata": {},
   "outputs": [
    {
     "name": "stdout",
     "output_type": "stream",
     "text": [
      "<class 'pandas.core.frame.DataFrame'>\n",
      "RangeIndex: 64 entries, 0 to 63\n",
      "Data columns (total 18 columns):\n",
      " #   Column             Non-Null Count  Dtype \n",
      "---  ------             --------------  ----- \n",
      " 0   지점표준코드             64 non-null     object\n",
      " 1   입력년도               64 non-null     object\n",
      " 2   골프장명               64 non-null     object\n",
      " 3   소재지                64 non-null     object\n",
      " 4   홀수                 64 non-null     object\n",
      " 5   시도                 64 non-null     object\n",
      " 6   시군구                64 non-null     object\n",
      " 7   개장년도               64 non-null     object\n",
      " 8   골프장 형태             64 non-null     object\n",
      " 9   면적총계(m2)           64 non-null     object\n",
      " 10  농약사용면적(m2)         64 non-null     object\n",
      " 11  농약미사용면적(m2)        64 non-null     object\n",
      " 12  총사용량_실물량(kg)       64 non-null     object\n",
      " 13  총사용량_성분량(kg)       64 non-null     object\n",
      " 14  농약사용_ha_성분량(kg)    64 non-null     object\n",
      " 15  농약사용_ha_실물량(kg)    64 non-null     object\n",
      " 16  전체면적대비_ha_성분량(kg)  64 non-null     object\n",
      " 17  전체면적대비_ha_실물량(kg)  64 non-null     object\n",
      "dtypes: object(18)\n",
      "memory usage: 9.1+ KB\n"
     ]
    }
   ],
   "source": [
    "golf_2019.info()"
   ]
  },
  {
   "cell_type": "code",
   "execution_count": 18,
   "metadata": {},
   "outputs": [],
   "source": [
    "# 데이터 저장\n",
    "golf_2019.to_csv('../data/golf_Gangwon_2019.csv', index=False, encoding='utf-8-sig')"
   ]
  },
  {
   "cell_type": "code",
   "execution_count": 19,
   "metadata": {},
   "outputs": [
    {
     "name": "stdout",
     "output_type": "stream",
     "text": [
      "<class 'pandas.core.frame.DataFrame'>\n",
      "RangeIndex: 63 entries, 0 to 62\n",
      "Data columns (total 18 columns):\n",
      " #   Column             Non-Null Count  Dtype \n",
      "---  ------             --------------  ----- \n",
      " 0   지점표준코드             63 non-null     object\n",
      " 1   입력년도               63 non-null     object\n",
      " 2   골프장명               63 non-null     object\n",
      " 3   소재지                63 non-null     object\n",
      " 4   홀수                 63 non-null     object\n",
      " 5   시도                 63 non-null     object\n",
      " 6   시군구                63 non-null     object\n",
      " 7   개장년도               63 non-null     object\n",
      " 8   골프장 형태             63 non-null     object\n",
      " 9   면적총계(m2)           63 non-null     object\n",
      " 10  농약사용면적(m2)         63 non-null     object\n",
      " 11  농약미사용면적(m2)        63 non-null     object\n",
      " 12  총사용량_실물량(kg)       63 non-null     object\n",
      " 13  총사용량_성분량(kg)       63 non-null     object\n",
      " 14  농약사용_ha_성분량(kg)    63 non-null     object\n",
      " 15  농약사용_ha_실물량(kg)    63 non-null     object\n",
      " 16  전체면적대비_ha_성분량(kg)  63 non-null     object\n",
      " 17  전체면적대비_ha_실물량(kg)  63 non-null     object\n",
      "dtypes: object(18)\n",
      "memory usage: 9.0+ KB\n"
     ]
    }
   ],
   "source": [
    "golf_2018.info()"
   ]
  },
  {
   "cell_type": "code",
   "execution_count": 20,
   "metadata": {},
   "outputs": [],
   "source": [
    "# 데이터 저장\n",
    "golf_2018.to_csv('../data/golf_Gangwon_2018.csv', index=False, encoding='utf-8-sig')"
   ]
  },
  {
   "cell_type": "markdown",
   "metadata": {},
   "source": [
    "## B. [환경부 국립환경과학원_수질 DB](https://www.data.go.kr/data/15081073/openapi.do)"
   ]
  },
  {
   "cell_type": "markdown",
   "metadata": {},
   "source": [
    "### 시도별 수질측정망 지점"
   ]
  },
  {
   "cell_type": "code",
   "execution_count": 21,
   "metadata": {},
   "outputs": [
    {
     "data": {
      "text/html": [
       "<div>\n",
       "<style scoped>\n",
       "    .dataframe tbody tr th:only-of-type {\n",
       "        vertical-align: middle;\n",
       "    }\n",
       "\n",
       "    .dataframe tbody tr th {\n",
       "        vertical-align: top;\n",
       "    }\n",
       "\n",
       "    .dataframe thead th {\n",
       "        text-align: right;\n",
       "    }\n",
       "</style>\n",
       "<table border=\"1\" class=\"dataframe\">\n",
       "  <thead>\n",
       "    <tr style=\"text-align: right;\">\n",
       "      <th></th>\n",
       "      <th>구분</th>\n",
       "      <th>지점코드</th>\n",
       "      <th>지점명</th>\n",
       "      <th>조사기관</th>\n",
       "      <th>주소</th>\n",
       "      <th>대권역</th>\n",
       "      <th>중권역</th>\n",
       "    </tr>\n",
       "  </thead>\n",
       "  <tbody>\n",
       "    <tr>\n",
       "      <th>0</th>\n",
       "      <td>하천수</td>\n",
       "      <td>1001A05</td>\n",
       "      <td>송천1</td>\n",
       "      <td>원주지방환경청</td>\n",
       "      <td>강원도 평창군 대관령면 용산리(용산교)</td>\n",
       "      <td>한강</td>\n",
       "      <td>남한강상류</td>\n",
       "    </tr>\n",
       "    <tr>\n",
       "      <th>1</th>\n",
       "      <td>하천수</td>\n",
       "      <td>1001A10</td>\n",
       "      <td>송천4</td>\n",
       "      <td>원주지방환경청</td>\n",
       "      <td>강원도 정선군 여량면 유천리(송천교)</td>\n",
       "      <td>한강</td>\n",
       "      <td>남한강상류</td>\n",
       "    </tr>\n",
       "    <tr>\n",
       "      <th>2</th>\n",
       "      <td>하천수</td>\n",
       "      <td>1001A15</td>\n",
       "      <td>골지천2</td>\n",
       "      <td>한국수자원공사</td>\n",
       "      <td>강원도 태백시 하사미동 290-1(하사미교)</td>\n",
       "      <td>한강</td>\n",
       "      <td>남한강상류</td>\n",
       "    </tr>\n",
       "    <tr>\n",
       "      <th>3</th>\n",
       "      <td>하천수</td>\n",
       "      <td>1001A20</td>\n",
       "      <td>번천</td>\n",
       "      <td>한국수자원공사</td>\n",
       "      <td>강원도 삼척시 하장면 숙암리 90-4</td>\n",
       "      <td>한강</td>\n",
       "      <td>남한강상류</td>\n",
       "    </tr>\n",
       "    <tr>\n",
       "      <th>4</th>\n",
       "      <td>하천수</td>\n",
       "      <td>1001A25</td>\n",
       "      <td>골지천4</td>\n",
       "      <td>원주지방환경청</td>\n",
       "      <td>강원도 정선군 여량면 여량리(여량1교)</td>\n",
       "      <td>한강</td>\n",
       "      <td>남한강상류</td>\n",
       "    </tr>\n",
       "    <tr>\n",
       "      <th>...</th>\n",
       "      <td>...</td>\n",
       "      <td>...</td>\n",
       "      <td>...</td>\n",
       "      <td>...</td>\n",
       "      <td>...</td>\n",
       "      <td>...</td>\n",
       "      <td>...</td>\n",
       "    </tr>\n",
       "    <tr>\n",
       "      <th>2213</th>\n",
       "      <td>하천수</td>\n",
       "      <td>5101A05</td>\n",
       "      <td>탐진강1(탐진A1)</td>\n",
       "      <td>영산강물환경연구소</td>\n",
       "      <td>전라남도 장흥군 유치면 운월리(운월교)</td>\n",
       "      <td>영산강ㆍ섬진강</td>\n",
       "      <td>탐진강</td>\n",
       "    </tr>\n",
       "    <tr>\n",
       "      <th>2214</th>\n",
       "      <td>하천수</td>\n",
       "      <td>5101A15</td>\n",
       "      <td>유치천1(탐진A2)</td>\n",
       "      <td>영산강물환경연구소</td>\n",
       "      <td>전라남도 영암군 금정면 연소리(한대교)</td>\n",
       "      <td>영산강ㆍ섬진강</td>\n",
       "      <td>탐진강</td>\n",
       "    </tr>\n",
       "    <tr>\n",
       "      <th>2215</th>\n",
       "      <td>하천수</td>\n",
       "      <td>5101A25</td>\n",
       "      <td>옴천천2(탐진A3)</td>\n",
       "      <td>영산강물환경연구소</td>\n",
       "      <td>전라남도 강진군 옴천면 봉림리(봉림교)</td>\n",
       "      <td>영산강ㆍ섬진강</td>\n",
       "      <td>탐진강</td>\n",
       "    </tr>\n",
       "    <tr>\n",
       "      <th>2216</th>\n",
       "      <td>하천수</td>\n",
       "      <td>5101A45</td>\n",
       "      <td>금강천1(탐진B1)</td>\n",
       "      <td>영산강물환경연구소</td>\n",
       "      <td>전라남도 강진군 병영면 삭양리(삭양교)</td>\n",
       "      <td>영산강ㆍ섬진강</td>\n",
       "      <td>탐진강</td>\n",
       "    </tr>\n",
       "    <tr>\n",
       "      <th>2217</th>\n",
       "      <td>하천수</td>\n",
       "      <td>4104A25</td>\n",
       "      <td>이사천2(이사A)</td>\n",
       "      <td>영산강물환경연구소</td>\n",
       "      <td>전라남도 순천시 상사면 용계리 주암역조정지댐 하류전</td>\n",
       "      <td>영산강ㆍ섬진강</td>\n",
       "      <td>이사천</td>\n",
       "    </tr>\n",
       "  </tbody>\n",
       "</table>\n",
       "<p>2218 rows × 7 columns</p>\n",
       "</div>"
      ],
      "text/plain": [
       "       구분     지점코드         지점명       조사기관                             주소  \\\n",
       "0     하천수  1001A05         송천1    원주지방환경청          강원도 평창군 대관령면 용산리(용산교)   \n",
       "1     하천수  1001A10         송천4    원주지방환경청           강원도 정선군 여량면 유천리(송천교)   \n",
       "2     하천수  1001A15        골지천2    한국수자원공사       강원도 태백시 하사미동 290-1(하사미교)   \n",
       "3     하천수  1001A20          번천    한국수자원공사           강원도 삼척시 하장면 숙암리 90-4   \n",
       "4     하천수  1001A25        골지천4    원주지방환경청          강원도 정선군 여량면 여량리(여량1교)   \n",
       "...   ...      ...         ...        ...                            ...   \n",
       "2213  하천수  5101A05  탐진강1(탐진A1)  영산강물환경연구소          전라남도 장흥군 유치면 운월리(운월교)   \n",
       "2214  하천수  5101A15  유치천1(탐진A2)  영산강물환경연구소          전라남도 영암군 금정면 연소리(한대교)   \n",
       "2215  하천수  5101A25  옴천천2(탐진A3)  영산강물환경연구소          전라남도 강진군 옴천면 봉림리(봉림교)   \n",
       "2216  하천수  5101A45  금강천1(탐진B1)  영산강물환경연구소          전라남도 강진군 병영면 삭양리(삭양교)   \n",
       "2217  하천수  4104A25   이사천2(이사A)  영산강물환경연구소  전라남도 순천시 상사면 용계리 주암역조정지댐 하류전    \n",
       "\n",
       "          대권역    중권역  \n",
       "0          한강  남한강상류  \n",
       "1          한강  남한강상류  \n",
       "2          한강  남한강상류  \n",
       "3          한강  남한강상류  \n",
       "4          한강  남한강상류  \n",
       "...       ...    ...  \n",
       "2213  영산강ㆍ섬진강    탐진강  \n",
       "2214  영산강ㆍ섬진강    탐진강  \n",
       "2215  영산강ㆍ섬진강    탐진강  \n",
       "2216  영산강ㆍ섬진강    탐진강  \n",
       "2217  영산강ㆍ섬진강    이사천  \n",
       "\n",
       "[2218 rows x 7 columns]"
      ]
     },
     "execution_count": 21,
     "metadata": {},
     "output_type": "execute_result"
    }
   ],
   "source": [
    "code_df = pd.read_excel('../API documents/국립환경과학원_openAPI_활용가이드_수질DB/물환경 수질측정망 운영결과 DB_물환경_코드_코드명.xlsx', header=1)\n",
    "code_df"
   ]
  },
  {
   "cell_type": "code",
   "execution_count": 22,
   "metadata": {},
   "outputs": [
    {
     "name": "stdout",
     "output_type": "stream",
     "text": [
      "['강원도' '충청북도' '경기도' '서울특별시' '인천광역시' '충청남도' '인천광역시시' '경상북도' '경북' '대구광역시'\n",
      " '대구광역시시' '경상남도' '전라북도' '부산광역시' '울산광역시' '울산광역시시' '부산광역시시' '대전광역시' '대전광역시시'\n",
      " '세종특별자치시' '전라남도' '광주' '광주광역시' '제주특별자치도']\n",
      "\n",
      "['평창군' '정선군' '태백시' '삼척시' '영월군' '횡성군' '원주시' '단양군' '제천시' '충주시' '청주시' '괴산군'\n",
      " '보은군' '음성군' '홍천군' '안성시' '이천시' '여주시' '양평군' '용인시' '화천군' '양구군' '춘천시' '인제군'\n",
      " '가평군' '남양주시' '광주시' '강동구' '성남시' '강남구' '성동구' '의정부시' '노원구' '성북구' '동대문구' '중구'\n",
      " '용산구' '영등포구' '마포구' '군포시' '안양시' '구로구' '동작구' '양천구' '강서구' '고양시' '김포시' '계양구'\n",
      " '파주시' '연천군' '철원군' '포천시' '양주시' '동두천시' '하남시' '구리시' '송파구' '천안시' '평택시' '화성시'\n",
      " '오산시' '의왕시' '수원시' '아산시' '강화군' '서구' '시흥시' '남동구' '화성군' '안산시' '고성군' '양양군'\n",
      " '속초시' '강릉시' '동해시' '봉화군' '안동시' '영양군' '청송군' '예천군' '의성군' '영주시' '문경시' '상주시'\n",
      " '군위군' '구미시' '김천시' '칠곡군' '성주군' '달성군' '영천시' '경산시' '동구' '북구' '달서구' '수성구'\n",
      " '합천군' '고령군' '창녕군' '달성구' '거창군' '의령군' '함양군' '남원시' '산청군' '진주시' '사천시' '하동군'\n",
      " '함안군' '창원시' '밀양시' '김해시' '경주시' '청도군' '양산시' '사상구' '사하구' '포항시' '울주군' '포항'\n",
      " '남구' '금정구' '수영구' '기장군' '동래구' '해운대구광역시' '부산광역시진구' '울진군' '영덕군' '남해군' '거제시'\n",
      " '창원' '진안군' '무주군' '장수군' '금산군' '영동군' '옥천군' '대덕구' '계룡시' '유성구' '유성구(신구교)'\n",
      " '논산시' '부강면' '진천군' '증평군' '조치원읍' '연서면' '연기면' '금남면' '장군면' '공주시' '부여군' '청양군'\n",
      " '익산시' '서천군' '군산시' '예산군' '당진군' '당진시' '홍성군' '서산시' '태안군' '보령시' '완주군' '전주시'\n",
      " '김제시' '정읍시' '부안군' '고창군' '임실군' '순창군' '곡성군' '보성군' '화순군' '순천시' '담양군' '장흥군'\n",
      " '구례군' '광양시' '강진군' '고흥군' '해남군' '완도군' '여수시' '광산구' '장성군' '나주시' '영암군' '함평군'\n",
      " '무안군' '목포시' '진도군' '영광군' '신안군' '제주시' '서귀포시' '서초구' '도봉구' '광명시' '부천시' '연동면']\n"
     ]
    }
   ],
   "source": [
    "# 주소 컬럼의 데이터를 공백을 기준으로 분리하여 시도, 시군구 추출\n",
    "code_df['시도'] = code_df['주소'].apply(lambda x: x.split()[0])\n",
    "code_df['시군구'] = code_df['주소'].apply(lambda x: x.split()[1])\n",
    "\n",
    "print(code_df['시도'].unique())\n",
    "print()\n",
    "print(code_df['시군구'].unique())"
   ]
  },
  {
   "cell_type": "code",
   "execution_count": 23,
   "metadata": {},
   "outputs": [],
   "source": [
    "sido_correction = {\n",
    "    '서울특별시': '서울특별시',\n",
    "    '인천광역시': '인천광역시',\n",
    "    '인천광역시시': '인천광역시',\n",
    "    '대구광역시': '대구광역시',\n",
    "    '대구광역시시': '대구광역시',\n",
    "    '부산광역시': '부산광역시',\n",
    "    '부산광역시시': '부산광역시',\n",
    "    '경기도': '경기도',\n",
    "    '강원도': '강원도',\n",
    "    '충청북도': '충청북도',\n",
    "    '충청남도': '충청남도',\n",
    "    '전라북도': '전라북도',\n",
    "    '전라남도': '전라남도',\n",
    "    '제주특별자치도': '제주특별자치도',\n",
    "    '세종특별자치시': '세종특별자치시',\n",
    "    '경상북도': '경상북도',\n",
    "    '경북': '경상북도',\n",
    "    '경상남도': '경상남도',\n",
    "    '광주광역시': '광주광역시',\n",
    "    '광주': '광주광역시',\n",
    "    '울산광역시': '울산광역시',\n",
    "    '울산광역시시': '울산광역시',\n",
    "    '대전광역시': '대전광역시',\n",
    "    '대전광역시시': '대전광역시'\n",
    "}"
   ]
  },
  {
   "cell_type": "code",
   "execution_count": 24,
   "metadata": {},
   "outputs": [
    {
     "data": {
      "text/plain": [
       "array(['강원도', '충청북도', '경기도', '서울특별시', '인천광역시', '충청남도', '경상북도', '대구광역시',\n",
       "       '경상남도', '전라북도', '부산광역시', '울산광역시', '대전광역시', '세종특별자치시', '전라남도',\n",
       "       '광주광역시', '제주특별자치도'], dtype=object)"
      ]
     },
     "execution_count": 24,
     "metadata": {},
     "output_type": "execute_result"
    }
   ],
   "source": [
    "# 오타 수정\n",
    "code_df['시도'] = code_df['시도'].map(sido_correction)\n",
    "code_df['시도'].unique()"
   ]
  },
  {
   "cell_type": "code",
   "execution_count": 25,
   "metadata": {},
   "outputs": [
    {
     "data": {
      "text/plain": [
       "array(['가평군', '강릉시', '고성군', '동해시', '삼척시', '속초시', '양구군', '양양군', '영월군',\n",
       "       '원주시', '인제군', '정선군', '철원군', '춘천시', '태백시', '파주시', '평창군', '홍천군',\n",
       "       '화천군', '횡성군'], dtype=object)"
      ]
     },
     "execution_count": 25,
     "metadata": {},
     "output_type": "execute_result"
    }
   ],
   "source": [
    "np.sort(code_df[code_df['시도']=='강원도']['시군구'].unique())"
   ]
  },
  {
   "cell_type": "code",
   "execution_count": 26,
   "metadata": {},
   "outputs": [
    {
     "data": {
      "text/plain": [
       "'1001A05,1001A10,1001A15,1001A20,1001A25,1001A30,1001A35,1001A40,1001A45,1001A50,1001A55,1001A60,1001A65,1001A70,1001A75,1001A80,1001A85,1001B10,1002A10,1002A20,1002A30,1002A40,1002A50,1002A55,1002D10,1002D20,1002D30,1002D40,1002D50,1002D60,1003A05,1003A10,1003A15,1005A55,1005A60,1005D10,1005D20,1006A05,1006A10,1006A15,1006A20,1006A25,1006A30,1006A35,1006A40,1006A45,1006A50,1006A55,1006A60,1006A65,1006A70,1006A80,1006B10,1006B20,1006B30,1006D05,1006D10,1006D15,1006D20,1006D25,1006D30,1006D35,1006D40,1006D45,1006D50,1006D55,1006D60,1006E11,1009A10,1009B10,1009B20,1010A10,1010A30,1010A40,1010A50,1010B10,1010B20,1010B30,1010B40,1010B50,1010B60,1010D10,1010D20,1011A10,1011A20,1011A30,1011D10,1012A20,1012A30,1012A40,1012B10,1012B20,1012B30,1012B35,1012B40,1012D10,1012E11,1013A05,1013A10,1013A20,1013A40,1013A50,1013A60,1013B10,1013B20,1013B30,1013D10,1013D20,1013D30,1014A10,1014A20,1014A30,1014A70,1014D10,1014D20,1014D30,1014D40,1014D50,1014D60,1014D70,1014D80,1014E10,1019D10,1021D10,1022A05,1022D05,1022D10,1022D15,1022D20,1022D25,1022D30,1301A10,1301A20,1301A30,1301B10,1301B20,1301B30,1301B40,1301B50,1301B60,1301B70,1301B80,1301D10,1301D20,1301D30,1301D40,1301D50,1301D60,1301D70,1302A10,1302A20,1302A30,1302A40,1302A50,1302A60,1302B05,1302B10,1302B20,1302B30,1302D05,1302D10,1302D15,1302D20,1302D25,1302D30,1302D35,1302D40,1302D45,1302D50,1302D55,1303A10,1303A20,1303A30,1303A40,1303A50,1303D10,2001A10,2001A20,2001A30,1001A06,1001A07,1001A08,1001A13,1001A21,1001A23,1001A38,1001A48,1001A73,1002A15,1002A18,1002A45,1003A08,1003A13,1006A28,1006A33,1006A38,1006A58,1006A63,1006A75,1010A33,1010A35,1011A05,1012A10,1012A15,1014A25,1014A40,1014A80,1014A90'"
      ]
     },
     "execution_count": 26,
     "metadata": {},
     "output_type": "execute_result"
    }
   ],
   "source": [
    "# 강원도 지점코드 추출\n",
    "codes = code_df[code_df['시도']=='강원도']['지점코드'].unique()\n",
    "codes_list = list(codes)\n",
    "code_Gangwon = ','.join(codes_list)\n",
    "code_Gangwon"
   ]
  },
  {
   "cell_type": "markdown",
   "metadata": {},
   "source": [
    "### 물환경 수질측정망 운영결과 월평균 DB"
   ]
  },
  {
   "cell_type": "code",
   "execution_count": 27,
   "metadata": {},
   "outputs": [],
   "source": [
    "new_cols = {\n",
    "    'PTNO': '조사지점코드',\n",
    "    'PTNM': '조사지점명',\n",
    "    'WMYR': '측정년도',\n",
    "    'WMOD': '측정월',\n",
    "    'ITEMTCOLI': '측정값(총대장균군)'\n",
    "}"
   ]
  },
  {
   "cell_type": "code",
   "execution_count": 28,
   "metadata": {},
   "outputs": [],
   "source": [
    "def GetWaterQuality(key, codes, year):\n",
    "    url = 'http://apis.data.go.kr/1480523/WaterQualityService/getWaterMeasuringListMavg' #API 호출 URL\n",
    "    params ={'serviceKey' : key, 'pageNo' : '1', 'numOfRows' : '5000', 'resultType' : 'JSON', 'ptNoList' : codes, 'wmyrList' : year} #parameter 지정\n",
    "    response = requests.get(url, params=params) #API 호출 응답 결과 저장\n",
    "    result = json.loads(response.content) #응답을 json 형식으로 변환\n",
    "    water_qual = pd.DataFrame(result['getWaterMeasuringListMavg']['item']) #item 항목을 data frame으로 저장\n",
    "\n",
    "    # 분석 대상 column만 추출\n",
    "    selected_columns = ['PTNM', 'PTNO', 'WMYR', 'WMOD', 'ITEMTCOLI']\n",
    "    water_qual = water_qual[selected_columns]\n",
    "\n",
    "    # 컬럼 이름 변경\n",
    "    water_qual.rename(columns=new_cols, inplace=True)\n",
    "\n",
    "    return water_qual"
   ]
  },
  {
   "cell_type": "code",
   "execution_count": 29,
   "metadata": {},
   "outputs": [],
   "source": [
    "WQ_2020 = GetWaterQuality(myKEY, code_Gangwon, '2020')\n",
    "WQ_2019 = GetWaterQuality(myKEY, code_Gangwon, '2019')\n",
    "WQ_2018 = GetWaterQuality(myKEY, code_Gangwon, '2018')"
   ]
  },
  {
   "cell_type": "code",
   "execution_count": 30,
   "metadata": {},
   "outputs": [
    {
     "data": {
      "text/html": [
       "<div>\n",
       "<style scoped>\n",
       "    .dataframe tbody tr th:only-of-type {\n",
       "        vertical-align: middle;\n",
       "    }\n",
       "\n",
       "    .dataframe tbody tr th {\n",
       "        vertical-align: top;\n",
       "    }\n",
       "\n",
       "    .dataframe thead th {\n",
       "        text-align: right;\n",
       "    }\n",
       "</style>\n",
       "<table border=\"1\" class=\"dataframe\">\n",
       "  <thead>\n",
       "    <tr style=\"text-align: right;\">\n",
       "      <th></th>\n",
       "      <th>조사지점명</th>\n",
       "      <th>조사지점코드</th>\n",
       "      <th>측정년도</th>\n",
       "      <th>측정월</th>\n",
       "      <th>측정값(총대장균군)</th>\n",
       "    </tr>\n",
       "  </thead>\n",
       "  <tbody>\n",
       "    <tr>\n",
       "      <th>573</th>\n",
       "      <td>섬강4</td>\n",
       "      <td>1006A60</td>\n",
       "      <td>2020</td>\n",
       "      <td>11</td>\n",
       "      <td>1120.0</td>\n",
       "    </tr>\n",
       "  </tbody>\n",
       "</table>\n",
       "</div>"
      ],
      "text/plain": [
       "    조사지점명   조사지점코드  측정년도 측정월  측정값(총대장균군)\n",
       "573   섬강4  1006A60  2020  11      1120.0"
      ]
     },
     "execution_count": 30,
     "metadata": {},
     "output_type": "execute_result"
    }
   ],
   "source": [
    "WQ_2020.sample()"
   ]
  },
  {
   "cell_type": "code",
   "execution_count": 31,
   "metadata": {},
   "outputs": [
    {
     "data": {
      "text/plain": [
       "(1423, 5)"
      ]
     },
     "execution_count": 31,
     "metadata": {},
     "output_type": "execute_result"
    }
   ],
   "source": [
    "WQ_2020.shape"
   ]
  },
  {
   "cell_type": "code",
   "execution_count": 32,
   "metadata": {},
   "outputs": [
    {
     "data": {
      "text/html": [
       "<div>\n",
       "<style scoped>\n",
       "    .dataframe tbody tr th:only-of-type {\n",
       "        vertical-align: middle;\n",
       "    }\n",
       "\n",
       "    .dataframe tbody tr th {\n",
       "        vertical-align: top;\n",
       "    }\n",
       "\n",
       "    .dataframe thead th {\n",
       "        text-align: right;\n",
       "    }\n",
       "</style>\n",
       "<table border=\"1\" class=\"dataframe\">\n",
       "  <thead>\n",
       "    <tr style=\"text-align: right;\">\n",
       "      <th></th>\n",
       "      <th>조사지점명</th>\n",
       "      <th>조사지점코드</th>\n",
       "      <th>측정년도</th>\n",
       "      <th>측정월</th>\n",
       "      <th>측정값(총대장균군)</th>\n",
       "    </tr>\n",
       "  </thead>\n",
       "  <tbody>\n",
       "    <tr>\n",
       "      <th>1290</th>\n",
       "      <td>화천</td>\n",
       "      <td>1009A10</td>\n",
       "      <td>2019</td>\n",
       "      <td>01</td>\n",
       "      <td>8.0</td>\n",
       "    </tr>\n",
       "  </tbody>\n",
       "</table>\n",
       "</div>"
      ],
      "text/plain": [
       "     조사지점명   조사지점코드  측정년도 측정월  측정값(총대장균군)\n",
       "1290    화천  1009A10  2019  01         8.0"
      ]
     },
     "execution_count": 32,
     "metadata": {},
     "output_type": "execute_result"
    }
   ],
   "source": [
    "WQ_2019.sample()"
   ]
  },
  {
   "cell_type": "code",
   "execution_count": 33,
   "metadata": {},
   "outputs": [
    {
     "data": {
      "text/plain": [
       "(1460, 5)"
      ]
     },
     "execution_count": 33,
     "metadata": {},
     "output_type": "execute_result"
    }
   ],
   "source": [
    "WQ_2019.shape"
   ]
  },
  {
   "cell_type": "code",
   "execution_count": 34,
   "metadata": {},
   "outputs": [
    {
     "data": {
      "text/html": [
       "<div>\n",
       "<style scoped>\n",
       "    .dataframe tbody tr th:only-of-type {\n",
       "        vertical-align: middle;\n",
       "    }\n",
       "\n",
       "    .dataframe tbody tr th {\n",
       "        vertical-align: top;\n",
       "    }\n",
       "\n",
       "    .dataframe thead th {\n",
       "        text-align: right;\n",
       "    }\n",
       "</style>\n",
       "<table border=\"1\" class=\"dataframe\">\n",
       "  <thead>\n",
       "    <tr style=\"text-align: right;\">\n",
       "      <th></th>\n",
       "      <th>조사지점명</th>\n",
       "      <th>조사지점코드</th>\n",
       "      <th>측정년도</th>\n",
       "      <th>측정월</th>\n",
       "      <th>측정값(총대장균군)</th>\n",
       "    </tr>\n",
       "  </thead>\n",
       "  <tbody>\n",
       "    <tr>\n",
       "      <th>1033</th>\n",
       "      <td>골지천4</td>\n",
       "      <td>1001A25</td>\n",
       "      <td>2018</td>\n",
       "      <td>06</td>\n",
       "      <td>2540.0</td>\n",
       "    </tr>\n",
       "  </tbody>\n",
       "</table>\n",
       "</div>"
      ],
      "text/plain": [
       "     조사지점명   조사지점코드  측정년도 측정월  측정값(총대장균군)\n",
       "1033  골지천4  1001A25  2018  06      2540.0"
      ]
     },
     "execution_count": 34,
     "metadata": {},
     "output_type": "execute_result"
    }
   ],
   "source": [
    "WQ_2018.sample()"
   ]
  },
  {
   "cell_type": "code",
   "execution_count": 35,
   "metadata": {},
   "outputs": [
    {
     "data": {
      "text/plain": [
       "(1610, 5)"
      ]
     },
     "execution_count": 35,
     "metadata": {},
     "output_type": "execute_result"
    }
   ],
   "source": [
    "WQ_2018.shape"
   ]
  },
  {
   "cell_type": "markdown",
   "metadata": {},
   "source": [
    "#### 결측치 처리"
   ]
  },
  {
   "cell_type": "code",
   "execution_count": 36,
   "metadata": {},
   "outputs": [],
   "source": [
    "def NullDist(df):\n",
    "    # 결측치가 있는 행\n",
    "    na_values = df[df['측정값(총대장균군)'].isna()]\n",
    "    # 결측치의 측정월 분포 계산\n",
    "    month_dist = na_values['측정월'].value_counts().sort_index()\n",
    "\n",
    "    # 측정월을 1월부터 12월까지 정렬\n",
    "    months = list(range(0, 12))\n",
    "    month_counts = [month_dist.get(month, 0) for month in months]\n",
    "    # 바 차트 작성\n",
    "    plt.bar(months, month_counts, color='skyblue', edgecolor='black')\n",
    "    plt.xticks(months, labels=['Jan', 'Feb', 'Mar', 'Apr', 'May', 'Jun', 'Jul', 'Aug', 'Sep', 'Oct', 'Nov', 'Dec'])\n",
    "    plt.show()"
   ]
  },
  {
   "cell_type": "code",
   "execution_count": 37,
   "metadata": {},
   "outputs": [],
   "source": [
    "def Interpolate(df, except_codes):\n",
    "    # 조건을 만족하는 행 필터링\n",
    "    filtered_data = df[df['조사지점코드'].isin(except_codes)]\n",
    "\n",
    "    # '조사지점코드'을 기준으로 그룹화하여 '측정값(총대장균군)' 딕셔너리 생성\n",
    "    coli_dict = {}\n",
    "    for code, group in filtered_data.groupby('조사지점코드'):\n",
    "        coli_dict[code] = group['측정값(총대장균군)'].tolist()\n",
    "\n",
    "    # nan 값의 비율이 50%가 넘는 '조사지점코드'만 except_codes에 남김\n",
    "    except_codes = [code for code in except_codes if np.mean(pd.Series(coli_dict[code]).isna()) >= 0.5]\n",
    "\n",
    "    # '조사지점명'을 기준으로 그룹화하여 '측정월' 딕셔너리 생성\n",
    "    month_dict = {}\n",
    "    for code, group in df.groupby('조사지점코드'):\n",
    "        months = group['측정월'].tolist()\n",
    "        if len(months) < 6: # 측정월이 1년의 절반이 안 되는 경우 배제\n",
    "            month_dict[code] = group['측정월'].tolist()\n",
    "\n",
    "    # except_codes에 위 경우에 해당하는 '조사지점코드'추가\n",
    "    new_keys = list(month_dict.keys())\n",
    "    except_codes.extend(new_keys)\n",
    "\n",
    "    # except_codes를 전체 데이터에서 배제\n",
    "    df = df[~df['조사지점코드'].isin(except_codes)]\n",
    "    df.isnull().sum()\n",
    "\n",
    "    # 전체 결측치에 대해 선형 보간\n",
    "    df.interpolate(method='linear', inplace=True, limit_direction='both')\n",
    "\n",
    "    return df"
   ]
  },
  {
   "cell_type": "markdown",
   "metadata": {},
   "source": [
    "2020년"
   ]
  },
  {
   "cell_type": "code",
   "execution_count": 38,
   "metadata": {},
   "outputs": [
    {
     "name": "stdout",
     "output_type": "stream",
     "text": [
      "            결측치 수  결측치 비율 (%)\n",
      "조사지점명           0         0.0\n",
      "조사지점코드          0         0.0\n",
      "측정년도            0         0.0\n",
      "측정월             0         0.0\n",
      "측정값(총대장균군)    175        12.3\n"
     ]
    }
   ],
   "source": [
    "# 결측치 수와 비율 계산\n",
    "mis_count_2020 = WQ_2020.isnull().sum()\n",
    "mis_ratio_2020 = round(mis_count_2020 / len(WQ_2020) * 100, 2)\n",
    "\n",
    "# 결측치 수와 비율 출력\n",
    "mis_info_2020 = pd.concat([mis_count_2020, mis_ratio_2020], axis=1, keys=['결측치 수', '결측치 비율 (%)'])\n",
    "print(mis_info_2020)"
   ]
  },
  {
   "cell_type": "code",
   "execution_count": 39,
   "metadata": {},
   "outputs": [
    {
     "data": {
      "text/html": [
       "<div>\n",
       "<style scoped>\n",
       "    .dataframe tbody tr th:only-of-type {\n",
       "        vertical-align: middle;\n",
       "    }\n",
       "\n",
       "    .dataframe tbody tr th {\n",
       "        vertical-align: top;\n",
       "    }\n",
       "\n",
       "    .dataframe thead th {\n",
       "        text-align: right;\n",
       "    }\n",
       "</style>\n",
       "<table border=\"1\" class=\"dataframe\">\n",
       "  <thead>\n",
       "    <tr style=\"text-align: right;\">\n",
       "      <th></th>\n",
       "      <th>조사지점명</th>\n",
       "      <th>조사지점코드</th>\n",
       "      <th>측정년도</th>\n",
       "      <th>측정월</th>\n",
       "      <th>측정값(총대장균군)</th>\n",
       "    </tr>\n",
       "  </thead>\n",
       "  <tbody>\n",
       "    <tr>\n",
       "      <th>0</th>\n",
       "      <td>송천1</td>\n",
       "      <td>1001A05</td>\n",
       "      <td>2020</td>\n",
       "      <td>01</td>\n",
       "      <td>620.0</td>\n",
       "    </tr>\n",
       "    <tr>\n",
       "      <th>1</th>\n",
       "      <td>송천1</td>\n",
       "      <td>1001A05</td>\n",
       "      <td>2020</td>\n",
       "      <td>02</td>\n",
       "      <td>1480.0</td>\n",
       "    </tr>\n",
       "    <tr>\n",
       "      <th>2</th>\n",
       "      <td>송천1</td>\n",
       "      <td>1001A05</td>\n",
       "      <td>2020</td>\n",
       "      <td>03</td>\n",
       "      <td>80.0</td>\n",
       "    </tr>\n",
       "    <tr>\n",
       "      <th>3</th>\n",
       "      <td>송천1</td>\n",
       "      <td>1001A05</td>\n",
       "      <td>2020</td>\n",
       "      <td>04</td>\n",
       "      <td>120.0</td>\n",
       "    </tr>\n",
       "    <tr>\n",
       "      <th>4</th>\n",
       "      <td>송천1</td>\n",
       "      <td>1001A05</td>\n",
       "      <td>2020</td>\n",
       "      <td>05</td>\n",
       "      <td>180.0</td>\n",
       "    </tr>\n",
       "    <tr>\n",
       "      <th>...</th>\n",
       "      <td>...</td>\n",
       "      <td>...</td>\n",
       "      <td>...</td>\n",
       "      <td>...</td>\n",
       "      <td>...</td>\n",
       "    </tr>\n",
       "    <tr>\n",
       "      <th>1418</th>\n",
       "      <td>황지2</td>\n",
       "      <td>2001A30</td>\n",
       "      <td>2020</td>\n",
       "      <td>08</td>\n",
       "      <td>NaN</td>\n",
       "    </tr>\n",
       "    <tr>\n",
       "      <th>1419</th>\n",
       "      <td>황지2</td>\n",
       "      <td>2001A30</td>\n",
       "      <td>2020</td>\n",
       "      <td>09</td>\n",
       "      <td>2400.0</td>\n",
       "    </tr>\n",
       "    <tr>\n",
       "      <th>1420</th>\n",
       "      <td>황지2</td>\n",
       "      <td>2001A30</td>\n",
       "      <td>2020</td>\n",
       "      <td>10</td>\n",
       "      <td>2240.0</td>\n",
       "    </tr>\n",
       "    <tr>\n",
       "      <th>1421</th>\n",
       "      <td>황지2</td>\n",
       "      <td>2001A30</td>\n",
       "      <td>2020</td>\n",
       "      <td>11</td>\n",
       "      <td>1600.0</td>\n",
       "    </tr>\n",
       "    <tr>\n",
       "      <th>1422</th>\n",
       "      <td>황지2</td>\n",
       "      <td>2001A30</td>\n",
       "      <td>2020</td>\n",
       "      <td>12</td>\n",
       "      <td>190.0</td>\n",
       "    </tr>\n",
       "  </tbody>\n",
       "</table>\n",
       "<p>1423 rows × 5 columns</p>\n",
       "</div>"
      ],
      "text/plain": [
       "     조사지점명   조사지점코드  측정년도 측정월  측정값(총대장균군)\n",
       "0      송천1  1001A05  2020  01       620.0\n",
       "1      송천1  1001A05  2020  02      1480.0\n",
       "2      송천1  1001A05  2020  03        80.0\n",
       "3      송천1  1001A05  2020  04       120.0\n",
       "4      송천1  1001A05  2020  05       180.0\n",
       "...    ...      ...   ...  ..         ...\n",
       "1418   황지2  2001A30  2020  08         NaN\n",
       "1419   황지2  2001A30  2020  09      2400.0\n",
       "1420   황지2  2001A30  2020  10      2240.0\n",
       "1421   황지2  2001A30  2020  11      1600.0\n",
       "1422   황지2  2001A30  2020  12       190.0\n",
       "\n",
       "[1423 rows x 5 columns]"
      ]
     },
     "execution_count": 39,
     "metadata": {},
     "output_type": "execute_result"
    }
   ],
   "source": [
    "# '조사지점코드'을 기준으로 '측정월'을 바르게 정렬\n",
    "WQ_2020 = WQ_2020.groupby('조사지점코드').apply(lambda x: x.sort_values('측정월', ascending=True)).reset_index(drop=True)\n",
    "WQ_2020"
   ]
  },
  {
   "cell_type": "code",
   "execution_count": 40,
   "metadata": {},
   "outputs": [
    {
     "data": {
      "text/html": [
       "<div>\n",
       "<style scoped>\n",
       "    .dataframe tbody tr th:only-of-type {\n",
       "        vertical-align: middle;\n",
       "    }\n",
       "\n",
       "    .dataframe tbody tr th {\n",
       "        vertical-align: top;\n",
       "    }\n",
       "\n",
       "    .dataframe thead th {\n",
       "        text-align: right;\n",
       "    }\n",
       "</style>\n",
       "<table border=\"1\" class=\"dataframe\">\n",
       "  <thead>\n",
       "    <tr style=\"text-align: right;\">\n",
       "      <th></th>\n",
       "      <th>측정값(총대장균군)</th>\n",
       "    </tr>\n",
       "  </thead>\n",
       "  <tbody>\n",
       "    <tr>\n",
       "      <th>count</th>\n",
       "      <td>1248.000000</td>\n",
       "    </tr>\n",
       "    <tr>\n",
       "      <th>mean</th>\n",
       "      <td>3688.653846</td>\n",
       "    </tr>\n",
       "    <tr>\n",
       "      <th>std</th>\n",
       "      <td>12003.875075</td>\n",
       "    </tr>\n",
       "    <tr>\n",
       "      <th>min</th>\n",
       "      <td>0.000000</td>\n",
       "    </tr>\n",
       "    <tr>\n",
       "      <th>25%</th>\n",
       "      <td>100.000000</td>\n",
       "    </tr>\n",
       "    <tr>\n",
       "      <th>50%</th>\n",
       "      <td>585.000000</td>\n",
       "    </tr>\n",
       "    <tr>\n",
       "      <th>75%</th>\n",
       "      <td>2515.000000</td>\n",
       "    </tr>\n",
       "    <tr>\n",
       "      <th>max</th>\n",
       "      <td>248000.000000</td>\n",
       "    </tr>\n",
       "  </tbody>\n",
       "</table>\n",
       "</div>"
      ],
      "text/plain": [
       "          측정값(총대장균군)\n",
       "count    1248.000000\n",
       "mean     3688.653846\n",
       "std     12003.875075\n",
       "min         0.000000\n",
       "25%       100.000000\n",
       "50%       585.000000\n",
       "75%      2515.000000\n",
       "max    248000.000000"
      ]
     },
     "execution_count": 40,
     "metadata": {},
     "output_type": "execute_result"
    }
   ],
   "source": [
    "WQ_2020.describe()"
   ]
  },
  {
   "cell_type": "code",
   "execution_count": 41,
   "metadata": {},
   "outputs": [
    {
     "data": {
      "image/png": "[encoded data removed]",
      "text/plain": [
       "<Figure size 640x480 with 1 Axes>"
      ]
     },
     "metadata": {},
     "output_type": "display_data"
    }
   ],
   "source": [
    "NullDist(WQ_2020)"
   ]
  },
  {
   "cell_type": "code",
   "execution_count": 42,
   "metadata": {},
   "outputs": [
    {
     "name": "stdout",
     "output_type": "stream",
     "text": [
      "['1006A63', '1006A75', '1006B10', '1009B10', '1009B20', '1010A35']\n"
     ]
    }
   ],
   "source": [
    "except_codes_2020 = list(WQ_2020[(WQ_2020['측정값(총대장균군)'].isna()) & (WQ_2020['측정월']!='08')]['조사지점코드'].unique())\n",
    "print(except_codes_2020)"
   ]
  },
  {
   "cell_type": "code",
   "execution_count": 43,
   "metadata": {},
   "outputs": [
    {
     "data": {
      "text/plain": [
       "조사지점명         0\n",
       "조사지점코드        0\n",
       "측정년도          0\n",
       "측정월           0\n",
       "측정값(총대장균군)    0\n",
       "dtype: int64"
      ]
     },
     "execution_count": 43,
     "metadata": {},
     "output_type": "execute_result"
    }
   ],
   "source": [
    "WQ_2020 = Interpolate(WQ_2020, except_codes_2020)\n",
    "WQ_2020.isnull().sum()"
   ]
  },
  {
   "cell_type": "code",
   "execution_count": 44,
   "metadata": {},
   "outputs": [
    {
     "data": {
      "text/html": [
       "<div>\n",
       "<style scoped>\n",
       "    .dataframe tbody tr th:only-of-type {\n",
       "        vertical-align: middle;\n",
       "    }\n",
       "\n",
       "    .dataframe tbody tr th {\n",
       "        vertical-align: top;\n",
       "    }\n",
       "\n",
       "    .dataframe thead th {\n",
       "        text-align: right;\n",
       "    }\n",
       "</style>\n",
       "<table border=\"1\" class=\"dataframe\">\n",
       "  <thead>\n",
       "    <tr style=\"text-align: right;\">\n",
       "      <th></th>\n",
       "      <th>측정값(총대장균군)</th>\n",
       "    </tr>\n",
       "  </thead>\n",
       "  <tbody>\n",
       "    <tr>\n",
       "      <th>count</th>\n",
       "      <td>1354.000000</td>\n",
       "    </tr>\n",
       "    <tr>\n",
       "      <th>mean</th>\n",
       "      <td>4176.319793</td>\n",
       "    </tr>\n",
       "    <tr>\n",
       "      <th>std</th>\n",
       "      <td>12518.614762</td>\n",
       "    </tr>\n",
       "    <tr>\n",
       "      <th>min</th>\n",
       "      <td>0.000000</td>\n",
       "    </tr>\n",
       "    <tr>\n",
       "      <th>25%</th>\n",
       "      <td>117.750000</td>\n",
       "    </tr>\n",
       "    <tr>\n",
       "      <th>50%</th>\n",
       "      <td>720.000000</td>\n",
       "    </tr>\n",
       "    <tr>\n",
       "      <th>75%</th>\n",
       "      <td>3000.000000</td>\n",
       "    </tr>\n",
       "    <tr>\n",
       "      <th>max</th>\n",
       "      <td>248000.000000</td>\n",
       "    </tr>\n",
       "  </tbody>\n",
       "</table>\n",
       "</div>"
      ],
      "text/plain": [
       "          측정값(총대장균군)\n",
       "count    1354.000000\n",
       "mean     4176.319793\n",
       "std     12518.614762\n",
       "min         0.000000\n",
       "25%       117.750000\n",
       "50%       720.000000\n",
       "75%      3000.000000\n",
       "max    248000.000000"
      ]
     },
     "execution_count": 44,
     "metadata": {},
     "output_type": "execute_result"
    }
   ],
   "source": [
    "WQ_2020.describe()"
   ]
  },
  {
   "cell_type": "markdown",
   "metadata": {},
   "source": [
    "2019년"
   ]
  },
  {
   "cell_type": "code",
   "execution_count": 45,
   "metadata": {},
   "outputs": [
    {
     "name": "stdout",
     "output_type": "stream",
     "text": [
      "            결측치 수  결측치 비율 (%)\n",
      "조사지점명           0        0.00\n",
      "조사지점코드          0        0.00\n",
      "측정년도            0        0.00\n",
      "측정월             0        0.00\n",
      "측정값(총대장균군)    119        8.15\n"
     ]
    }
   ],
   "source": [
    "# 결측치 수와 비율 계산\n",
    "mis_count_2019 = WQ_2019.isnull().sum()\n",
    "mis_ratio_2019 = round(mis_count_2019 / len(WQ_2019) * 100, 2)\n",
    "\n",
    "# 결측치 수와 비율 출력\n",
    "mis_info_2019 = pd.concat([mis_count_2019, mis_ratio_2019], axis=1, keys=['결측치 수', '결측치 비율 (%)'])\n",
    "print(mis_info_2019)"
   ]
  },
  {
   "cell_type": "code",
   "execution_count": 46,
   "metadata": {},
   "outputs": [
    {
     "data": {
      "text/html": [
       "<div>\n",
       "<style scoped>\n",
       "    .dataframe tbody tr th:only-of-type {\n",
       "        vertical-align: middle;\n",
       "    }\n",
       "\n",
       "    .dataframe tbody tr th {\n",
       "        vertical-align: top;\n",
       "    }\n",
       "\n",
       "    .dataframe thead th {\n",
       "        text-align: right;\n",
       "    }\n",
       "</style>\n",
       "<table border=\"1\" class=\"dataframe\">\n",
       "  <thead>\n",
       "    <tr style=\"text-align: right;\">\n",
       "      <th></th>\n",
       "      <th>조사지점명</th>\n",
       "      <th>조사지점코드</th>\n",
       "      <th>측정년도</th>\n",
       "      <th>측정월</th>\n",
       "      <th>측정값(총대장균군)</th>\n",
       "    </tr>\n",
       "  </thead>\n",
       "  <tbody>\n",
       "    <tr>\n",
       "      <th>0</th>\n",
       "      <td>송천1</td>\n",
       "      <td>1001A05</td>\n",
       "      <td>2019</td>\n",
       "      <td>02</td>\n",
       "      <td>3780.0</td>\n",
       "    </tr>\n",
       "    <tr>\n",
       "      <th>1</th>\n",
       "      <td>송천1</td>\n",
       "      <td>1001A05</td>\n",
       "      <td>2019</td>\n",
       "      <td>03</td>\n",
       "      <td>1040.0</td>\n",
       "    </tr>\n",
       "    <tr>\n",
       "      <th>2</th>\n",
       "      <td>송천1</td>\n",
       "      <td>1001A05</td>\n",
       "      <td>2019</td>\n",
       "      <td>04</td>\n",
       "      <td>840.0</td>\n",
       "    </tr>\n",
       "    <tr>\n",
       "      <th>3</th>\n",
       "      <td>송천1</td>\n",
       "      <td>1001A05</td>\n",
       "      <td>2019</td>\n",
       "      <td>05</td>\n",
       "      <td>1240.0</td>\n",
       "    </tr>\n",
       "    <tr>\n",
       "      <th>4</th>\n",
       "      <td>송천1</td>\n",
       "      <td>1001A05</td>\n",
       "      <td>2019</td>\n",
       "      <td>06</td>\n",
       "      <td>22500.0</td>\n",
       "    </tr>\n",
       "    <tr>\n",
       "      <th>...</th>\n",
       "      <td>...</td>\n",
       "      <td>...</td>\n",
       "      <td>...</td>\n",
       "      <td>...</td>\n",
       "      <td>...</td>\n",
       "    </tr>\n",
       "    <tr>\n",
       "      <th>1455</th>\n",
       "      <td>황지2</td>\n",
       "      <td>2001A30</td>\n",
       "      <td>2019</td>\n",
       "      <td>08</td>\n",
       "      <td>22000.0</td>\n",
       "    </tr>\n",
       "    <tr>\n",
       "      <th>1456</th>\n",
       "      <td>황지2</td>\n",
       "      <td>2001A30</td>\n",
       "      <td>2019</td>\n",
       "      <td>09</td>\n",
       "      <td>12000.0</td>\n",
       "    </tr>\n",
       "    <tr>\n",
       "      <th>1457</th>\n",
       "      <td>황지2</td>\n",
       "      <td>2001A30</td>\n",
       "      <td>2019</td>\n",
       "      <td>10</td>\n",
       "      <td>32400.0</td>\n",
       "    </tr>\n",
       "    <tr>\n",
       "      <th>1458</th>\n",
       "      <td>황지2</td>\n",
       "      <td>2001A30</td>\n",
       "      <td>2019</td>\n",
       "      <td>11</td>\n",
       "      <td>20200.0</td>\n",
       "    </tr>\n",
       "    <tr>\n",
       "      <th>1459</th>\n",
       "      <td>황지2</td>\n",
       "      <td>2001A30</td>\n",
       "      <td>2019</td>\n",
       "      <td>12</td>\n",
       "      <td>5000.0</td>\n",
       "    </tr>\n",
       "  </tbody>\n",
       "</table>\n",
       "<p>1460 rows × 5 columns</p>\n",
       "</div>"
      ],
      "text/plain": [
       "     조사지점명   조사지점코드  측정년도 측정월  측정값(총대장균군)\n",
       "0      송천1  1001A05  2019  02      3780.0\n",
       "1      송천1  1001A05  2019  03      1040.0\n",
       "2      송천1  1001A05  2019  04       840.0\n",
       "3      송천1  1001A05  2019  05      1240.0\n",
       "4      송천1  1001A05  2019  06     22500.0\n",
       "...    ...      ...   ...  ..         ...\n",
       "1455   황지2  2001A30  2019  08     22000.0\n",
       "1456   황지2  2001A30  2019  09     12000.0\n",
       "1457   황지2  2001A30  2019  10     32400.0\n",
       "1458   황지2  2001A30  2019  11     20200.0\n",
       "1459   황지2  2001A30  2019  12      5000.0\n",
       "\n",
       "[1460 rows x 5 columns]"
      ]
     },
     "execution_count": 46,
     "metadata": {},
     "output_type": "execute_result"
    }
   ],
   "source": [
    "# '조사지점코드'을 기준으로 '측정월'을 바르게 정렬\n",
    "WQ_2019 = WQ_2019.groupby('조사지점코드').apply(lambda x: x.sort_values('측정월', ascending=True)).reset_index(drop=True)\n",
    "WQ_2019"
   ]
  },
  {
   "cell_type": "code",
   "execution_count": 47,
   "metadata": {},
   "outputs": [
    {
     "data": {
      "text/html": [
       "<div>\n",
       "<style scoped>\n",
       "    .dataframe tbody tr th:only-of-type {\n",
       "        vertical-align: middle;\n",
       "    }\n",
       "\n",
       "    .dataframe tbody tr th {\n",
       "        vertical-align: top;\n",
       "    }\n",
       "\n",
       "    .dataframe thead th {\n",
       "        text-align: right;\n",
       "    }\n",
       "</style>\n",
       "<table border=\"1\" class=\"dataframe\">\n",
       "  <thead>\n",
       "    <tr style=\"text-align: right;\">\n",
       "      <th></th>\n",
       "      <th>측정값(총대장균군)</th>\n",
       "    </tr>\n",
       "  </thead>\n",
       "  <tbody>\n",
       "    <tr>\n",
       "      <th>count</th>\n",
       "      <td>1341.000000</td>\n",
       "    </tr>\n",
       "    <tr>\n",
       "      <th>mean</th>\n",
       "      <td>6640.016406</td>\n",
       "    </tr>\n",
       "    <tr>\n",
       "      <th>std</th>\n",
       "      <td>16283.297029</td>\n",
       "    </tr>\n",
       "    <tr>\n",
       "      <th>min</th>\n",
       "      <td>0.000000</td>\n",
       "    </tr>\n",
       "    <tr>\n",
       "      <th>25%</th>\n",
       "      <td>130.000000</td>\n",
       "    </tr>\n",
       "    <tr>\n",
       "      <th>50%</th>\n",
       "      <td>873.000000</td>\n",
       "    </tr>\n",
       "    <tr>\n",
       "      <th>75%</th>\n",
       "      <td>5327.000000</td>\n",
       "    </tr>\n",
       "    <tr>\n",
       "      <th>max</th>\n",
       "      <td>167000.000000</td>\n",
       "    </tr>\n",
       "  </tbody>\n",
       "</table>\n",
       "</div>"
      ],
      "text/plain": [
       "          측정값(총대장균군)\n",
       "count    1341.000000\n",
       "mean     6640.016406\n",
       "std     16283.297029\n",
       "min         0.000000\n",
       "25%       130.000000\n",
       "50%       873.000000\n",
       "75%      5327.000000\n",
       "max    167000.000000"
      ]
     },
     "execution_count": 47,
     "metadata": {},
     "output_type": "execute_result"
    }
   ],
   "source": [
    "WQ_2019.describe()"
   ]
  },
  {
   "cell_type": "code",
   "execution_count": 48,
   "metadata": {},
   "outputs": [
    {
     "data": {
      "image/png": "[encoded data removed]",
      "text/plain": [
       "<Figure size 640x480 with 1 Axes>"
      ]
     },
     "metadata": {},
     "output_type": "display_data"
    }
   ],
   "source": [
    "NullDist(WQ_2019)"
   ]
  },
  {
   "cell_type": "code",
   "execution_count": 49,
   "metadata": {},
   "outputs": [
    {
     "name": "stdout",
     "output_type": "stream",
     "text": [
      "['1001A15', '1001A20', '1001A75', '1001A85', '1002D30', '1002D40', '1002D60', '1005D10', '1005D20', '1006A63', '1006A75', '1006B10', '1006B20', '1006B30', '1006D10', '1006D15', '1006D20', '1006D25', '1006D30', '1006D35', '1006D40', '1006D45', '1006D50', '1006D55', '1006D60', '1009B20', '1010A35', '1010D10', '1010D20', '1011D10', '1012D10', '1013D10', '1013D30', '1014A70', '1014D10', '1014D30', '1014D40', '1014D50', '1014D60', '1014D70', '1014D80', '1019D10', '1021D10', '1022D05', '1022D10', '1022D20', '1022D25', '1022D30', '1301A10', '1301B10', '1301B20', '1301B30', '1301B40', '1301B50', '1301D10', '1301D20', '1301D30', '1301D40', '1301D50', '1301D60', '1301D70', '1302A50', '1302A60', '1302D05', '1302D10', '1302D20', '1302D25', '1302D30', '1302D35', '1302D40', '1302D45', '1302D50', '1302D55']\n"
     ]
    }
   ],
   "source": [
    "except_codes_2019 = list(WQ_2019[(WQ_2019['측정값(총대장균군)'].isna()) & (WQ_2020['측정월']!='03')]['조사지점코드'].unique())\n",
    "print(except_codes_2019)"
   ]
  },
  {
   "cell_type": "code",
   "execution_count": 50,
   "metadata": {},
   "outputs": [
    {
     "data": {
      "text/plain": [
       "조사지점명         0\n",
       "조사지점코드        0\n",
       "측정년도          0\n",
       "측정월           0\n",
       "측정값(총대장균군)    0\n",
       "dtype: int64"
      ]
     },
     "execution_count": 50,
     "metadata": {},
     "output_type": "execute_result"
    }
   ],
   "source": [
    "WQ_2019 = Interpolate(WQ_2019, except_codes_2019)\n",
    "WQ_2019.isnull().sum()"
   ]
  },
  {
   "cell_type": "code",
   "execution_count": 51,
   "metadata": {},
   "outputs": [
    {
     "data": {
      "text/html": [
       "<div>\n",
       "<style scoped>\n",
       "    .dataframe tbody tr th:only-of-type {\n",
       "        vertical-align: middle;\n",
       "    }\n",
       "\n",
       "    .dataframe tbody tr th {\n",
       "        vertical-align: top;\n",
       "    }\n",
       "\n",
       "    .dataframe thead th {\n",
       "        text-align: right;\n",
       "    }\n",
       "</style>\n",
       "<table border=\"1\" class=\"dataframe\">\n",
       "  <thead>\n",
       "    <tr style=\"text-align: right;\">\n",
       "      <th></th>\n",
       "      <th>측정값(총대장균군)</th>\n",
       "    </tr>\n",
       "  </thead>\n",
       "  <tbody>\n",
       "    <tr>\n",
       "      <th>count</th>\n",
       "      <td>1362.000000</td>\n",
       "    </tr>\n",
       "    <tr>\n",
       "      <th>mean</th>\n",
       "      <td>6615.361233</td>\n",
       "    </tr>\n",
       "    <tr>\n",
       "      <th>std</th>\n",
       "      <td>16188.249766</td>\n",
       "    </tr>\n",
       "    <tr>\n",
       "      <th>min</th>\n",
       "      <td>0.000000</td>\n",
       "    </tr>\n",
       "    <tr>\n",
       "      <th>25%</th>\n",
       "      <td>130.000000</td>\n",
       "    </tr>\n",
       "    <tr>\n",
       "      <th>50%</th>\n",
       "      <td>873.000000</td>\n",
       "    </tr>\n",
       "    <tr>\n",
       "      <th>75%</th>\n",
       "      <td>5327.000000</td>\n",
       "    </tr>\n",
       "    <tr>\n",
       "      <th>max</th>\n",
       "      <td>167000.000000</td>\n",
       "    </tr>\n",
       "  </tbody>\n",
       "</table>\n",
       "</div>"
      ],
      "text/plain": [
       "          측정값(총대장균군)\n",
       "count    1362.000000\n",
       "mean     6615.361233\n",
       "std     16188.249766\n",
       "min         0.000000\n",
       "25%       130.000000\n",
       "50%       873.000000\n",
       "75%      5327.000000\n",
       "max    167000.000000"
      ]
     },
     "execution_count": 51,
     "metadata": {},
     "output_type": "execute_result"
    }
   ],
   "source": [
    "WQ_2019.describe()"
   ]
  },
  {
   "cell_type": "code",
   "execution_count": 52,
   "metadata": {},
   "outputs": [
    {
     "name": "stdout",
     "output_type": "stream",
     "text": [
      "<class 'pandas.core.frame.DataFrame'>\n",
      "Index: 1362 entries, 0 to 1459\n",
      "Data columns (total 5 columns):\n",
      " #   Column      Non-Null Count  Dtype  \n",
      "---  ------      --------------  -----  \n",
      " 0   조사지점명       1362 non-null   object \n",
      " 1   조사지점코드      1362 non-null   object \n",
      " 2   측정년도        1362 non-null   object \n",
      " 3   측정월         1362 non-null   object \n",
      " 4   측정값(총대장균군)  1362 non-null   float64\n",
      "dtypes: float64(1), object(4)\n",
      "memory usage: 63.8+ KB\n"
     ]
    }
   ],
   "source": [
    "WQ_2019.info()"
   ]
  },
  {
   "cell_type": "markdown",
   "metadata": {},
   "source": [
    "2018년"
   ]
  },
  {
   "cell_type": "code",
   "execution_count": 53,
   "metadata": {},
   "outputs": [
    {
     "name": "stdout",
     "output_type": "stream",
     "text": [
      "            결측치 수  결측치 비율 (%)\n",
      "조사지점명           0        0.00\n",
      "조사지점코드          0        0.00\n",
      "측정년도            0        0.00\n",
      "측정월             0        0.00\n",
      "측정값(총대장균군)    284       17.64\n"
     ]
    }
   ],
   "source": [
    "# 결측치 수와 비율 계산\n",
    "mis_count_2018 = WQ_2018.isnull().sum()\n",
    "mis_ratio_2018 = round(mis_count_2018 / len(WQ_2018) * 100, 2)\n",
    "\n",
    "# 결측치 수와 비율 출력\n",
    "mis_info_2018 = pd.concat([mis_count_2018, mis_ratio_2018], axis=1, keys=['결측치 수', '결측치 비율 (%)'])\n",
    "print(mis_info_2018)"
   ]
  },
  {
   "cell_type": "code",
   "execution_count": 54,
   "metadata": {},
   "outputs": [
    {
     "data": {
      "text/html": [
       "<div>\n",
       "<style scoped>\n",
       "    .dataframe tbody tr th:only-of-type {\n",
       "        vertical-align: middle;\n",
       "    }\n",
       "\n",
       "    .dataframe tbody tr th {\n",
       "        vertical-align: top;\n",
       "    }\n",
       "\n",
       "    .dataframe thead th {\n",
       "        text-align: right;\n",
       "    }\n",
       "</style>\n",
       "<table border=\"1\" class=\"dataframe\">\n",
       "  <thead>\n",
       "    <tr style=\"text-align: right;\">\n",
       "      <th></th>\n",
       "      <th>조사지점명</th>\n",
       "      <th>조사지점코드</th>\n",
       "      <th>측정년도</th>\n",
       "      <th>측정월</th>\n",
       "      <th>측정값(총대장균군)</th>\n",
       "    </tr>\n",
       "  </thead>\n",
       "  <tbody>\n",
       "    <tr>\n",
       "      <th>0</th>\n",
       "      <td>송천1</td>\n",
       "      <td>1001A05</td>\n",
       "      <td>2018</td>\n",
       "      <td>01</td>\n",
       "      <td>5700.0</td>\n",
       "    </tr>\n",
       "    <tr>\n",
       "      <th>1</th>\n",
       "      <td>송천1</td>\n",
       "      <td>1001A05</td>\n",
       "      <td>2018</td>\n",
       "      <td>03</td>\n",
       "      <td>3120.0</td>\n",
       "    </tr>\n",
       "    <tr>\n",
       "      <th>2</th>\n",
       "      <td>송천1</td>\n",
       "      <td>1001A05</td>\n",
       "      <td>2018</td>\n",
       "      <td>04</td>\n",
       "      <td>11500.0</td>\n",
       "    </tr>\n",
       "    <tr>\n",
       "      <th>3</th>\n",
       "      <td>송천1</td>\n",
       "      <td>1001A05</td>\n",
       "      <td>2018</td>\n",
       "      <td>05</td>\n",
       "      <td>7640.0</td>\n",
       "    </tr>\n",
       "    <tr>\n",
       "      <th>4</th>\n",
       "      <td>송천1</td>\n",
       "      <td>1001A05</td>\n",
       "      <td>2018</td>\n",
       "      <td>06</td>\n",
       "      <td>33200.0</td>\n",
       "    </tr>\n",
       "    <tr>\n",
       "      <th>...</th>\n",
       "      <td>...</td>\n",
       "      <td>...</td>\n",
       "      <td>...</td>\n",
       "      <td>...</td>\n",
       "      <td>...</td>\n",
       "    </tr>\n",
       "    <tr>\n",
       "      <th>1605</th>\n",
       "      <td>황지2</td>\n",
       "      <td>2001A30</td>\n",
       "      <td>2018</td>\n",
       "      <td>08</td>\n",
       "      <td>12700.0</td>\n",
       "    </tr>\n",
       "    <tr>\n",
       "      <th>1606</th>\n",
       "      <td>황지2</td>\n",
       "      <td>2001A30</td>\n",
       "      <td>2018</td>\n",
       "      <td>09</td>\n",
       "      <td>10600.0</td>\n",
       "    </tr>\n",
       "    <tr>\n",
       "      <th>1607</th>\n",
       "      <td>황지2</td>\n",
       "      <td>2001A30</td>\n",
       "      <td>2018</td>\n",
       "      <td>10</td>\n",
       "      <td>28400.0</td>\n",
       "    </tr>\n",
       "    <tr>\n",
       "      <th>1608</th>\n",
       "      <td>황지2</td>\n",
       "      <td>2001A30</td>\n",
       "      <td>2018</td>\n",
       "      <td>11</td>\n",
       "      <td>4100.0</td>\n",
       "    </tr>\n",
       "    <tr>\n",
       "      <th>1609</th>\n",
       "      <td>황지2</td>\n",
       "      <td>2001A30</td>\n",
       "      <td>2018</td>\n",
       "      <td>12</td>\n",
       "      <td>9640.0</td>\n",
       "    </tr>\n",
       "  </tbody>\n",
       "</table>\n",
       "<p>1610 rows × 5 columns</p>\n",
       "</div>"
      ],
      "text/plain": [
       "     조사지점명   조사지점코드  측정년도 측정월  측정값(총대장균군)\n",
       "0      송천1  1001A05  2018  01      5700.0\n",
       "1      송천1  1001A05  2018  03      3120.0\n",
       "2      송천1  1001A05  2018  04     11500.0\n",
       "3      송천1  1001A05  2018  05      7640.0\n",
       "4      송천1  1001A05  2018  06     33200.0\n",
       "...    ...      ...   ...  ..         ...\n",
       "1605   황지2  2001A30  2018  08     12700.0\n",
       "1606   황지2  2001A30  2018  09     10600.0\n",
       "1607   황지2  2001A30  2018  10     28400.0\n",
       "1608   황지2  2001A30  2018  11      4100.0\n",
       "1609   황지2  2001A30  2018  12      9640.0\n",
       "\n",
       "[1610 rows x 5 columns]"
      ]
     },
     "execution_count": 54,
     "metadata": {},
     "output_type": "execute_result"
    }
   ],
   "source": [
    "# '조사지점코드'을 기준으로 '측정월'을 바르게 정렬\n",
    "WQ_2018 = WQ_2018.groupby('조사지점코드').apply(lambda x: x.sort_values('측정월', ascending=True)).reset_index(drop=True)\n",
    "WQ_2018"
   ]
  },
  {
   "cell_type": "code",
   "execution_count": 55,
   "metadata": {},
   "outputs": [
    {
     "data": {
      "text/html": [
       "<div>\n",
       "<style scoped>\n",
       "    .dataframe tbody tr th:only-of-type {\n",
       "        vertical-align: middle;\n",
       "    }\n",
       "\n",
       "    .dataframe tbody tr th {\n",
       "        vertical-align: top;\n",
       "    }\n",
       "\n",
       "    .dataframe thead th {\n",
       "        text-align: right;\n",
       "    }\n",
       "</style>\n",
       "<table border=\"1\" class=\"dataframe\">\n",
       "  <thead>\n",
       "    <tr style=\"text-align: right;\">\n",
       "      <th></th>\n",
       "      <th>측정값(총대장균군)</th>\n",
       "    </tr>\n",
       "  </thead>\n",
       "  <tbody>\n",
       "    <tr>\n",
       "      <th>count</th>\n",
       "      <td>1326.000000</td>\n",
       "    </tr>\n",
       "    <tr>\n",
       "      <th>mean</th>\n",
       "      <td>9030.554299</td>\n",
       "    </tr>\n",
       "    <tr>\n",
       "      <th>std</th>\n",
       "      <td>27761.958450</td>\n",
       "    </tr>\n",
       "    <tr>\n",
       "      <th>min</th>\n",
       "      <td>0.000000</td>\n",
       "    </tr>\n",
       "    <tr>\n",
       "      <th>25%</th>\n",
       "      <td>237.000000</td>\n",
       "    </tr>\n",
       "    <tr>\n",
       "      <th>50%</th>\n",
       "      <td>1295.000000</td>\n",
       "    </tr>\n",
       "    <tr>\n",
       "      <th>75%</th>\n",
       "      <td>7275.000000</td>\n",
       "    </tr>\n",
       "    <tr>\n",
       "      <th>max</th>\n",
       "      <td>752000.000000</td>\n",
       "    </tr>\n",
       "  </tbody>\n",
       "</table>\n",
       "</div>"
      ],
      "text/plain": [
       "          측정값(총대장균군)\n",
       "count    1326.000000\n",
       "mean     9030.554299\n",
       "std     27761.958450\n",
       "min         0.000000\n",
       "25%       237.000000\n",
       "50%      1295.000000\n",
       "75%      7275.000000\n",
       "max    752000.000000"
      ]
     },
     "execution_count": 55,
     "metadata": {},
     "output_type": "execute_result"
    }
   ],
   "source": [
    "WQ_2018.describe()"
   ]
  },
  {
   "cell_type": "code",
   "execution_count": 56,
   "metadata": {},
   "outputs": [
    {
     "data": {
      "image/png": "[encoded data removed]",
      "text/plain": [
       "<Figure size 640x480 with 1 Axes>"
      ]
     },
     "metadata": {},
     "output_type": "display_data"
    }
   ],
   "source": [
    "NullDist(WQ_2018)"
   ]
  },
  {
   "cell_type": "code",
   "execution_count": 57,
   "metadata": {},
   "outputs": [
    {
     "name": "stdout",
     "output_type": "stream",
     "text": [
      "['1001A85', '1002D10', '1002D20', '1002D30', '1002D40', '1002D50', '1002D60', '1005D10', '1005D20', '1006A63', '1006A75', '1006D05', '1006D10', '1006D15', '1006D20', '1006D25', '1006D30', '1006D35', '1006D40', '1006D45', '1006D50', '1006D55', '1006D60', '1010A35', '1010D10', '1010D20', '1011D10', '1012D10', '1013D20', '1014D10', '1014D20', '1014D30', '1014D40', '1014D50', '1014D60', '1014D80', '1021D10', '1022D05', '1022D10', '1022D15', '1022D20', '1022D25', '1022D30', '1301D10', '1301D20', '1301D30', '1301D40', '1301D50', '1301D70', '1302D05', '1302D10', '1302D15', '1302D20', '1302D25', '1302D30', '1302D35', '1302D40', '1302D45', '1302D50', '1302D55', '1303D10']\n"
     ]
    }
   ],
   "source": [
    "except_codes_2018 = list(WQ_2018[(WQ_2018['측정값(총대장균군)'].isna()) & (~WQ_2018['측정월'].isin(['03', '05', '08', '10']))]['조사지점코드'].unique())\n",
    "print(except_codes_2018)"
   ]
  },
  {
   "cell_type": "code",
   "execution_count": 58,
   "metadata": {},
   "outputs": [
    {
     "data": {
      "text/plain": [
       "조사지점명         0\n",
       "조사지점코드        0\n",
       "측정년도          0\n",
       "측정월           0\n",
       "측정값(총대장균군)    0\n",
       "dtype: int64"
      ]
     },
     "execution_count": 58,
     "metadata": {},
     "output_type": "execute_result"
    }
   ],
   "source": [
    "WQ_2018 = Interpolate(WQ_2018, except_codes_2018)\n",
    "WQ_2018.isnull().sum()"
   ]
  },
  {
   "cell_type": "code",
   "execution_count": 59,
   "metadata": {},
   "outputs": [
    {
     "data": {
      "text/html": [
       "<div>\n",
       "<style scoped>\n",
       "    .dataframe tbody tr th:only-of-type {\n",
       "        vertical-align: middle;\n",
       "    }\n",
       "\n",
       "    .dataframe tbody tr th {\n",
       "        vertical-align: top;\n",
       "    }\n",
       "\n",
       "    .dataframe thead th {\n",
       "        text-align: right;\n",
       "    }\n",
       "</style>\n",
       "<table border=\"1\" class=\"dataframe\">\n",
       "  <thead>\n",
       "    <tr style=\"text-align: right;\">\n",
       "      <th></th>\n",
       "      <th>측정값(총대장균군)</th>\n",
       "    </tr>\n",
       "  </thead>\n",
       "  <tbody>\n",
       "    <tr>\n",
       "      <th>count</th>\n",
       "      <td>1327.000000</td>\n",
       "    </tr>\n",
       "    <tr>\n",
       "      <th>mean</th>\n",
       "      <td>9024.110776</td>\n",
       "    </tr>\n",
       "    <tr>\n",
       "      <th>std</th>\n",
       "      <td>27752.480809</td>\n",
       "    </tr>\n",
       "    <tr>\n",
       "      <th>min</th>\n",
       "      <td>0.000000</td>\n",
       "    </tr>\n",
       "    <tr>\n",
       "      <th>25%</th>\n",
       "      <td>238.000000</td>\n",
       "    </tr>\n",
       "    <tr>\n",
       "      <th>50%</th>\n",
       "      <td>1290.000000</td>\n",
       "    </tr>\n",
       "    <tr>\n",
       "      <th>75%</th>\n",
       "      <td>7250.000000</td>\n",
       "    </tr>\n",
       "    <tr>\n",
       "      <th>max</th>\n",
       "      <td>752000.000000</td>\n",
       "    </tr>\n",
       "  </tbody>\n",
       "</table>\n",
       "</div>"
      ],
      "text/plain": [
       "          측정값(총대장균군)\n",
       "count    1327.000000\n",
       "mean     9024.110776\n",
       "std     27752.480809\n",
       "min         0.000000\n",
       "25%       238.000000\n",
       "50%      1290.000000\n",
       "75%      7250.000000\n",
       "max    752000.000000"
      ]
     },
     "execution_count": 59,
     "metadata": {},
     "output_type": "execute_result"
    }
   ],
   "source": [
    "WQ_2018.describe()"
   ]
  },
  {
   "cell_type": "code",
   "execution_count": 60,
   "metadata": {},
   "outputs": [
    {
     "name": "stdout",
     "output_type": "stream",
     "text": [
      "<class 'pandas.core.frame.DataFrame'>\n",
      "Index: 1327 entries, 0 to 1609\n",
      "Data columns (total 5 columns):\n",
      " #   Column      Non-Null Count  Dtype  \n",
      "---  ------      --------------  -----  \n",
      " 0   조사지점명       1327 non-null   object \n",
      " 1   조사지점코드      1327 non-null   object \n",
      " 2   측정년도        1327 non-null   object \n",
      " 3   측정월         1327 non-null   object \n",
      " 4   측정값(총대장균군)  1327 non-null   float64\n",
      "dtypes: float64(1), object(4)\n",
      "memory usage: 62.2+ KB\n"
     ]
    }
   ],
   "source": [
    "WQ_2018.info()"
   ]
  },
  {
   "cell_type": "markdown",
   "metadata": {},
   "source": [
    "#### 데이터 저장"
   ]
  },
  {
   "cell_type": "code",
   "execution_count": 61,
   "metadata": {},
   "outputs": [],
   "source": [
    "def Merge(df):\n",
    "    # 지점코드를 기준으로 시군구 병합\n",
    "    merged_df = pd.merge(df, code_df[['지점코드', '시군구']], how='left', left_on='조사지점코드', right_on='지점코드').drop(columns='지점코드')\n",
    "    return merged_df"
   ]
  },
  {
   "cell_type": "code",
   "execution_count": 62,
   "metadata": {},
   "outputs": [],
   "source": [
    "WQ_2020 = Merge(WQ_2020)\n",
    "WQ_2019 = Merge(WQ_2019)\n",
    "WQ_2018 = Merge(WQ_2018)"
   ]
  },
  {
   "cell_type": "code",
   "execution_count": 63,
   "metadata": {},
   "outputs": [],
   "source": [
    "WQ_2020.to_csv('../data/water_quality_Gangwon_2020.csv', index=False, encoding='utf-8-sig')\n",
    "WQ_2019.to_csv('../data/water_quality_Gangwon_2019.csv', index=False, encoding='utf-8-sig')\n",
    "WQ_2018.to_csv('../data/water_quality_Gangwon_2018.csv', index=False, encoding='utf-8-sig')"
   ]
  }
 ],
 "metadata": {
  "kernelspec": {
   "display_name": "base",
   "language": "python",
   "name": "python3"
  },
  "language_info": {
   "codemirror_mode": {
    "name": "ipython",
    "version": 3
   },
   "file_extension": ".py",
   "mimetype": "text/x-python",
   "name": "python",
   "nbconvert_exporter": "python",
   "pygments_lexer": "ipython3",
   "version": "3.11.5"
  }
 },
 "nbformat": 4,
 "nbformat_minor": 2
}
