{
 "cells": [
  {
   "cell_type": "markdown",
   "metadata": {},
   "source": [
    "# 0. 기본 정보\n",
    "* 코드 작성자: 여서연\n",
    "* 코드 작성일: 2024-06-02"
   ]
  },
  {
   "cell_type": "markdown",
   "metadata": {},
   "source": [
    "# 1. 기초 설정"
   ]
  },
  {
   "cell_type": "markdown",
   "metadata": {},
   "source": [
    "## 사용 라이브러리"
   ]
  },
  {
   "cell_type": "code",
   "execution_count": 1,
   "metadata": {},
   "outputs": [],
   "source": [
    "import requests\n",
    "import json\n",
    "import pandas as pd\n",
    "\n",
    "from dotenv import load_dotenv\n",
    "import os\n",
    "\n",
    "import numpy as np\n",
    "import matplotlib.pyplot as plt\n",
    "import koreanize_matplotlib\n",
    "\n",
    "import warnings\n",
    "warnings.filterwarnings('ignore')\n"
   ]
  },
  {
   "cell_type": "markdown",
   "metadata": {},
   "source": [
    "## 기타 설정"
   ]
  },
  {
   "cell_type": "code",
   "execution_count": 2,
   "metadata": {},
   "outputs": [],
   "source": [
    "# 데이터 프레임 열 전부 표시\n",
    "pd.set_option('display.max_columns', None)"
   ]
  },
  {
   "cell_type": "code",
   "execution_count": 3,
   "metadata": {},
   "outputs": [],
   "source": [
    "load_dotenv()\n",
    "myKEY = os.environ.get('PUBLIC_DATA_API_KEY')"
   ]
  },
  {
   "cell_type": "markdown",
   "metadata": {},
   "source": [
    "# 2. API 데이터 수집"
   ]
  },
  {
   "cell_type": "markdown",
   "metadata": {},
   "source": [
    "## A. [환경부 국립환경과학원_골프장 농약사용량 DB](https://www.data.go.kr/data/15000937/openapi.do)"
   ]
  },
  {
   "cell_type": "code",
   "execution_count": 4,
   "metadata": {},
   "outputs": [],
   "source": [
    "new_columns = {\n",
    "    'SPOT_STD_CODE': '지점표준코드',\n",
    "    'SIDO': '시도',\n",
    "    'GOLFCLUB_NAME': '골프장명',\n",
    "    'GOLF_TYPE_NAME': '골프장 형태',\n",
    "    'ADDRESS': '소재지',\n",
    "    'HOLE_CNT': '홀수',\n",
    "    'REG_YEAR': '개장년도',\n",
    "    'YEAR': '입력년도',\n",
    "    'PES_GROUND': '농약사용면적(m2)',\n",
    "    'TOTAL_GROUND': '면적총계(m2)',\n",
    "    'NONE_GROUND': '농약미사용면적(m2)',\n",
    "    'SPRAY_SUPPLY': '총사용량_실물량(kg)',\n",
    "    'REAL_SUPPLY': '총사용량_성분량(kg)',\n",
    "    'THA_SPRAY': '전체면적대비_ha_실물량(kg)',\n",
    "    'THA_REAL': '전체면적대비_ha_성분량(kg)',\n",
    "    'HA_SPRAY': '농약사용_ha_실물량(kg)',\n",
    "    'HA_REAL': '농약사용_ha_성분량(kg)'\n",
    "}"
   ]
  },
  {
   "cell_type": "code",
   "execution_count": 5,
   "metadata": {},
   "outputs": [],
   "source": [
    "# 시군구 추출 함수 - 주소를 공백을 기준으로 나눠 시군구 추출\n",
    "def ExtractSigungoo(address):\n",
    "    parts = address.split()\n",
    "    if len(parts) > 1: #주소가 둘 이상으로 쪼개질 경우\n",
    "        return parts[1]\n",
    "    return None"
   ]
  },
  {
   "cell_type": "code",
   "execution_count": 6,
   "metadata": {},
   "outputs": [],
   "source": [
    "def GetGolf(key, sido, year):\n",
    "    url = 'http://apis.data.go.kr/1480523/SgisGp/getSgisGpList1' #API 호출 URL\n",
    "    params = {'serviceKey' : key, 'pageNo' : '1', 'numOfRows' : '1000', 'resultType' : 'JSON', 'search_year': year} #parameter 지정\n",
    "    response = requests.get(url, params=params) #API 호출 응답 결과 저장\n",
    "    result = json.loads(response.content) #응답을 json 형식으로 변환\n",
    "    golf = pd.DataFrame(result['getSgisGpList']['item']) #item 항목을 data frame으로 저장 - 전국 데이터\n",
    "\n",
    "    # column 이름 변경\n",
    "    golf.rename(columns=new_columns, inplace=True)\n",
    "\n",
    "    # 시군구 컬럼 추가\n",
    "    golf['시군구'] = golf['소재지'].apply(ExtractSigungoo)\n",
    "\n",
    "    # 시도 컬럼 바로 옆에 시군구 컬럼 배치\n",
    "    columns = list(golf.columns)\n",
    "    sido_index = columns.index('시도') #'시도' column의 index 추출\n",
    "    columns.insert(sido_index + 1, columns.pop(columns.index('시군구'))) #바로 옆에 추가하고 기존 column을 삭제\n",
    "    golf = golf[columns]\n",
    "\n",
    "    return golf[golf['시도']==sido].reset_index(drop=True)"
   ]
  },
  {
   "cell_type": "code",
   "execution_count": 7,
   "metadata": {},
   "outputs": [],
   "source": [
    "golf_2020 = GetGolf(myKEY, '경기도', '2020')\n",
    "golf_2019 = GetGolf(myKEY, '경기도', '2019')\n",
    "golf_2018 = GetGolf(myKEY, '경기도', '2018')"
   ]
  },
  {
   "cell_type": "code",
   "execution_count": 8,
   "metadata": {},
   "outputs": [
    {
     "data": {
      "text/html": [
       "<div>\n",
       "<style scoped>\n",
       "    .dataframe tbody tr th:only-of-type {\n",
       "        vertical-align: middle;\n",
       "    }\n",
       "\n",
       "    .dataframe tbody tr th {\n",
       "        vertical-align: top;\n",
       "    }\n",
       "\n",
       "    .dataframe thead th {\n",
       "        text-align: right;\n",
       "    }\n",
       "</style>\n",
       "<table border=\"1\" class=\"dataframe\">\n",
       "  <thead>\n",
       "    <tr style=\"text-align: right;\">\n",
       "      <th></th>\n",
       "      <th>지점표준코드</th>\n",
       "      <th>입력년도</th>\n",
       "      <th>골프장명</th>\n",
       "      <th>소재지</th>\n",
       "      <th>홀수</th>\n",
       "      <th>시도</th>\n",
       "      <th>시군구</th>\n",
       "      <th>개장년도</th>\n",
       "      <th>골프장 형태</th>\n",
       "      <th>면적총계(m2)</th>\n",
       "      <th>농약사용면적(m2)</th>\n",
       "      <th>농약미사용면적(m2)</th>\n",
       "      <th>총사용량_실물량(kg)</th>\n",
       "      <th>총사용량_성분량(kg)</th>\n",
       "      <th>농약사용_ha_성분량(kg)</th>\n",
       "      <th>농약사용_ha_실물량(kg)</th>\n",
       "      <th>전체면적대비_ha_성분량(kg)</th>\n",
       "      <th>전체면적대비_ha_실물량(kg)</th>\n",
       "    </tr>\n",
       "  </thead>\n",
       "  <tbody>\n",
       "    <tr>\n",
       "      <th>121</th>\n",
       "      <td>41650G040200003</td>\n",
       "      <td>2020</td>\n",
       "      <td>일동레이크GC</td>\n",
       "      <td>경기도 포천시 일동면 유동리 21-2</td>\n",
       "      <td>9</td>\n",
       "      <td>경기도</td>\n",
       "      <td>포천시</td>\n",
       "      <td>1995</td>\n",
       "      <td>대중제</td>\n",
       "      <td>389684</td>\n",
       "      <td>266845</td>\n",
       "      <td>122839</td>\n",
       "      <td>139.6</td>\n",
       "      <td>62.999</td>\n",
       "      <td>2.3608836590530085</td>\n",
       "      <td>5.231501433416403</td>\n",
       "      <td>1.6166688906909188</td>\n",
       "      <td>3.5823898338140645</td>\n",
       "    </tr>\n",
       "  </tbody>\n",
       "</table>\n",
       "</div>"
      ],
      "text/plain": [
       "              지점표준코드  입력년도     골프장명                   소재지 홀수   시도  시군구  개장년도  \\\n",
       "121  41650G040200003  2020  일동레이크GC  경기도 포천시 일동면 유동리 21-2  9  경기도  포천시  1995   \n",
       "\n",
       "    골프장 형태 면적총계(m2) 농약사용면적(m2) 농약미사용면적(m2) 총사용량_실물량(kg) 총사용량_성분량(kg)  \\\n",
       "121    대중제   389684     266845      122839        139.6       62.999   \n",
       "\n",
       "        농약사용_ha_성분량(kg)    농약사용_ha_실물량(kg)   전체면적대비_ha_성분량(kg)  \\\n",
       "121  2.3608836590530085  5.231501433416403  1.6166688906909188   \n",
       "\n",
       "      전체면적대비_ha_실물량(kg)  \n",
       "121  3.5823898338140645  "
      ]
     },
     "execution_count": 8,
     "metadata": {},
     "output_type": "execute_result"
    }
   ],
   "source": [
    "golf_2020.sample()"
   ]
  },
  {
   "cell_type": "code",
   "execution_count": 9,
   "metadata": {},
   "outputs": [
    {
     "data": {
      "text/plain": [
       "(165, 18)"
      ]
     },
     "execution_count": 9,
     "metadata": {},
     "output_type": "execute_result"
    }
   ],
   "source": [
    "golf_2020.shape"
   ]
  },
  {
   "cell_type": "code",
   "execution_count": 10,
   "metadata": {},
   "outputs": [
    {
     "data": {
      "text/html": [
       "<div>\n",
       "<style scoped>\n",
       "    .dataframe tbody tr th:only-of-type {\n",
       "        vertical-align: middle;\n",
       "    }\n",
       "\n",
       "    .dataframe tbody tr th {\n",
       "        vertical-align: top;\n",
       "    }\n",
       "\n",
       "    .dataframe thead th {\n",
       "        text-align: right;\n",
       "    }\n",
       "</style>\n",
       "<table border=\"1\" class=\"dataframe\">\n",
       "  <thead>\n",
       "    <tr style=\"text-align: right;\">\n",
       "      <th></th>\n",
       "      <th>지점표준코드</th>\n",
       "      <th>입력년도</th>\n",
       "      <th>골프장명</th>\n",
       "      <th>소재지</th>\n",
       "      <th>홀수</th>\n",
       "      <th>시도</th>\n",
       "      <th>시군구</th>\n",
       "      <th>개장년도</th>\n",
       "      <th>골프장 형태</th>\n",
       "      <th>면적총계(m2)</th>\n",
       "      <th>농약사용면적(m2)</th>\n",
       "      <th>농약미사용면적(m2)</th>\n",
       "      <th>총사용량_실물량(kg)</th>\n",
       "      <th>총사용량_성분량(kg)</th>\n",
       "      <th>농약사용_ha_성분량(kg)</th>\n",
       "      <th>농약사용_ha_실물량(kg)</th>\n",
       "      <th>전체면적대비_ha_성분량(kg)</th>\n",
       "      <th>전체면적대비_ha_실물량(kg)</th>\n",
       "    </tr>\n",
       "  </thead>\n",
       "  <tbody>\n",
       "    <tr>\n",
       "      <th>30</th>\n",
       "      <td>41670G040200006</td>\n",
       "      <td>2019</td>\n",
       "      <td>스카이밸리CC</td>\n",
       "      <td>경기도 여주시 북내면 운촌리 산 40</td>\n",
       "      <td>27</td>\n",
       "      <td>경기도</td>\n",
       "      <td>여주시</td>\n",
       "      <td>2011</td>\n",
       "      <td>회원제</td>\n",
       "      <td>1048693</td>\n",
       "      <td>528661</td>\n",
       "      <td>520032</td>\n",
       "      <td>1141.46</td>\n",
       "      <td>304.62</td>\n",
       "      <td>5.76</td>\n",
       "      <td>21.59</td>\n",
       "      <td>2.9</td>\n",
       "      <td>10.88</td>\n",
       "    </tr>\n",
       "  </tbody>\n",
       "</table>\n",
       "</div>"
      ],
      "text/plain": [
       "             지점표준코드  입력년도     골프장명                   소재지  홀수   시도  시군구  개장년도  \\\n",
       "30  41670G040200006  2019  스카이밸리CC  경기도 여주시 북내면 운촌리 산 40  27  경기도  여주시  2011   \n",
       "\n",
       "   골프장 형태 면적총계(m2) 농약사용면적(m2) 농약미사용면적(m2) 총사용량_실물량(kg) 총사용량_성분량(kg)  \\\n",
       "30    회원제  1048693     528661      520032      1141.46       304.62   \n",
       "\n",
       "   농약사용_ha_성분량(kg) 농약사용_ha_실물량(kg) 전체면적대비_ha_성분량(kg) 전체면적대비_ha_실물량(kg)  \n",
       "30            5.76           21.59               2.9             10.88  "
      ]
     },
     "execution_count": 10,
     "metadata": {},
     "output_type": "execute_result"
    }
   ],
   "source": [
    "golf_2019.sample()"
   ]
  },
  {
   "cell_type": "code",
   "execution_count": 11,
   "metadata": {},
   "outputs": [
    {
     "data": {
      "text/plain": [
       "(162, 18)"
      ]
     },
     "execution_count": 11,
     "metadata": {},
     "output_type": "execute_result"
    }
   ],
   "source": [
    "golf_2019.shape"
   ]
  },
  {
   "cell_type": "code",
   "execution_count": 12,
   "metadata": {},
   "outputs": [
    {
     "data": {
      "text/html": [
       "<div>\n",
       "<style scoped>\n",
       "    .dataframe tbody tr th:only-of-type {\n",
       "        vertical-align: middle;\n",
       "    }\n",
       "\n",
       "    .dataframe tbody tr th {\n",
       "        vertical-align: top;\n",
       "    }\n",
       "\n",
       "    .dataframe thead th {\n",
       "        text-align: right;\n",
       "    }\n",
       "</style>\n",
       "<table border=\"1\" class=\"dataframe\">\n",
       "  <thead>\n",
       "    <tr style=\"text-align: right;\">\n",
       "      <th></th>\n",
       "      <th>지점표준코드</th>\n",
       "      <th>입력년도</th>\n",
       "      <th>골프장명</th>\n",
       "      <th>소재지</th>\n",
       "      <th>홀수</th>\n",
       "      <th>시도</th>\n",
       "      <th>시군구</th>\n",
       "      <th>개장년도</th>\n",
       "      <th>골프장 형태</th>\n",
       "      <th>면적총계(m2)</th>\n",
       "      <th>농약사용면적(m2)</th>\n",
       "      <th>농약미사용면적(m2)</th>\n",
       "      <th>총사용량_실물량(kg)</th>\n",
       "      <th>총사용량_성분량(kg)</th>\n",
       "      <th>농약사용_ha_성분량(kg)</th>\n",
       "      <th>농약사용_ha_실물량(kg)</th>\n",
       "      <th>전체면적대비_ha_성분량(kg)</th>\n",
       "      <th>전체면적대비_ha_실물량(kg)</th>\n",
       "    </tr>\n",
       "  </thead>\n",
       "  <tbody>\n",
       "    <tr>\n",
       "      <th>85</th>\n",
       "      <td>41500G040100003</td>\n",
       "      <td>2018</td>\n",
       "      <td>비에이비스타C.C.</td>\n",
       "      <td>경기도 이천시 모가면 어농리 386-1</td>\n",
       "      <td>36</td>\n",
       "      <td>경기도</td>\n",
       "      <td>이천시</td>\n",
       "      <td>2003</td>\n",
       "      <td>회원제</td>\n",
       "      <td>1580588.0</td>\n",
       "      <td>947683.0</td>\n",
       "      <td>6329905.0</td>\n",
       "      <td>528.1999</td>\n",
       "      <td>151.7982</td>\n",
       "      <td>1.601782452571166</td>\n",
       "      <td>5.573592646486219</td>\n",
       "      <td>0.9603906900469952</td>\n",
       "      <td>3.3417936869063913</td>\n",
       "    </tr>\n",
       "  </tbody>\n",
       "</table>\n",
       "</div>"
      ],
      "text/plain": [
       "             지점표준코드  입력년도        골프장명                    소재지  홀수   시도  시군구  \\\n",
       "85  41500G040100003  2018  비에이비스타C.C.  경기도 이천시 모가면 어농리 386-1  36  경기도  이천시   \n",
       "\n",
       "    개장년도 골프장 형태   면적총계(m2) 농약사용면적(m2) 농약미사용면적(m2) 총사용량_실물량(kg) 총사용량_성분량(kg)  \\\n",
       "85  2003    회원제  1580588.0   947683.0   6329905.0     528.1999     151.7982   \n",
       "\n",
       "      농약사용_ha_성분량(kg)    농약사용_ha_실물량(kg)   전체면적대비_ha_성분량(kg)  \\\n",
       "85  1.601782452571166  5.573592646486219  0.9603906900469952   \n",
       "\n",
       "     전체면적대비_ha_실물량(kg)  \n",
       "85  3.3417936869063913  "
      ]
     },
     "execution_count": 12,
     "metadata": {},
     "output_type": "execute_result"
    }
   ],
   "source": [
    "golf_2018.sample()"
   ]
  },
  {
   "cell_type": "code",
   "execution_count": 13,
   "metadata": {},
   "outputs": [
    {
     "data": {
      "text/plain": [
       "(160, 18)"
      ]
     },
     "execution_count": 13,
     "metadata": {},
     "output_type": "execute_result"
    }
   ],
   "source": [
    "golf_2018.shape"
   ]
  },
  {
   "cell_type": "code",
   "execution_count": 14,
   "metadata": {},
   "outputs": [],
   "source": [
    "# '시군구' 컬럼의 값 정제\n",
    "golf_2019.loc[golf_2019['시군구'] == '기흥구', '시군구'] = '용인시기흥구'\n",
    "golf_2019.loc[golf_2019['시군구'] == '처인구', '시군구'] = '용인시처인구'\n",
    "golf_2018.loc[golf_2018['시군구'] == '여주군', '시군구'] = '여주시'"
   ]
  },
  {
   "cell_type": "code",
   "execution_count": 15,
   "metadata": {},
   "outputs": [
    {
     "name": "stdout",
     "output_type": "stream",
     "text": [
      "2020: ['가평군' '고양시덕양구' '광주시' '군포시' '김포시' '남양주시' '동두천시' '성남시분당구' '성남시수정구' '수원시권선구'\n",
      " '시흥시' '안산시단원구' '안산시상록구' '안성시' '양주시' '양평군' '여주시' '연천군' '용인시기흥구' '용인시처인구'\n",
      " '이천시' '파주시' '평택시' '포천시' '하남시' '화성시']\n",
      "\n",
      "2019: ['가평군' '고양시덕양구' '광주시' '군포시' '김포시' '남양주시' '동두천시' '성남시분당구' '성남시수정구' '수원시권선구'\n",
      " '시흥시' '안산시단원구' '안산시상록구' '안성시' '양주시' '양평군' '여주시' '연천군' '용인시기흥구' '용인시처인구'\n",
      " '이천시' '파주시' '평택시' '포천시' '하남시' '화성시']\n",
      "\n",
      "2018: ['가평군' '고양시덕양구' '광주시' '군포시' '김포시' '남양주시' '동두천시' '성남시분당구' '성남시수정구' '수원시권선구'\n",
      " '시흥시' '안산시단원구' '안산시상록구' '안성시' '양주시' '양평군' '여주시' '연천군' '용인시기흥구' '용인시처인구'\n",
      " '이천시' '파주시' '평택시' '포천시' '하남시' '화성시']\n"
     ]
    }
   ],
   "source": [
    "print('2020:', np.sort(golf_2020['시군구'].unique()))\n",
    "print()\n",
    "print('2019:', np.sort(golf_2019['시군구'].unique()))\n",
    "print()\n",
    "print('2018:', np.sort(golf_2018['시군구'].unique()))"
   ]
  },
  {
   "cell_type": "code",
   "execution_count": 16,
   "metadata": {},
   "outputs": [],
   "source": [
    "# '시군구'를 '시' 수준으로 변환하기 위한 사전 정의\n",
    "si_mapping = {\n",
    "    '고양시덕양구': '고양시',\n",
    "    '성남시분당구': '성남시',\n",
    "    '성남시수정구': '성남시',\n",
    "    '수원시권선구': '수원시',\n",
    "    '안산시단원구': '안산시',\n",
    "    '안산시상록구': '안산시',\n",
    "    '용인시기흥구': '용인시',\n",
    "    '용인시처인구': '용인시'\n",
    "}\n",
    "\n",
    "# 변환 함수 정의\n",
    "def transform_si(dataframe, column, mapping):\n",
    "    dataframe[column] = dataframe[column].replace(mapping)\n",
    "    return dataframe\n",
    "\n",
    "# 각 데이터프레임에 대해 변환 적용\n",
    "golf_2020 = transform_si(golf_2020, '시군구', si_mapping)\n",
    "golf_2019 = transform_si(golf_2019, '시군구', si_mapping)\n",
    "golf_2018 = transform_si(golf_2018, '시군구', si_mapping)"
   ]
  },
  {
   "cell_type": "code",
   "execution_count": 17,
   "metadata": {},
   "outputs": [
    {
     "name": "stdout",
     "output_type": "stream",
     "text": [
      "2020: ['가평군' '고양시' '광주시' '군포시' '김포시' '남양주시' '동두천시' '성남시' '수원시' '시흥시' '안산시' '안성시'\n",
      " '양주시' '양평군' '여주시' '연천군' '용인시' '이천시' '파주시' '평택시' '포천시' '하남시' '화성시']\n",
      "\n",
      "2019: ['가평군' '고양시' '광주시' '군포시' '김포시' '남양주시' '동두천시' '성남시' '수원시' '시흥시' '안산시' '안성시'\n",
      " '양주시' '양평군' '여주시' '연천군' '용인시' '이천시' '파주시' '평택시' '포천시' '하남시' '화성시']\n",
      "\n",
      "2018: ['가평군' '고양시' '광주시' '군포시' '김포시' '남양주시' '동두천시' '성남시' '수원시' '시흥시' '안산시' '안성시'\n",
      " '양주시' '양평군' '여주시' '연천군' '용인시' '이천시' '파주시' '평택시' '포천시' '하남시' '화성시']\n"
     ]
    }
   ],
   "source": [
    "print('2020:', np.sort(golf_2020['시군구'].unique()))\n",
    "print()\n",
    "print('2019:', np.sort(golf_2019['시군구'].unique()))\n",
    "print()\n",
    "print('2018:', np.sort(golf_2018['시군구'].unique()))"
   ]
  },
  {
   "cell_type": "code",
   "execution_count": 18,
   "metadata": {},
   "outputs": [
    {
     "name": "stdout",
     "output_type": "stream",
     "text": [
      "<class 'pandas.core.frame.DataFrame'>\n",
      "RangeIndex: 165 entries, 0 to 164\n",
      "Data columns (total 18 columns):\n",
      " #   Column             Non-Null Count  Dtype \n",
      "---  ------             --------------  ----- \n",
      " 0   지점표준코드             165 non-null    object\n",
      " 1   입력년도               165 non-null    object\n",
      " 2   골프장명               165 non-null    object\n",
      " 3   소재지                165 non-null    object\n",
      " 4   홀수                 165 non-null    object\n",
      " 5   시도                 165 non-null    object\n",
      " 6   시군구                165 non-null    object\n",
      " 7   개장년도               165 non-null    object\n",
      " 8   골프장 형태             165 non-null    object\n",
      " 9   면적총계(m2)           165 non-null    object\n",
      " 10  농약사용면적(m2)         165 non-null    object\n",
      " 11  농약미사용면적(m2)        165 non-null    object\n",
      " 12  총사용량_실물량(kg)       165 non-null    object\n",
      " 13  총사용량_성분량(kg)       165 non-null    object\n",
      " 14  농약사용_ha_성분량(kg)    165 non-null    object\n",
      " 15  농약사용_ha_실물량(kg)    165 non-null    object\n",
      " 16  전체면적대비_ha_성분량(kg)  165 non-null    object\n",
      " 17  전체면적대비_ha_실물량(kg)  165 non-null    object\n",
      "dtypes: object(18)\n",
      "memory usage: 23.3+ KB\n"
     ]
    }
   ],
   "source": [
    "golf_2020.info()"
   ]
  },
  {
   "cell_type": "code",
   "execution_count": 19,
   "metadata": {},
   "outputs": [],
   "source": [
    "# 데이터 저장\n",
    "golf_2020.to_csv('../data/golf_Gyeonggi_2020.csv', index=False, encoding='utf-8-sig')"
   ]
  },
  {
   "cell_type": "code",
   "execution_count": 20,
   "metadata": {},
   "outputs": [
    {
     "name": "stdout",
     "output_type": "stream",
     "text": [
      "<class 'pandas.core.frame.DataFrame'>\n",
      "RangeIndex: 162 entries, 0 to 161\n",
      "Data columns (total 18 columns):\n",
      " #   Column             Non-Null Count  Dtype \n",
      "---  ------             --------------  ----- \n",
      " 0   지점표준코드             162 non-null    object\n",
      " 1   입력년도               162 non-null    object\n",
      " 2   골프장명               162 non-null    object\n",
      " 3   소재지                162 non-null    object\n",
      " 4   홀수                 162 non-null    object\n",
      " 5   시도                 162 non-null    object\n",
      " 6   시군구                162 non-null    object\n",
      " 7   개장년도               162 non-null    object\n",
      " 8   골프장 형태             162 non-null    object\n",
      " 9   면적총계(m2)           162 non-null    object\n",
      " 10  농약사용면적(m2)         162 non-null    object\n",
      " 11  농약미사용면적(m2)        162 non-null    object\n",
      " 12  총사용량_실물량(kg)       162 non-null    object\n",
      " 13  총사용량_성분량(kg)       162 non-null    object\n",
      " 14  농약사용_ha_성분량(kg)    162 non-null    object\n",
      " 15  농약사용_ha_실물량(kg)    162 non-null    object\n",
      " 16  전체면적대비_ha_성분량(kg)  162 non-null    object\n",
      " 17  전체면적대비_ha_실물량(kg)  162 non-null    object\n",
      "dtypes: object(18)\n",
      "memory usage: 22.9+ KB\n"
     ]
    }
   ],
   "source": [
    "golf_2019.info()"
   ]
  },
  {
   "cell_type": "code",
   "execution_count": 21,
   "metadata": {},
   "outputs": [],
   "source": [
    "# 데이터 저장\n",
    "golf_2019.to_csv('../data/golf_Gyeonggi_2019.csv', index=False, encoding='utf-8-sig')"
   ]
  },
  {
   "cell_type": "code",
   "execution_count": 22,
   "metadata": {},
   "outputs": [
    {
     "name": "stdout",
     "output_type": "stream",
     "text": [
      "<class 'pandas.core.frame.DataFrame'>\n",
      "RangeIndex: 160 entries, 0 to 159\n",
      "Data columns (total 18 columns):\n",
      " #   Column             Non-Null Count  Dtype \n",
      "---  ------             --------------  ----- \n",
      " 0   지점표준코드             160 non-null    object\n",
      " 1   입력년도               160 non-null    object\n",
      " 2   골프장명               160 non-null    object\n",
      " 3   소재지                160 non-null    object\n",
      " 4   홀수                 160 non-null    object\n",
      " 5   시도                 160 non-null    object\n",
      " 6   시군구                160 non-null    object\n",
      " 7   개장년도               160 non-null    object\n",
      " 8   골프장 형태             160 non-null    object\n",
      " 9   면적총계(m2)           160 non-null    object\n",
      " 10  농약사용면적(m2)         160 non-null    object\n",
      " 11  농약미사용면적(m2)        160 non-null    object\n",
      " 12  총사용량_실물량(kg)       160 non-null    object\n",
      " 13  총사용량_성분량(kg)       160 non-null    object\n",
      " 14  농약사용_ha_성분량(kg)    160 non-null    object\n",
      " 15  농약사용_ha_실물량(kg)    160 non-null    object\n",
      " 16  전체면적대비_ha_성분량(kg)  160 non-null    object\n",
      " 17  전체면적대비_ha_실물량(kg)  160 non-null    object\n",
      "dtypes: object(18)\n",
      "memory usage: 22.6+ KB\n"
     ]
    }
   ],
   "source": [
    "golf_2018.info()"
   ]
  },
  {
   "cell_type": "code",
   "execution_count": 23,
   "metadata": {},
   "outputs": [],
   "source": [
    "# 데이터 저장\n",
    "golf_2018.to_csv('../data/golf_Gyeonggi_2018.csv', index=False, encoding='utf-8-sig')"
   ]
  },
  {
   "cell_type": "markdown",
   "metadata": {},
   "source": [
    "## B. [경기도,「경기도기본통계」, 2020, 2024.06.02, 강수량](https://kosis.kr/statHtml/statHtml.do?orgId=210&tblId=DT_21002A005&conn_path=I2)"
   ]
  },
  {
   "cell_type": "code",
   "execution_count": 24,
   "metadata": {},
   "outputs": [],
   "source": [
    "rain_2020 = pd.read_csv('../data/강수량_20240602132938.csv', encoding='cp949', header=1)\n",
    "rain_2019 = pd.read_csv('../data/강수량_20240602132955.csv', encoding='cp949', header=1)\n",
    "rain_2018 = pd.read_csv('../data/강수량_20240602133004.csv', encoding='cp949', header=1)"
   ]
  },
  {
   "cell_type": "code",
   "execution_count": 25,
   "metadata": {},
   "outputs": [],
   "source": [
    "# 북부/남부 구분 제거\n",
    "rain_2020 = rain_2020.drop(columns='시군별(1)')\n",
    "rain_2019 = rain_2019.drop(columns='시군별(1)')\n",
    "rain_2018 = rain_2018.drop(columns='시군별(1)')"
   ]
  },
  {
   "cell_type": "code",
   "execution_count": 26,
   "metadata": {},
   "outputs": [],
   "source": [
    "# 소계 데이터 제거\n",
    "rain_2020 = rain_2020[rain_2020['시군별(2)']!='소계']\n",
    "rain_2019 = rain_2019[rain_2019['시군별(2)']!='소계']\n",
    "rain_2018 = rain_2018[rain_2018['시군별(2)']!='소계']"
   ]
  },
  {
   "cell_type": "code",
   "execution_count": 27,
   "metadata": {},
   "outputs": [
    {
     "name": "stdout",
     "output_type": "stream",
     "text": [
      "<class 'pandas.core.frame.DataFrame'>\n",
      "Index: 31 entries, 2 to 33\n",
      "Data columns (total 14 columns):\n",
      " #   Column  Non-Null Count  Dtype  \n",
      "---  ------  --------------  -----  \n",
      " 0   시군별(2)  31 non-null     object \n",
      " 1   계       31 non-null     float64\n",
      " 2   1월      31 non-null     float64\n",
      " 3   2월      31 non-null     float64\n",
      " 4   3월      31 non-null     float64\n",
      " 5   4월      31 non-null     float64\n",
      " 6   5월      31 non-null     float64\n",
      " 7   6월      31 non-null     float64\n",
      " 8   7월      31 non-null     float64\n",
      " 9   8월      31 non-null     float64\n",
      " 10  9월      31 non-null     float64\n",
      " 11  10월     31 non-null     object \n",
      " 12  11월     31 non-null     float64\n",
      " 13  12월     31 non-null     object \n",
      "dtypes: float64(11), object(3)\n",
      "memory usage: 3.6+ KB\n"
     ]
    }
   ],
   "source": [
    "rain_2020.info()"
   ]
  },
  {
   "cell_type": "code",
   "execution_count": 28,
   "metadata": {},
   "outputs": [],
   "source": [
    "# 데이터 저장\n",
    "rain_2020.to_csv('../data/rain_Gyeonggi_2020.csv', index=False, encoding='utf-8-sig')"
   ]
  },
  {
   "cell_type": "code",
   "execution_count": 29,
   "metadata": {},
   "outputs": [
    {
     "name": "stdout",
     "output_type": "stream",
     "text": [
      "<class 'pandas.core.frame.DataFrame'>\n",
      "Index: 31 entries, 2 to 33\n",
      "Data columns (total 14 columns):\n",
      " #   Column  Non-Null Count  Dtype  \n",
      "---  ------  --------------  -----  \n",
      " 0   시군별(2)  31 non-null     object \n",
      " 1   계       31 non-null     float64\n",
      " 2   1월      31 non-null     object \n",
      " 3   2월      31 non-null     float64\n",
      " 4   3월      31 non-null     float64\n",
      " 5   4월      31 non-null     float64\n",
      " 6   5월      31 non-null     float64\n",
      " 7   6월      31 non-null     float64\n",
      " 8   7월      31 non-null     float64\n",
      " 9   8월      31 non-null     float64\n",
      " 10  9월      31 non-null     float64\n",
      " 11  10월     31 non-null     float64\n",
      " 12  11월     31 non-null     float64\n",
      " 13  12월     31 non-null     float64\n",
      "dtypes: float64(12), object(2)\n",
      "memory usage: 3.6+ KB\n"
     ]
    }
   ],
   "source": [
    "rain_2019.info()"
   ]
  },
  {
   "cell_type": "code",
   "execution_count": 30,
   "metadata": {},
   "outputs": [],
   "source": [
    "# 데이터 저장\n",
    "rain_2019.to_csv('../data/rain_Gyeonggi_2019.csv', index=False, encoding='utf-8-sig')"
   ]
  },
  {
   "cell_type": "code",
   "execution_count": 31,
   "metadata": {},
   "outputs": [
    {
     "name": "stdout",
     "output_type": "stream",
     "text": [
      "<class 'pandas.core.frame.DataFrame'>\n",
      "Index: 31 entries, 2 to 33\n",
      "Data columns (total 14 columns):\n",
      " #   Column  Non-Null Count  Dtype  \n",
      "---  ------  --------------  -----  \n",
      " 0   시군별(2)  31 non-null     object \n",
      " 1   계       31 non-null     float64\n",
      " 2   1월      31 non-null     object \n",
      " 3   2월      31 non-null     float64\n",
      " 4   3월      31 non-null     float64\n",
      " 5   4월      31 non-null     float64\n",
      " 6   5월      31 non-null     float64\n",
      " 7   6월      31 non-null     float64\n",
      " 8   7월      31 non-null     float64\n",
      " 9   8월      31 non-null     float64\n",
      " 10  9월      31 non-null     float64\n",
      " 11  10월     31 non-null     float64\n",
      " 12  11월     31 non-null     float64\n",
      " 13  12월     31 non-null     float64\n",
      "dtypes: float64(12), object(2)\n",
      "memory usage: 3.6+ KB\n"
     ]
    }
   ],
   "source": [
    "rain_2018.info()"
   ]
  },
  {
   "cell_type": "code",
   "execution_count": 32,
   "metadata": {},
   "outputs": [],
   "source": [
    "# 데이터 저장\n",
    "rain_2018.to_csv('../data/rain_Gyeonggi_2018.csv', index=False, encoding='utf-8-sig')"
   ]
  },
  {
   "cell_type": "markdown",
   "metadata": {},
   "source": [
    "## C. [환경부 국립환경과학원_수질 DB](https://www.data.go.kr/data/15081073/openapi.do)"
   ]
  },
  {
   "cell_type": "markdown",
   "metadata": {},
   "source": [
    "### 시도별 수질측정망 지점"
   ]
  },
  {
   "cell_type": "code",
   "execution_count": 33,
   "metadata": {},
   "outputs": [
    {
     "data": {
      "text/html": [
       "<div>\n",
       "<style scoped>\n",
       "    .dataframe tbody tr th:only-of-type {\n",
       "        vertical-align: middle;\n",
       "    }\n",
       "\n",
       "    .dataframe tbody tr th {\n",
       "        vertical-align: top;\n",
       "    }\n",
       "\n",
       "    .dataframe thead th {\n",
       "        text-align: right;\n",
       "    }\n",
       "</style>\n",
       "<table border=\"1\" class=\"dataframe\">\n",
       "  <thead>\n",
       "    <tr style=\"text-align: right;\">\n",
       "      <th></th>\n",
       "      <th>구분</th>\n",
       "      <th>지점코드</th>\n",
       "      <th>지점명</th>\n",
       "      <th>조사기관</th>\n",
       "      <th>주소</th>\n",
       "      <th>대권역</th>\n",
       "      <th>중권역</th>\n",
       "    </tr>\n",
       "  </thead>\n",
       "  <tbody>\n",
       "    <tr>\n",
       "      <th>0</th>\n",
       "      <td>하천수</td>\n",
       "      <td>1001A05</td>\n",
       "      <td>송천1</td>\n",
       "      <td>원주지방환경청</td>\n",
       "      <td>강원도 평창군 대관령면 용산리(용산교)</td>\n",
       "      <td>한강</td>\n",
       "      <td>남한강상류</td>\n",
       "    </tr>\n",
       "    <tr>\n",
       "      <th>1</th>\n",
       "      <td>하천수</td>\n",
       "      <td>1001A10</td>\n",
       "      <td>송천4</td>\n",
       "      <td>원주지방환경청</td>\n",
       "      <td>강원도 정선군 여량면 유천리(송천교)</td>\n",
       "      <td>한강</td>\n",
       "      <td>남한강상류</td>\n",
       "    </tr>\n",
       "    <tr>\n",
       "      <th>2</th>\n",
       "      <td>하천수</td>\n",
       "      <td>1001A15</td>\n",
       "      <td>골지천2</td>\n",
       "      <td>한국수자원공사</td>\n",
       "      <td>강원도 태백시 하사미동 290-1(하사미교)</td>\n",
       "      <td>한강</td>\n",
       "      <td>남한강상류</td>\n",
       "    </tr>\n",
       "    <tr>\n",
       "      <th>3</th>\n",
       "      <td>하천수</td>\n",
       "      <td>1001A20</td>\n",
       "      <td>번천</td>\n",
       "      <td>한국수자원공사</td>\n",
       "      <td>강원도 삼척시 하장면 숙암리 90-4</td>\n",
       "      <td>한강</td>\n",
       "      <td>남한강상류</td>\n",
       "    </tr>\n",
       "    <tr>\n",
       "      <th>4</th>\n",
       "      <td>하천수</td>\n",
       "      <td>1001A25</td>\n",
       "      <td>골지천4</td>\n",
       "      <td>원주지방환경청</td>\n",
       "      <td>강원도 정선군 여량면 여량리(여량1교)</td>\n",
       "      <td>한강</td>\n",
       "      <td>남한강상류</td>\n",
       "    </tr>\n",
       "    <tr>\n",
       "      <th>...</th>\n",
       "      <td>...</td>\n",
       "      <td>...</td>\n",
       "      <td>...</td>\n",
       "      <td>...</td>\n",
       "      <td>...</td>\n",
       "      <td>...</td>\n",
       "      <td>...</td>\n",
       "    </tr>\n",
       "    <tr>\n",
       "      <th>2213</th>\n",
       "      <td>하천수</td>\n",
       "      <td>5101A05</td>\n",
       "      <td>탐진강1(탐진A1)</td>\n",
       "      <td>영산강물환경연구소</td>\n",
       "      <td>전라남도 장흥군 유치면 운월리(운월교)</td>\n",
       "      <td>영산강ㆍ섬진강</td>\n",
       "      <td>탐진강</td>\n",
       "    </tr>\n",
       "    <tr>\n",
       "      <th>2214</th>\n",
       "      <td>하천수</td>\n",
       "      <td>5101A15</td>\n",
       "      <td>유치천1(탐진A2)</td>\n",
       "      <td>영산강물환경연구소</td>\n",
       "      <td>전라남도 영암군 금정면 연소리(한대교)</td>\n",
       "      <td>영산강ㆍ섬진강</td>\n",
       "      <td>탐진강</td>\n",
       "    </tr>\n",
       "    <tr>\n",
       "      <th>2215</th>\n",
       "      <td>하천수</td>\n",
       "      <td>5101A25</td>\n",
       "      <td>옴천천2(탐진A3)</td>\n",
       "      <td>영산강물환경연구소</td>\n",
       "      <td>전라남도 강진군 옴천면 봉림리(봉림교)</td>\n",
       "      <td>영산강ㆍ섬진강</td>\n",
       "      <td>탐진강</td>\n",
       "    </tr>\n",
       "    <tr>\n",
       "      <th>2216</th>\n",
       "      <td>하천수</td>\n",
       "      <td>5101A45</td>\n",
       "      <td>금강천1(탐진B1)</td>\n",
       "      <td>영산강물환경연구소</td>\n",
       "      <td>전라남도 강진군 병영면 삭양리(삭양교)</td>\n",
       "      <td>영산강ㆍ섬진강</td>\n",
       "      <td>탐진강</td>\n",
       "    </tr>\n",
       "    <tr>\n",
       "      <th>2217</th>\n",
       "      <td>하천수</td>\n",
       "      <td>4104A25</td>\n",
       "      <td>이사천2(이사A)</td>\n",
       "      <td>영산강물환경연구소</td>\n",
       "      <td>전라남도 순천시 상사면 용계리 주암역조정지댐 하류전</td>\n",
       "      <td>영산강ㆍ섬진강</td>\n",
       "      <td>이사천</td>\n",
       "    </tr>\n",
       "  </tbody>\n",
       "</table>\n",
       "<p>2218 rows × 7 columns</p>\n",
       "</div>"
      ],
      "text/plain": [
       "       구분     지점코드         지점명       조사기관                             주소  \\\n",
       "0     하천수  1001A05         송천1    원주지방환경청          강원도 평창군 대관령면 용산리(용산교)   \n",
       "1     하천수  1001A10         송천4    원주지방환경청           강원도 정선군 여량면 유천리(송천교)   \n",
       "2     하천수  1001A15        골지천2    한국수자원공사       강원도 태백시 하사미동 290-1(하사미교)   \n",
       "3     하천수  1001A20          번천    한국수자원공사           강원도 삼척시 하장면 숙암리 90-4   \n",
       "4     하천수  1001A25        골지천4    원주지방환경청          강원도 정선군 여량면 여량리(여량1교)   \n",
       "...   ...      ...         ...        ...                            ...   \n",
       "2213  하천수  5101A05  탐진강1(탐진A1)  영산강물환경연구소          전라남도 장흥군 유치면 운월리(운월교)   \n",
       "2214  하천수  5101A15  유치천1(탐진A2)  영산강물환경연구소          전라남도 영암군 금정면 연소리(한대교)   \n",
       "2215  하천수  5101A25  옴천천2(탐진A3)  영산강물환경연구소          전라남도 강진군 옴천면 봉림리(봉림교)   \n",
       "2216  하천수  5101A45  금강천1(탐진B1)  영산강물환경연구소          전라남도 강진군 병영면 삭양리(삭양교)   \n",
       "2217  하천수  4104A25   이사천2(이사A)  영산강물환경연구소  전라남도 순천시 상사면 용계리 주암역조정지댐 하류전    \n",
       "\n",
       "          대권역    중권역  \n",
       "0          한강  남한강상류  \n",
       "1          한강  남한강상류  \n",
       "2          한강  남한강상류  \n",
       "3          한강  남한강상류  \n",
       "4          한강  남한강상류  \n",
       "...       ...    ...  \n",
       "2213  영산강ㆍ섬진강    탐진강  \n",
       "2214  영산강ㆍ섬진강    탐진강  \n",
       "2215  영산강ㆍ섬진강    탐진강  \n",
       "2216  영산강ㆍ섬진강    탐진강  \n",
       "2217  영산강ㆍ섬진강    이사천  \n",
       "\n",
       "[2218 rows x 7 columns]"
      ]
     },
     "execution_count": 33,
     "metadata": {},
     "output_type": "execute_result"
    }
   ],
   "source": [
    "code_df = pd.read_excel('../API documents/국립환경과학원_openAPI_활용가이드_수질DB/물환경 수질측정망 운영결과 DB_물환경_코드_코드명.xlsx', header=1)\n",
    "code_df"
   ]
  },
  {
   "cell_type": "code",
   "execution_count": 34,
   "metadata": {},
   "outputs": [
    {
     "name": "stdout",
     "output_type": "stream",
     "text": [
      "['강원도' '충청북도' '경기도' '서울특별시' '인천광역시' '충청남도' '인천광역시시' '경상북도' '경북' '대구광역시'\n",
      " '대구광역시시' '경상남도' '전라북도' '부산광역시' '울산광역시' '울산광역시시' '부산광역시시' '대전광역시' '대전광역시시'\n",
      " '세종특별자치시' '전라남도' '광주' '광주광역시' '제주특별자치도']\n",
      "\n",
      "['평창군' '정선군' '태백시' '삼척시' '영월군' '횡성군' '원주시' '단양군' '제천시' '충주시' '청주시' '괴산군'\n",
      " '보은군' '음성군' '홍천군' '안성시' '이천시' '여주시' '양평군' '용인시' '화천군' '양구군' '춘천시' '인제군'\n",
      " '가평군' '남양주시' '광주시' '강동구' '성남시' '강남구' '성동구' '의정부시' '노원구' '성북구' '동대문구' '중구'\n",
      " '용산구' '영등포구' '마포구' '군포시' '안양시' '구로구' '동작구' '양천구' '강서구' '고양시' '김포시' '계양구'\n",
      " '파주시' '연천군' '철원군' '포천시' '양주시' '동두천시' '하남시' '구리시' '송파구' '천안시' '평택시' '화성시'\n",
      " '오산시' '의왕시' '수원시' '아산시' '강화군' '서구' '시흥시' '남동구' '화성군' '안산시' '고성군' '양양군'\n",
      " '속초시' '강릉시' '동해시' '봉화군' '안동시' '영양군' '청송군' '예천군' '의성군' '영주시' '문경시' '상주시'\n",
      " '군위군' '구미시' '김천시' '칠곡군' '성주군' '달성군' '영천시' '경산시' '동구' '북구' '달서구' '수성구'\n",
      " '합천군' '고령군' '창녕군' '달성구' '거창군' '의령군' '함양군' '남원시' '산청군' '진주시' '사천시' '하동군'\n",
      " '함안군' '창원시' '밀양시' '김해시' '경주시' '청도군' '양산시' '사상구' '사하구' '포항시' '울주군' '포항'\n",
      " '남구' '금정구' '수영구' '기장군' '동래구' '해운대구광역시' '부산광역시진구' '울진군' '영덕군' '남해군' '거제시'\n",
      " '창원' '진안군' '무주군' '장수군' '금산군' '영동군' '옥천군' '대덕구' '계룡시' '유성구' '유성구(신구교)'\n",
      " '논산시' '부강면' '진천군' '증평군' '조치원읍' '연서면' '연기면' '금남면' '장군면' '공주시' '부여군' '청양군'\n",
      " '익산시' '서천군' '군산시' '예산군' '당진군' '당진시' '홍성군' '서산시' '태안군' '보령시' '완주군' '전주시'\n",
      " '김제시' '정읍시' '부안군' '고창군' '임실군' '순창군' '곡성군' '보성군' '화순군' '순천시' '담양군' '장흥군'\n",
      " '구례군' '광양시' '강진군' '고흥군' '해남군' '완도군' '여수시' '광산구' '장성군' '나주시' '영암군' '함평군'\n",
      " '무안군' '목포시' '진도군' '영광군' '신안군' '제주시' '서귀포시' '서초구' '도봉구' '광명시' '부천시' '연동면']\n"
     ]
    }
   ],
   "source": [
    "# 주소 컬럼의 데이터를 공백을 기준으로 분리하여 시도, 시군구 추출\n",
    "code_df['시도'] = code_df['주소'].apply(lambda x: x.split()[0])\n",
    "code_df['시군구'] = code_df['주소'].apply(lambda x: x.split()[1])\n",
    "\n",
    "print(code_df['시도'].unique())\n",
    "print()\n",
    "print(code_df['시군구'].unique())"
   ]
  },
  {
   "cell_type": "code",
   "execution_count": 35,
   "metadata": {},
   "outputs": [],
   "source": [
    "sido_correction = {\n",
    "    '서울특별시': '서울특별시',\n",
    "    '인천광역시': '인천광역시',\n",
    "    '인천광역시시': '인천광역시',\n",
    "    '대구광역시': '대구광역시',\n",
    "    '대구광역시시': '대구광역시',\n",
    "    '부산광역시': '부산광역시',\n",
    "    '부산광역시시': '부산광역시',\n",
    "    '경기도': '경기도',\n",
    "    '강원도': '강원도',\n",
    "    '충청북도': '충청북도',\n",
    "    '충청남도': '충청남도',\n",
    "    '전라북도': '전라북도',\n",
    "    '전라남도': '전라남도',\n",
    "    '제주특별자치도': '제주특별자치도',\n",
    "    '세종특별자치시': '세종특별자치시',\n",
    "    '경상북도': '경상북도',\n",
    "    '경북': '경상북도',\n",
    "    '경상남도': '경상남도',\n",
    "    '광주광역시': '광주광역시',\n",
    "    '광주': '광주광역시',\n",
    "    '울산광역시': '울산광역시',\n",
    "    '울산광역시시': '울산광역시',\n",
    "    '대전광역시': '대전광역시',\n",
    "    '대전광역시시': '대전광역시'\n",
    "}"
   ]
  },
  {
   "cell_type": "code",
   "execution_count": 36,
   "metadata": {},
   "outputs": [
    {
     "data": {
      "text/plain": [
       "array(['강원도', '충청북도', '경기도', '서울특별시', '인천광역시', '충청남도', '경상북도', '대구광역시',\n",
       "       '경상남도', '전라북도', '부산광역시', '울산광역시', '대전광역시', '세종특별자치시', '전라남도',\n",
       "       '광주광역시', '제주특별자치도'], dtype=object)"
      ]
     },
     "execution_count": 36,
     "metadata": {},
     "output_type": "execute_result"
    }
   ],
   "source": [
    "# 오타 수정\n",
    "code_df['시도'] = code_df['시도'].map(sido_correction)\n",
    "code_df['시도'].unique()"
   ]
  },
  {
   "cell_type": "code",
   "execution_count": 37,
   "metadata": {},
   "outputs": [
    {
     "data": {
      "text/plain": [
       "array(['가평군', '고양시', '광명시', '광주시', '구리시', '군포시', '김포시', '남양주시', '동두천시',\n",
       "       '부천시', '성남시', '수원시', '시흥시', '안산시', '안성시', '안양시', '양주시', '양평군',\n",
       "       '여주시', '연천군', '오산시', '용인시', '의왕시', '의정부시', '이천시', '파주시', '평택시',\n",
       "       '포천시', '하남시', '화성군', '화성시'], dtype=object)"
      ]
     },
     "execution_count": 37,
     "metadata": {},
     "output_type": "execute_result"
    }
   ],
   "source": [
    "np.sort(code_df[code_df['시도']=='경기도']['시군구'].unique())"
   ]
  },
  {
   "cell_type": "code",
   "execution_count": 38,
   "metadata": {},
   "outputs": [
    {
     "data": {
      "text/plain": [
       "'1007A05,1007A10,1007A15,1007A20,1007A22,1007A25,1007A27,1007A40,1007A42,1007A44,1007A46,1007A50,1007A55,1007A59,1007A60,1007A65,1007A70,1007A75,1007B10,1007B20,1007D35,1007D40,1007D45,1007D50,1007D55,1007D60,1007D65,1007D70,1007D75,1007D80,1007D85,1007D90,1013A70,1013A80,1013A90,1013A95,1015A20,1015A25,1015A30,1015A40,1015A42,1015A47,1015A50,1015A60,1015B10,1015B20,1015B30,1015B40,1016A10,1016A20,1016A30,1016A40,1016A50,1016A60,1016A70,1016A80,1016B10,1016D10,1016D20,1017A10,1017B10,1018A06,1018A12,1018A14,1018A16,1018A28,1018A60,1018A66,1018A70,1018A72,1018D10,1019A10,1019A15,1019A20,1019A25,1019A30,1019A45,1019A50,1019A55,1019A60,1021A05,1021A10,1021B10,1022A10,1022A20,1022A25,1022A30,1022A35,1022A37,1022A40,1022A45,1022A50,1022A55,1022A65,1022A70,1022B15,1022D35,1022D40,1022D45,1022D50,1022D55,1022D60,1022D65,1022D70,1022D75,1022D80,1022E10,1022E20,1022E30,1022E40,1023A10,1023A20,1023A25,1023A30,1023A40,1023A50,1023D20,1023D30,1023D40,1023D50,1023D60,1023D70,1023E10,1024A10,1025A03,1025A06,1025A09,1025A12,1025A15,1025A18,1025A21,1025A24,1025A27,1025A36,1025A39,1025A48,1025A51,1025A54,1101A05,1101A10,1101A25,1101A27,1101A28,1101A29,1101A30,1101A35,1101A37,1101A40,1101A42,1101A45,1101A47,1101A50,1101A55,1101A57,1101A58,1101A60,1101A62,1101A65,1101A70,1101A72,1101A73,1101A75,1101B05,1101B10,1101B15,1101B20,1101B25,1101B30,1101B35,1101B40,1101B45,1101B50,1101B55,1101B60,1101B65,1101B70,1101B75,1101B80,1101B85,1101B90,1101B95,1101D03,1101D06,1101D09,1101D12,1101D15,1101D18,1101D21,1101D24,1101D57,1101D60,1101D63,1101E21,1101E26,1101E41,1201D05,1202A10,1202B40,1202B50,1202B60,1202D10,1202D20,1202D30,1202D40,1202D50,1202D60,1202E11,1202E15,1202E52,1202E54,1202E56,1202E58,1202E71,1202E80,3011D60,1007A01,1007A03,1007A11,1007A12,1007A14,1007A21,1007A41,1007A43,1007A45,1007A52,1007A57,1007A58,1007A61,1007A63,1007A67,1007A80,1007A85,1007A90,1016A32,1016A35,1016A37,1016A45,1016A52,1016A55,1016A57,1016A65,1016A72,1016A75,1015A10,1015A27,1015A41,1015A45,1015A55,1025A30,1025A33,1025A42,1025A45,1018A08,1018A10,1018A26,1018A58,1018A62,1018A64,1018A68,1018A74,1019A07,1019A09,1019A32,1019A41,1019A43,1019A47,1019A52,1019A57,1019A59,1021A20,1022A42,1022A51,1022A53,1022A80,1023A15,1023A22,1023A27'"
      ]
     },
     "execution_count": 38,
     "metadata": {},
     "output_type": "execute_result"
    }
   ],
   "source": [
    "# 경기도 지점코드 추출\n",
    "codes = code_df[code_df['시도']=='경기도']['지점코드'].unique()\n",
    "codes_list = list(codes)\n",
    "code_Gyeonggi = ','.join(codes_list)\n",
    "code_Gyeonggi"
   ]
  },
  {
   "cell_type": "markdown",
   "metadata": {},
   "source": [
    "### 물환경 수질측정망 운영결과 월평균 DB"
   ]
  },
  {
   "cell_type": "code",
   "execution_count": 39,
   "metadata": {},
   "outputs": [],
   "source": [
    "new_cols = {\n",
    "    'PTNO': '조사지점코드',\n",
    "    'PTNM': '조사지점명',\n",
    "    'WMYR': '측정년도',\n",
    "    'WMOD': '측정월',\n",
    "    'ITEMTCOLI': '측정값(총대장균군)'\n",
    "}"
   ]
  },
  {
   "cell_type": "code",
   "execution_count": 40,
   "metadata": {},
   "outputs": [],
   "source": [
    "def GetWaterQuality(key, codes, year):\n",
    "    url = 'http://apis.data.go.kr/1480523/WaterQualityService/getWaterMeasuringListMavg' #API 호출 URL\n",
    "    params ={'serviceKey' : key, 'pageNo' : '1', 'numOfRows' : '5000', 'resultType' : 'JSON', 'ptNoList' : codes, 'wmyrList' : year} #parameter 지정\n",
    "    response = requests.get(url, params=params) #API 호출 응답 결과 저장\n",
    "    result = json.loads(response.content) #응답을 json 형식으로 변환\n",
    "    water_qual = pd.DataFrame(result['getWaterMeasuringListMavg']['item']) #item 항목을 data frame으로 저장\n",
    "\n",
    "    # 분석 대상 column만 추출\n",
    "    selected_columns = ['PTNM', 'PTNO', 'WMYR', 'WMOD', 'ITEMTCOLI']\n",
    "    water_qual = water_qual[selected_columns]\n",
    "\n",
    "    # 컬럼 이름 변경\n",
    "    water_qual.rename(columns=new_cols, inplace=True)\n",
    "\n",
    "    return water_qual"
   ]
  },
  {
   "cell_type": "code",
   "execution_count": 41,
   "metadata": {},
   "outputs": [],
   "source": [
    "WQ_2020 = GetWaterQuality(myKEY, code_Gyeonggi, '2020')\n",
    "WQ_2019 = GetWaterQuality(myKEY, code_Gyeonggi, '2019')\n",
    "WQ_2018 = GetWaterQuality(myKEY, code_Gyeonggi, '2018')"
   ]
  },
  {
   "cell_type": "code",
   "execution_count": 42,
   "metadata": {},
   "outputs": [
    {
     "data": {
      "text/html": [
       "<div>\n",
       "<style scoped>\n",
       "    .dataframe tbody tr th:only-of-type {\n",
       "        vertical-align: middle;\n",
       "    }\n",
       "\n",
       "    .dataframe tbody tr th {\n",
       "        vertical-align: top;\n",
       "    }\n",
       "\n",
       "    .dataframe thead th {\n",
       "        text-align: right;\n",
       "    }\n",
       "</style>\n",
       "<table border=\"1\" class=\"dataframe\">\n",
       "  <thead>\n",
       "    <tr style=\"text-align: right;\">\n",
       "      <th></th>\n",
       "      <th>조사지점명</th>\n",
       "      <th>조사지점코드</th>\n",
       "      <th>측정년도</th>\n",
       "      <th>측정월</th>\n",
       "      <th>측정값(총대장균군)</th>\n",
       "    </tr>\n",
       "  </thead>\n",
       "  <tbody>\n",
       "    <tr>\n",
       "      <th>1575</th>\n",
       "      <td>중랑천1</td>\n",
       "      <td>1018A26</td>\n",
       "      <td>2020</td>\n",
       "      <td>03</td>\n",
       "      <td>NaN</td>\n",
       "    </tr>\n",
       "  </tbody>\n",
       "</table>\n",
       "</div>"
      ],
      "text/plain": [
       "     조사지점명   조사지점코드  측정년도 측정월  측정값(총대장균군)\n",
       "1575  중랑천1  1018A26  2020  03         NaN"
      ]
     },
     "execution_count": 42,
     "metadata": {},
     "output_type": "execute_result"
    }
   ],
   "source": [
    "WQ_2020.sample()"
   ]
  },
  {
   "cell_type": "code",
   "execution_count": 43,
   "metadata": {},
   "outputs": [
    {
     "data": {
      "text/plain": [
       "(2690, 5)"
      ]
     },
     "execution_count": 43,
     "metadata": {},
     "output_type": "execute_result"
    }
   ],
   "source": [
    "WQ_2020.shape"
   ]
  },
  {
   "cell_type": "code",
   "execution_count": 44,
   "metadata": {},
   "outputs": [
    {
     "data": {
      "text/html": [
       "<div>\n",
       "<style scoped>\n",
       "    .dataframe tbody tr th:only-of-type {\n",
       "        vertical-align: middle;\n",
       "    }\n",
       "\n",
       "    .dataframe tbody tr th {\n",
       "        vertical-align: top;\n",
       "    }\n",
       "\n",
       "    .dataframe thead th {\n",
       "        text-align: right;\n",
       "    }\n",
       "</style>\n",
       "<table border=\"1\" class=\"dataframe\">\n",
       "  <thead>\n",
       "    <tr style=\"text-align: right;\">\n",
       "      <th></th>\n",
       "      <th>조사지점명</th>\n",
       "      <th>조사지점코드</th>\n",
       "      <th>측정년도</th>\n",
       "      <th>측정월</th>\n",
       "      <th>측정값(총대장균군)</th>\n",
       "    </tr>\n",
       "  </thead>\n",
       "  <tbody>\n",
       "    <tr>\n",
       "      <th>480</th>\n",
       "      <td>이동지2</td>\n",
       "      <td>1101B60</td>\n",
       "      <td>2019</td>\n",
       "      <td>07</td>\n",
       "      <td>54.0</td>\n",
       "    </tr>\n",
       "  </tbody>\n",
       "</table>\n",
       "</div>"
      ],
      "text/plain": [
       "    조사지점명   조사지점코드  측정년도 측정월  측정값(총대장균군)\n",
       "480  이동지2  1101B60  2019  07        54.0"
      ]
     },
     "execution_count": 44,
     "metadata": {},
     "output_type": "execute_result"
    }
   ],
   "source": [
    "WQ_2019.sample()"
   ]
  },
  {
   "cell_type": "code",
   "execution_count": 45,
   "metadata": {},
   "outputs": [
    {
     "data": {
      "text/plain": [
       "(2668, 5)"
      ]
     },
     "execution_count": 45,
     "metadata": {},
     "output_type": "execute_result"
    }
   ],
   "source": [
    "WQ_2019.shape"
   ]
  },
  {
   "cell_type": "code",
   "execution_count": 46,
   "metadata": {},
   "outputs": [
    {
     "data": {
      "text/html": [
       "<div>\n",
       "<style scoped>\n",
       "    .dataframe tbody tr th:only-of-type {\n",
       "        vertical-align: middle;\n",
       "    }\n",
       "\n",
       "    .dataframe tbody tr th {\n",
       "        vertical-align: top;\n",
       "    }\n",
       "\n",
       "    .dataframe thead th {\n",
       "        text-align: right;\n",
       "    }\n",
       "</style>\n",
       "<table border=\"1\" class=\"dataframe\">\n",
       "  <thead>\n",
       "    <tr style=\"text-align: right;\">\n",
       "      <th></th>\n",
       "      <th>조사지점명</th>\n",
       "      <th>조사지점코드</th>\n",
       "      <th>측정년도</th>\n",
       "      <th>측정월</th>\n",
       "      <th>측정값(총대장균군)</th>\n",
       "    </tr>\n",
       "  </thead>\n",
       "  <tbody>\n",
       "    <tr>\n",
       "      <th>975</th>\n",
       "      <td>공릉천2</td>\n",
       "      <td>1019A50</td>\n",
       "      <td>2018</td>\n",
       "      <td>05</td>\n",
       "      <td>350.0</td>\n",
       "    </tr>\n",
       "  </tbody>\n",
       "</table>\n",
       "</div>"
      ],
      "text/plain": [
       "    조사지점명   조사지점코드  측정년도 측정월  측정값(총대장균군)\n",
       "975  공릉천2  1019A50  2018  05       350.0"
      ]
     },
     "execution_count": 46,
     "metadata": {},
     "output_type": "execute_result"
    }
   ],
   "source": [
    "WQ_2018.sample()"
   ]
  },
  {
   "cell_type": "code",
   "execution_count": 47,
   "metadata": {},
   "outputs": [
    {
     "data": {
      "text/plain": [
       "(2799, 5)"
      ]
     },
     "execution_count": 47,
     "metadata": {},
     "output_type": "execute_result"
    }
   ],
   "source": [
    "WQ_2018.shape"
   ]
  },
  {
   "cell_type": "markdown",
   "metadata": {},
   "source": [
    "#### 결측치 처리"
   ]
  },
  {
   "cell_type": "code",
   "execution_count": 48,
   "metadata": {},
   "outputs": [],
   "source": [
    "def NullDist(df):\n",
    "    # 결측치가 있는 행\n",
    "    na_values = df[df['측정값(총대장균군)'].isna()]\n",
    "    # 결측치의 측정월 분포 계산\n",
    "    month_dist = na_values['측정월'].value_counts().sort_index()\n",
    "\n",
    "    # 측정월을 1월부터 12월까지 정렬\n",
    "    months = list(range(0, 12))\n",
    "    month_counts = [month_dist.get(month, 0) for month in months]\n",
    "    # 바 차트 작성\n",
    "    plt.bar(months, month_counts, color='skyblue', edgecolor='black')\n",
    "    plt.xticks(months, labels=['Jan', 'Feb', 'Mar', 'Apr', 'May', 'Jun', 'Jul', 'Aug', 'Sep', 'Oct', 'Nov', 'Dec'])\n",
    "    plt.show()"
   ]
  },
  {
   "cell_type": "code",
   "execution_count": 49,
   "metadata": {},
   "outputs": [],
   "source": [
    "def Interpolate(df, except_codes):\n",
    "    # 조건을 만족하는 행 필터링\n",
    "    filtered_data = df[df['조사지점코드'].isin(except_codes)]\n",
    "\n",
    "    # '조사지점코드'을 기준으로 그룹화하여 '측정값(총대장균군)' 딕셔너리 생성\n",
    "    coli_dict = {}\n",
    "    for code, group in filtered_data.groupby('조사지점코드'):\n",
    "        coli_dict[code] = group['측정값(총대장균군)'].tolist()\n",
    "\n",
    "    # nan 값의 비율이 50%가 넘는 '조사지점코드'만 except_codes에 남김\n",
    "    except_codes = [code for code in except_codes if np.mean(pd.Series(coli_dict[code]).isna()) >= 0.5]\n",
    "\n",
    "    # '조사지점명'을 기준으로 그룹화하여 '측정월' 딕셔너리 생성\n",
    "    month_dict = {}\n",
    "    for code, group in df.groupby('조사지점코드'):\n",
    "        months = group['측정월'].tolist()\n",
    "        if len(months) < 6: # 측정월이 1년의 절반이 안 되는 경우 배제\n",
    "            month_dict[code] = group['측정월'].tolist()\n",
    "\n",
    "    # except_codes에 위 경우에 해당하는 '조사지점코드'추가\n",
    "    new_keys = list(month_dict.keys())\n",
    "    except_codes.extend(new_keys)\n",
    "\n",
    "    # except_codes를 전체 데이터에서 배제\n",
    "    df = df[~df['조사지점코드'].isin(except_codes)]\n",
    "    df.isnull().sum()\n",
    "\n",
    "    # 전체 결측치에 대해 선형 보간\n",
    "    df.interpolate(method='linear', inplace=True, limit_direction='both')\n",
    "\n",
    "    return df"
   ]
  },
  {
   "cell_type": "markdown",
   "metadata": {},
   "source": [
    "2020년"
   ]
  },
  {
   "cell_type": "code",
   "execution_count": 50,
   "metadata": {},
   "outputs": [
    {
     "name": "stdout",
     "output_type": "stream",
     "text": [
      "            결측치 수  결측치 비율 (%)\n",
      "조사지점명           0        0.00\n",
      "조사지점코드          0        0.00\n",
      "측정년도            0        0.00\n",
      "측정월             0        0.00\n",
      "측정값(총대장균군)    937       34.83\n"
     ]
    }
   ],
   "source": [
    "# 결측치 수와 비율 계산\n",
    "mis_count_2020 = WQ_2020.isnull().sum()\n",
    "mis_ratio_2020 = round(mis_count_2020 / len(WQ_2020) * 100, 2)\n",
    "\n",
    "# 결측치 수와 비율 출력\n",
    "mis_info_2020 = pd.concat([mis_count_2020, mis_ratio_2020], axis=1, keys=['결측치 수', '결측치 비율 (%)'])\n",
    "print(mis_info_2020)"
   ]
  },
  {
   "cell_type": "code",
   "execution_count": 51,
   "metadata": {},
   "outputs": [
    {
     "data": {
      "text/html": [
       "<div>\n",
       "<style scoped>\n",
       "    .dataframe tbody tr th:only-of-type {\n",
       "        vertical-align: middle;\n",
       "    }\n",
       "\n",
       "    .dataframe tbody tr th {\n",
       "        vertical-align: top;\n",
       "    }\n",
       "\n",
       "    .dataframe thead th {\n",
       "        text-align: right;\n",
       "    }\n",
       "</style>\n",
       "<table border=\"1\" class=\"dataframe\">\n",
       "  <thead>\n",
       "    <tr style=\"text-align: right;\">\n",
       "      <th></th>\n",
       "      <th>조사지점명</th>\n",
       "      <th>조사지점코드</th>\n",
       "      <th>측정년도</th>\n",
       "      <th>측정월</th>\n",
       "      <th>측정값(총대장균군)</th>\n",
       "    </tr>\n",
       "  </thead>\n",
       "  <tbody>\n",
       "    <tr>\n",
       "      <th>0</th>\n",
       "      <td>오갑천</td>\n",
       "      <td>1007A01</td>\n",
       "      <td>2020</td>\n",
       "      <td>01</td>\n",
       "      <td>NaN</td>\n",
       "    </tr>\n",
       "    <tr>\n",
       "      <th>1</th>\n",
       "      <td>오갑천</td>\n",
       "      <td>1007A01</td>\n",
       "      <td>2020</td>\n",
       "      <td>02</td>\n",
       "      <td>NaN</td>\n",
       "    </tr>\n",
       "    <tr>\n",
       "      <th>2</th>\n",
       "      <td>오갑천</td>\n",
       "      <td>1007A01</td>\n",
       "      <td>2020</td>\n",
       "      <td>03</td>\n",
       "      <td>NaN</td>\n",
       "    </tr>\n",
       "    <tr>\n",
       "      <th>3</th>\n",
       "      <td>오갑천</td>\n",
       "      <td>1007A01</td>\n",
       "      <td>2020</td>\n",
       "      <td>04</td>\n",
       "      <td>NaN</td>\n",
       "    </tr>\n",
       "    <tr>\n",
       "      <th>4</th>\n",
       "      <td>오갑천</td>\n",
       "      <td>1007A01</td>\n",
       "      <td>2020</td>\n",
       "      <td>05</td>\n",
       "      <td>NaN</td>\n",
       "    </tr>\n",
       "    <tr>\n",
       "      <th>...</th>\n",
       "      <td>...</td>\n",
       "      <td>...</td>\n",
       "      <td>...</td>\n",
       "      <td>...</td>\n",
       "      <td>...</td>\n",
       "    </tr>\n",
       "    <tr>\n",
       "      <th>2685</th>\n",
       "      <td>C원정리수로</td>\n",
       "      <td>1202E80</td>\n",
       "      <td>2020</td>\n",
       "      <td>08</td>\n",
       "      <td>NaN</td>\n",
       "    </tr>\n",
       "    <tr>\n",
       "      <th>2686</th>\n",
       "      <td>C원정리수로</td>\n",
       "      <td>1202E80</td>\n",
       "      <td>2020</td>\n",
       "      <td>09</td>\n",
       "      <td>80000.0</td>\n",
       "    </tr>\n",
       "    <tr>\n",
       "      <th>2687</th>\n",
       "      <td>C원정리수로</td>\n",
       "      <td>1202E80</td>\n",
       "      <td>2020</td>\n",
       "      <td>10</td>\n",
       "      <td>1100000.0</td>\n",
       "    </tr>\n",
       "    <tr>\n",
       "      <th>2688</th>\n",
       "      <td>C원정리수로</td>\n",
       "      <td>1202E80</td>\n",
       "      <td>2020</td>\n",
       "      <td>11</td>\n",
       "      <td>230000.0</td>\n",
       "    </tr>\n",
       "    <tr>\n",
       "      <th>2689</th>\n",
       "      <td>C원정리수로</td>\n",
       "      <td>1202E80</td>\n",
       "      <td>2020</td>\n",
       "      <td>12</td>\n",
       "      <td>280000.0</td>\n",
       "    </tr>\n",
       "  </tbody>\n",
       "</table>\n",
       "<p>2690 rows × 5 columns</p>\n",
       "</div>"
      ],
      "text/plain": [
       "       조사지점명   조사지점코드  측정년도 측정월  측정값(총대장균군)\n",
       "0        오갑천  1007A01  2020  01         NaN\n",
       "1        오갑천  1007A01  2020  02         NaN\n",
       "2        오갑천  1007A01  2020  03         NaN\n",
       "3        오갑천  1007A01  2020  04         NaN\n",
       "4        오갑천  1007A01  2020  05         NaN\n",
       "...      ...      ...   ...  ..         ...\n",
       "2685  C원정리수로  1202E80  2020  08         NaN\n",
       "2686  C원정리수로  1202E80  2020  09     80000.0\n",
       "2687  C원정리수로  1202E80  2020  10   1100000.0\n",
       "2688  C원정리수로  1202E80  2020  11    230000.0\n",
       "2689  C원정리수로  1202E80  2020  12    280000.0\n",
       "\n",
       "[2690 rows x 5 columns]"
      ]
     },
     "execution_count": 51,
     "metadata": {},
     "output_type": "execute_result"
    }
   ],
   "source": [
    "# '조사지점코드'을 기준으로 '측정월'을 바르게 정렬\n",
    "WQ_2020 = WQ_2020.groupby('조사지점코드').apply(lambda x: x.sort_values('측정월', ascending=True)).reset_index(drop=True)\n",
    "WQ_2020"
   ]
  },
  {
   "cell_type": "code",
   "execution_count": 52,
   "metadata": {},
   "outputs": [
    {
     "data": {
      "text/html": [
       "<div>\n",
       "<style scoped>\n",
       "    .dataframe tbody tr th:only-of-type {\n",
       "        vertical-align: middle;\n",
       "    }\n",
       "\n",
       "    .dataframe tbody tr th {\n",
       "        vertical-align: top;\n",
       "    }\n",
       "\n",
       "    .dataframe thead th {\n",
       "        text-align: right;\n",
       "    }\n",
       "</style>\n",
       "<table border=\"1\" class=\"dataframe\">\n",
       "  <thead>\n",
       "    <tr style=\"text-align: right;\">\n",
       "      <th></th>\n",
       "      <th>측정값(총대장균군)</th>\n",
       "    </tr>\n",
       "  </thead>\n",
       "  <tbody>\n",
       "    <tr>\n",
       "      <th>count</th>\n",
       "      <td>1.753000e+03</td>\n",
       "    </tr>\n",
       "    <tr>\n",
       "      <th>mean</th>\n",
       "      <td>1.069166e+05</td>\n",
       "    </tr>\n",
       "    <tr>\n",
       "      <th>std</th>\n",
       "      <td>8.834178e+05</td>\n",
       "    </tr>\n",
       "    <tr>\n",
       "      <th>min</th>\n",
       "      <td>-6.900000e+01</td>\n",
       "    </tr>\n",
       "    <tr>\n",
       "      <th>25%</th>\n",
       "      <td>3.300000e+02</td>\n",
       "    </tr>\n",
       "    <tr>\n",
       "      <th>50%</th>\n",
       "      <td>3.500000e+03</td>\n",
       "    </tr>\n",
       "    <tr>\n",
       "      <th>75%</th>\n",
       "      <td>2.400000e+04</td>\n",
       "    </tr>\n",
       "    <tr>\n",
       "      <th>max</th>\n",
       "      <td>2.600000e+07</td>\n",
       "    </tr>\n",
       "  </tbody>\n",
       "</table>\n",
       "</div>"
      ],
      "text/plain": [
       "         측정값(총대장균군)\n",
       "count  1.753000e+03\n",
       "mean   1.069166e+05\n",
       "std    8.834178e+05\n",
       "min   -6.900000e+01\n",
       "25%    3.300000e+02\n",
       "50%    3.500000e+03\n",
       "75%    2.400000e+04\n",
       "max    2.600000e+07"
      ]
     },
     "execution_count": 52,
     "metadata": {},
     "output_type": "execute_result"
    }
   ],
   "source": [
    "WQ_2020.describe()"
   ]
  },
  {
   "cell_type": "code",
   "execution_count": 53,
   "metadata": {},
   "outputs": [
    {
     "data": {
      "image/png": "[encoded data removed]",
      "text/plain": [
       "<Figure size 640x480 with 1 Axes>"
      ]
     },
     "metadata": {},
     "output_type": "display_data"
    }
   ],
   "source": [
    "NullDist(WQ_2020)"
   ]
  },
  {
   "cell_type": "code",
   "execution_count": 54,
   "metadata": {},
   "outputs": [
    {
     "name": "stdout",
     "output_type": "stream",
     "text": [
      "['1007A01', '1007A03', '1007A11', '1007A12', '1007A14', '1007A21', '1007A41', '1007A43', '1007A45', '1007A52', '1007A57', '1007A58', '1007A61', '1007A63', '1007A67', '1007A80', '1007A85', '1007A90', '1015A10', '1015A27', '1015A41', '1015A45', '1015A55', '1016A32', '1016A35', '1016A37', '1016A45', '1016A52', '1016A55', '1016A57', '1016A65', '1016A72', '1016A75', '1018A08', '1018A10', '1018A26', '1018A58', '1018A62', '1018A64', '1018A68', '1018A74', '1019A07', '1019A09', '1019A32', '1019A41', '1019A43', '1019A47', '1019A52', '1019A57', '1019A59', '1021A20', '1022A42', '1022A51', '1022A53', '1022A80', '1023A15', '1023A22', '1023A27', '1025A30', '1025A33', '1025A42', '1025A45']\n"
     ]
    }
   ],
   "source": [
    "except_codes_2020 = list(WQ_2020[(WQ_2020['측정값(총대장균군)'].isna()) & (WQ_2020['측정월']!='08')]['조사지점코드'].unique())\n",
    "print(except_codes_2020)"
   ]
  },
  {
   "cell_type": "code",
   "execution_count": 55,
   "metadata": {},
   "outputs": [
    {
     "data": {
      "text/plain": [
       "조사지점명         0\n",
       "조사지점코드        0\n",
       "측정년도          0\n",
       "측정월           0\n",
       "측정값(총대장균군)    0\n",
       "dtype: int64"
      ]
     },
     "execution_count": 55,
     "metadata": {},
     "output_type": "execute_result"
    }
   ],
   "source": [
    "WQ_2020 = Interpolate(WQ_2020, except_codes_2020)\n",
    "WQ_2020.isnull().sum()"
   ]
  },
  {
   "cell_type": "code",
   "execution_count": 56,
   "metadata": {},
   "outputs": [
    {
     "data": {
      "text/html": [
       "<div>\n",
       "<style scoped>\n",
       "    .dataframe tbody tr th:only-of-type {\n",
       "        vertical-align: middle;\n",
       "    }\n",
       "\n",
       "    .dataframe tbody tr th {\n",
       "        vertical-align: top;\n",
       "    }\n",
       "\n",
       "    .dataframe thead th {\n",
       "        text-align: right;\n",
       "    }\n",
       "</style>\n",
       "<table border=\"1\" class=\"dataframe\">\n",
       "  <thead>\n",
       "    <tr style=\"text-align: right;\">\n",
       "      <th></th>\n",
       "      <th>측정값(총대장균군)</th>\n",
       "    </tr>\n",
       "  </thead>\n",
       "  <tbody>\n",
       "    <tr>\n",
       "      <th>count</th>\n",
       "      <td>1.914000e+03</td>\n",
       "    </tr>\n",
       "    <tr>\n",
       "      <th>mean</th>\n",
       "      <td>1.160790e+05</td>\n",
       "    </tr>\n",
       "    <tr>\n",
       "      <th>std</th>\n",
       "      <td>9.048030e+05</td>\n",
       "    </tr>\n",
       "    <tr>\n",
       "      <th>min</th>\n",
       "      <td>-6.900000e+01</td>\n",
       "    </tr>\n",
       "    <tr>\n",
       "      <th>25%</th>\n",
       "      <td>4.000000e+02</td>\n",
       "    </tr>\n",
       "    <tr>\n",
       "      <th>50%</th>\n",
       "      <td>4.100000e+03</td>\n",
       "    </tr>\n",
       "    <tr>\n",
       "      <th>75%</th>\n",
       "      <td>2.500000e+04</td>\n",
       "    </tr>\n",
       "    <tr>\n",
       "      <th>max</th>\n",
       "      <td>2.600000e+07</td>\n",
       "    </tr>\n",
       "  </tbody>\n",
       "</table>\n",
       "</div>"
      ],
      "text/plain": [
       "         측정값(총대장균군)\n",
       "count  1.914000e+03\n",
       "mean   1.160790e+05\n",
       "std    9.048030e+05\n",
       "min   -6.900000e+01\n",
       "25%    4.000000e+02\n",
       "50%    4.100000e+03\n",
       "75%    2.500000e+04\n",
       "max    2.600000e+07"
      ]
     },
     "execution_count": 56,
     "metadata": {},
     "output_type": "execute_result"
    }
   ],
   "source": [
    "WQ_2020.describe()"
   ]
  },
  {
   "cell_type": "markdown",
   "metadata": {},
   "source": [
    "2019년"
   ]
  },
  {
   "cell_type": "code",
   "execution_count": 57,
   "metadata": {},
   "outputs": [
    {
     "name": "stdout",
     "output_type": "stream",
     "text": [
      "            결측치 수  결측치 비율 (%)\n",
      "조사지점명           0        0.00\n",
      "조사지점코드          0        0.00\n",
      "측정년도            0        0.00\n",
      "측정월             0        0.00\n",
      "측정값(총대장균군)    797       29.87\n"
     ]
    }
   ],
   "source": [
    "# 결측치 수와 비율 계산\n",
    "mis_count_2019 = WQ_2019.isnull().sum()\n",
    "mis_ratio_2019 = round(mis_count_2019 / len(WQ_2019) * 100, 2)\n",
    "\n",
    "# 결측치 수와 비율 출력\n",
    "mis_info_2019 = pd.concat([mis_count_2019, mis_ratio_2019], axis=1, keys=['결측치 수', '결측치 비율 (%)'])\n",
    "print(mis_info_2019)"
   ]
  },
  {
   "cell_type": "code",
   "execution_count": 58,
   "metadata": {},
   "outputs": [
    {
     "data": {
      "text/html": [
       "<div>\n",
       "<style scoped>\n",
       "    .dataframe tbody tr th:only-of-type {\n",
       "        vertical-align: middle;\n",
       "    }\n",
       "\n",
       "    .dataframe tbody tr th {\n",
       "        vertical-align: top;\n",
       "    }\n",
       "\n",
       "    .dataframe thead th {\n",
       "        text-align: right;\n",
       "    }\n",
       "</style>\n",
       "<table border=\"1\" class=\"dataframe\">\n",
       "  <thead>\n",
       "    <tr style=\"text-align: right;\">\n",
       "      <th></th>\n",
       "      <th>조사지점명</th>\n",
       "      <th>조사지점코드</th>\n",
       "      <th>측정년도</th>\n",
       "      <th>측정월</th>\n",
       "      <th>측정값(총대장균군)</th>\n",
       "    </tr>\n",
       "  </thead>\n",
       "  <tbody>\n",
       "    <tr>\n",
       "      <th>0</th>\n",
       "      <td>오갑천</td>\n",
       "      <td>1007A01</td>\n",
       "      <td>2019</td>\n",
       "      <td>01</td>\n",
       "      <td>NaN</td>\n",
       "    </tr>\n",
       "    <tr>\n",
       "      <th>1</th>\n",
       "      <td>오갑천</td>\n",
       "      <td>1007A01</td>\n",
       "      <td>2019</td>\n",
       "      <td>02</td>\n",
       "      <td>NaN</td>\n",
       "    </tr>\n",
       "    <tr>\n",
       "      <th>2</th>\n",
       "      <td>오갑천</td>\n",
       "      <td>1007A01</td>\n",
       "      <td>2019</td>\n",
       "      <td>03</td>\n",
       "      <td>NaN</td>\n",
       "    </tr>\n",
       "    <tr>\n",
       "      <th>3</th>\n",
       "      <td>오갑천</td>\n",
       "      <td>1007A01</td>\n",
       "      <td>2019</td>\n",
       "      <td>04</td>\n",
       "      <td>NaN</td>\n",
       "    </tr>\n",
       "    <tr>\n",
       "      <th>4</th>\n",
       "      <td>오갑천</td>\n",
       "      <td>1007A01</td>\n",
       "      <td>2019</td>\n",
       "      <td>05</td>\n",
       "      <td>NaN</td>\n",
       "    </tr>\n",
       "    <tr>\n",
       "      <th>...</th>\n",
       "      <td>...</td>\n",
       "      <td>...</td>\n",
       "      <td>...</td>\n",
       "      <td>...</td>\n",
       "      <td>...</td>\n",
       "    </tr>\n",
       "    <tr>\n",
       "      <th>2663</th>\n",
       "      <td>C원정리수로</td>\n",
       "      <td>1202E80</td>\n",
       "      <td>2019</td>\n",
       "      <td>09</td>\n",
       "      <td>2000000.0</td>\n",
       "    </tr>\n",
       "    <tr>\n",
       "      <th>2664</th>\n",
       "      <td>C원정리수로</td>\n",
       "      <td>1202E80</td>\n",
       "      <td>2019</td>\n",
       "      <td>10</td>\n",
       "      <td>65000.0</td>\n",
       "    </tr>\n",
       "    <tr>\n",
       "      <th>2665</th>\n",
       "      <td>C원정리수로</td>\n",
       "      <td>1202E80</td>\n",
       "      <td>2019</td>\n",
       "      <td>11</td>\n",
       "      <td>16000.0</td>\n",
       "    </tr>\n",
       "    <tr>\n",
       "      <th>2666</th>\n",
       "      <td>C원정리수로</td>\n",
       "      <td>1202E80</td>\n",
       "      <td>2019</td>\n",
       "      <td>12</td>\n",
       "      <td>58000.0</td>\n",
       "    </tr>\n",
       "    <tr>\n",
       "      <th>2667</th>\n",
       "      <td>광혜저수지</td>\n",
       "      <td>3011D60</td>\n",
       "      <td>2019</td>\n",
       "      <td>04</td>\n",
       "      <td>NaN</td>\n",
       "    </tr>\n",
       "  </tbody>\n",
       "</table>\n",
       "<p>2668 rows × 5 columns</p>\n",
       "</div>"
      ],
      "text/plain": [
       "       조사지점명   조사지점코드  측정년도 측정월  측정값(총대장균군)\n",
       "0        오갑천  1007A01  2019  01         NaN\n",
       "1        오갑천  1007A01  2019  02         NaN\n",
       "2        오갑천  1007A01  2019  03         NaN\n",
       "3        오갑천  1007A01  2019  04         NaN\n",
       "4        오갑천  1007A01  2019  05         NaN\n",
       "...      ...      ...   ...  ..         ...\n",
       "2663  C원정리수로  1202E80  2019  09   2000000.0\n",
       "2664  C원정리수로  1202E80  2019  10     65000.0\n",
       "2665  C원정리수로  1202E80  2019  11     16000.0\n",
       "2666  C원정리수로  1202E80  2019  12     58000.0\n",
       "2667   광혜저수지  3011D60  2019  04         NaN\n",
       "\n",
       "[2668 rows x 5 columns]"
      ]
     },
     "execution_count": 58,
     "metadata": {},
     "output_type": "execute_result"
    }
   ],
   "source": [
    "# '조사지점코드'을 기준으로 '측정월'을 바르게 정렬\n",
    "WQ_2019 = WQ_2019.groupby('조사지점코드').apply(lambda x: x.sort_values('측정월', ascending=True)).reset_index(drop=True)\n",
    "WQ_2019"
   ]
  },
  {
   "cell_type": "code",
   "execution_count": 59,
   "metadata": {},
   "outputs": [
    {
     "data": {
      "text/html": [
       "<div>\n",
       "<style scoped>\n",
       "    .dataframe tbody tr th:only-of-type {\n",
       "        vertical-align: middle;\n",
       "    }\n",
       "\n",
       "    .dataframe tbody tr th {\n",
       "        vertical-align: top;\n",
       "    }\n",
       "\n",
       "    .dataframe thead th {\n",
       "        text-align: right;\n",
       "    }\n",
       "</style>\n",
       "<table border=\"1\" class=\"dataframe\">\n",
       "  <thead>\n",
       "    <tr style=\"text-align: right;\">\n",
       "      <th></th>\n",
       "      <th>측정값(총대장균군)</th>\n",
       "    </tr>\n",
       "  </thead>\n",
       "  <tbody>\n",
       "    <tr>\n",
       "      <th>count</th>\n",
       "      <td>1.871000e+03</td>\n",
       "    </tr>\n",
       "    <tr>\n",
       "      <th>mean</th>\n",
       "      <td>1.428980e+05</td>\n",
       "    </tr>\n",
       "    <tr>\n",
       "      <th>std</th>\n",
       "      <td>3.060869e+06</td>\n",
       "    </tr>\n",
       "    <tr>\n",
       "      <th>min</th>\n",
       "      <td>0.000000e+00</td>\n",
       "    </tr>\n",
       "    <tr>\n",
       "      <th>25%</th>\n",
       "      <td>3.300000e+02</td>\n",
       "    </tr>\n",
       "    <tr>\n",
       "      <th>50%</th>\n",
       "      <td>3.100000e+03</td>\n",
       "    </tr>\n",
       "    <tr>\n",
       "      <th>75%</th>\n",
       "      <td>2.100000e+04</td>\n",
       "    </tr>\n",
       "    <tr>\n",
       "      <th>max</th>\n",
       "      <td>1.300000e+08</td>\n",
       "    </tr>\n",
       "  </tbody>\n",
       "</table>\n",
       "</div>"
      ],
      "text/plain": [
       "         측정값(총대장균군)\n",
       "count  1.871000e+03\n",
       "mean   1.428980e+05\n",
       "std    3.060869e+06\n",
       "min    0.000000e+00\n",
       "25%    3.300000e+02\n",
       "50%    3.100000e+03\n",
       "75%    2.100000e+04\n",
       "max    1.300000e+08"
      ]
     },
     "execution_count": 59,
     "metadata": {},
     "output_type": "execute_result"
    }
   ],
   "source": [
    "WQ_2019.describe()"
   ]
  },
  {
   "cell_type": "code",
   "execution_count": 60,
   "metadata": {},
   "outputs": [
    {
     "data": {
      "image/png": "[encoded data removed]",
      "text/plain": [
       "<Figure size 640x480 with 1 Axes>"
      ]
     },
     "metadata": {},
     "output_type": "display_data"
    }
   ],
   "source": [
    "NullDist(WQ_2019)"
   ]
  },
  {
   "cell_type": "code",
   "execution_count": 61,
   "metadata": {},
   "outputs": [
    {
     "name": "stdout",
     "output_type": "stream",
     "text": [
      "['1007A42', '1007A59', '1007B20', '1007D35', '1007D80', '1007D85', '1015A10', '1015A27', '1015A41', '1015A45', '1015A55', '1015B40', '1016A32', '1016A45', '1016A52', '1016A65', '1016A72', '1016D10', '1016D20', '1018A08', '1018A26', '1018A58', '1018A62', '1018A68', '1018A74', '1019A32', '1019A47', '1019A52', '1019A57', '1021A20', '1022A42', '1022A51', '1022A80', '1023A15', '1023A22', '1023A27', '1023D20', '1023D30', '1023D40', '1023D50', '1023D60', '1023D70', '1025A30', '1025A42', '1101A30', '1101D03', '1101D06', '1101D09', '1101D12', '1101D15', '1101D18', '1101D21', '1101D57', '1101D60', '1101D63', '1201D05', '1202D10', '1202D20', '1202D30', '1202D50', '1202D60', '3011D60']\n"
     ]
    }
   ],
   "source": [
    "except_codes_2019 = list(WQ_2019[(WQ_2019['측정값(총대장균군)'].isna()) & (WQ_2020['측정월']!='03')]['조사지점코드'].unique())\n",
    "print(except_codes_2019)"
   ]
  },
  {
   "cell_type": "code",
   "execution_count": 62,
   "metadata": {},
   "outputs": [
    {
     "data": {
      "text/plain": [
       "조사지점명         0\n",
       "조사지점코드        0\n",
       "측정년도          0\n",
       "측정월           0\n",
       "측정값(총대장균군)    0\n",
       "dtype: int64"
      ]
     },
     "execution_count": 62,
     "metadata": {},
     "output_type": "execute_result"
    }
   ],
   "source": [
    "WQ_2019 = Interpolate(WQ_2019, except_codes_2019)\n",
    "WQ_2019.isnull().sum()"
   ]
  },
  {
   "cell_type": "code",
   "execution_count": 63,
   "metadata": {},
   "outputs": [
    {
     "data": {
      "text/html": [
       "<div>\n",
       "<style scoped>\n",
       "    .dataframe tbody tr th:only-of-type {\n",
       "        vertical-align: middle;\n",
       "    }\n",
       "\n",
       "    .dataframe tbody tr th {\n",
       "        vertical-align: top;\n",
       "    }\n",
       "\n",
       "    .dataframe thead th {\n",
       "        text-align: right;\n",
       "    }\n",
       "</style>\n",
       "<table border=\"1\" class=\"dataframe\">\n",
       "  <thead>\n",
       "    <tr style=\"text-align: right;\">\n",
       "      <th></th>\n",
       "      <th>측정값(총대장균군)</th>\n",
       "    </tr>\n",
       "  </thead>\n",
       "  <tbody>\n",
       "    <tr>\n",
       "      <th>count</th>\n",
       "      <td>2.272000e+03</td>\n",
       "    </tr>\n",
       "    <tr>\n",
       "      <th>mean</th>\n",
       "      <td>1.218254e+05</td>\n",
       "    </tr>\n",
       "    <tr>\n",
       "      <th>std</th>\n",
       "      <td>2.777986e+06</td>\n",
       "    </tr>\n",
       "    <tr>\n",
       "      <th>min</th>\n",
       "      <td>0.000000e+00</td>\n",
       "    </tr>\n",
       "    <tr>\n",
       "      <th>25%</th>\n",
       "      <td>3.500000e+02</td>\n",
       "    </tr>\n",
       "    <tr>\n",
       "      <th>50%</th>\n",
       "      <td>3.100000e+03</td>\n",
       "    </tr>\n",
       "    <tr>\n",
       "      <th>75%</th>\n",
       "      <td>1.987885e+04</td>\n",
       "    </tr>\n",
       "    <tr>\n",
       "      <th>max</th>\n",
       "      <td>1.300000e+08</td>\n",
       "    </tr>\n",
       "  </tbody>\n",
       "</table>\n",
       "</div>"
      ],
      "text/plain": [
       "         측정값(총대장균군)\n",
       "count  2.272000e+03\n",
       "mean   1.218254e+05\n",
       "std    2.777986e+06\n",
       "min    0.000000e+00\n",
       "25%    3.500000e+02\n",
       "50%    3.100000e+03\n",
       "75%    1.987885e+04\n",
       "max    1.300000e+08"
      ]
     },
     "execution_count": 63,
     "metadata": {},
     "output_type": "execute_result"
    }
   ],
   "source": [
    "WQ_2019.describe()"
   ]
  },
  {
   "cell_type": "code",
   "execution_count": 64,
   "metadata": {},
   "outputs": [
    {
     "name": "stdout",
     "output_type": "stream",
     "text": [
      "<class 'pandas.core.frame.DataFrame'>\n",
      "Index: 2272 entries, 0 to 2666\n",
      "Data columns (total 5 columns):\n",
      " #   Column      Non-Null Count  Dtype  \n",
      "---  ------      --------------  -----  \n",
      " 0   조사지점명       2272 non-null   object \n",
      " 1   조사지점코드      2272 non-null   object \n",
      " 2   측정년도        2272 non-null   object \n",
      " 3   측정월         2272 non-null   object \n",
      " 4   측정값(총대장균군)  2272 non-null   float64\n",
      "dtypes: float64(1), object(4)\n",
      "memory usage: 106.5+ KB\n"
     ]
    }
   ],
   "source": [
    "WQ_2019.info()"
   ]
  },
  {
   "cell_type": "markdown",
   "metadata": {},
   "source": [
    "2018년"
   ]
  },
  {
   "cell_type": "code",
   "execution_count": 65,
   "metadata": {},
   "outputs": [
    {
     "name": "stdout",
     "output_type": "stream",
     "text": [
      "            결측치 수  결측치 비율 (%)\n",
      "조사지점명           0         0.0\n",
      "조사지점코드          0         0.0\n",
      "측정년도            0         0.0\n",
      "측정월             0         0.0\n",
      "측정값(총대장균군)    946        33.8\n"
     ]
    }
   ],
   "source": [
    "# 결측치 수와 비율 계산\n",
    "mis_count_2018 = WQ_2018.isnull().sum()\n",
    "mis_ratio_2018 = round(mis_count_2018 / len(WQ_2018) * 100, 2)\n",
    "\n",
    "# 결측치 수와 비율 출력\n",
    "mis_info_2018 = pd.concat([mis_count_2018, mis_ratio_2018], axis=1, keys=['결측치 수', '결측치 비율 (%)'])\n",
    "print(mis_info_2018)"
   ]
  },
  {
   "cell_type": "code",
   "execution_count": 66,
   "metadata": {},
   "outputs": [
    {
     "data": {
      "text/html": [
       "<div>\n",
       "<style scoped>\n",
       "    .dataframe tbody tr th:only-of-type {\n",
       "        vertical-align: middle;\n",
       "    }\n",
       "\n",
       "    .dataframe tbody tr th {\n",
       "        vertical-align: top;\n",
       "    }\n",
       "\n",
       "    .dataframe thead th {\n",
       "        text-align: right;\n",
       "    }\n",
       "</style>\n",
       "<table border=\"1\" class=\"dataframe\">\n",
       "  <thead>\n",
       "    <tr style=\"text-align: right;\">\n",
       "      <th></th>\n",
       "      <th>조사지점명</th>\n",
       "      <th>조사지점코드</th>\n",
       "      <th>측정년도</th>\n",
       "      <th>측정월</th>\n",
       "      <th>측정값(총대장균군)</th>\n",
       "    </tr>\n",
       "  </thead>\n",
       "  <tbody>\n",
       "    <tr>\n",
       "      <th>0</th>\n",
       "      <td>오갑천</td>\n",
       "      <td>1007A01</td>\n",
       "      <td>2018</td>\n",
       "      <td>01</td>\n",
       "      <td>NaN</td>\n",
       "    </tr>\n",
       "    <tr>\n",
       "      <th>1</th>\n",
       "      <td>오갑천</td>\n",
       "      <td>1007A01</td>\n",
       "      <td>2018</td>\n",
       "      <td>02</td>\n",
       "      <td>NaN</td>\n",
       "    </tr>\n",
       "    <tr>\n",
       "      <th>2</th>\n",
       "      <td>오갑천</td>\n",
       "      <td>1007A01</td>\n",
       "      <td>2018</td>\n",
       "      <td>03</td>\n",
       "      <td>NaN</td>\n",
       "    </tr>\n",
       "    <tr>\n",
       "      <th>3</th>\n",
       "      <td>오갑천</td>\n",
       "      <td>1007A01</td>\n",
       "      <td>2018</td>\n",
       "      <td>04</td>\n",
       "      <td>NaN</td>\n",
       "    </tr>\n",
       "    <tr>\n",
       "      <th>4</th>\n",
       "      <td>오갑천</td>\n",
       "      <td>1007A01</td>\n",
       "      <td>2018</td>\n",
       "      <td>05</td>\n",
       "      <td>NaN</td>\n",
       "    </tr>\n",
       "    <tr>\n",
       "      <th>...</th>\n",
       "      <td>...</td>\n",
       "      <td>...</td>\n",
       "      <td>...</td>\n",
       "      <td>...</td>\n",
       "      <td>...</td>\n",
       "    </tr>\n",
       "    <tr>\n",
       "      <th>2794</th>\n",
       "      <td>C원정리수로</td>\n",
       "      <td>1202E80</td>\n",
       "      <td>2018</td>\n",
       "      <td>12</td>\n",
       "      <td>230000.0</td>\n",
       "    </tr>\n",
       "    <tr>\n",
       "      <th>2795</th>\n",
       "      <td>광혜저수지</td>\n",
       "      <td>3011D60</td>\n",
       "      <td>2018</td>\n",
       "      <td>03</td>\n",
       "      <td>NaN</td>\n",
       "    </tr>\n",
       "    <tr>\n",
       "      <th>2796</th>\n",
       "      <td>광혜저수지</td>\n",
       "      <td>3011D60</td>\n",
       "      <td>2018</td>\n",
       "      <td>05</td>\n",
       "      <td>NaN</td>\n",
       "    </tr>\n",
       "    <tr>\n",
       "      <th>2797</th>\n",
       "      <td>광혜저수지</td>\n",
       "      <td>3011D60</td>\n",
       "      <td>2018</td>\n",
       "      <td>07</td>\n",
       "      <td>NaN</td>\n",
       "    </tr>\n",
       "    <tr>\n",
       "      <th>2798</th>\n",
       "      <td>광혜저수지</td>\n",
       "      <td>3011D60</td>\n",
       "      <td>2018</td>\n",
       "      <td>10</td>\n",
       "      <td>NaN</td>\n",
       "    </tr>\n",
       "  </tbody>\n",
       "</table>\n",
       "<p>2799 rows × 5 columns</p>\n",
       "</div>"
      ],
      "text/plain": [
       "       조사지점명   조사지점코드  측정년도 측정월  측정값(총대장균군)\n",
       "0        오갑천  1007A01  2018  01         NaN\n",
       "1        오갑천  1007A01  2018  02         NaN\n",
       "2        오갑천  1007A01  2018  03         NaN\n",
       "3        오갑천  1007A01  2018  04         NaN\n",
       "4        오갑천  1007A01  2018  05         NaN\n",
       "...      ...      ...   ...  ..         ...\n",
       "2794  C원정리수로  1202E80  2018  12    230000.0\n",
       "2795   광혜저수지  3011D60  2018  03         NaN\n",
       "2796   광혜저수지  3011D60  2018  05         NaN\n",
       "2797   광혜저수지  3011D60  2018  07         NaN\n",
       "2798   광혜저수지  3011D60  2018  10         NaN\n",
       "\n",
       "[2799 rows x 5 columns]"
      ]
     },
     "execution_count": 66,
     "metadata": {},
     "output_type": "execute_result"
    }
   ],
   "source": [
    "# '조사지점코드'을 기준으로 '측정월'을 바르게 정렬\n",
    "WQ_2018 = WQ_2018.groupby('조사지점코드').apply(lambda x: x.sort_values('측정월', ascending=True)).reset_index(drop=True)\n",
    "WQ_2018"
   ]
  },
  {
   "cell_type": "code",
   "execution_count": 67,
   "metadata": {},
   "outputs": [
    {
     "data": {
      "text/html": [
       "<div>\n",
       "<style scoped>\n",
       "    .dataframe tbody tr th:only-of-type {\n",
       "        vertical-align: middle;\n",
       "    }\n",
       "\n",
       "    .dataframe tbody tr th {\n",
       "        vertical-align: top;\n",
       "    }\n",
       "\n",
       "    .dataframe thead th {\n",
       "        text-align: right;\n",
       "    }\n",
       "</style>\n",
       "<table border=\"1\" class=\"dataframe\">\n",
       "  <thead>\n",
       "    <tr style=\"text-align: right;\">\n",
       "      <th></th>\n",
       "      <th>측정값(총대장균군)</th>\n",
       "    </tr>\n",
       "  </thead>\n",
       "  <tbody>\n",
       "    <tr>\n",
       "      <th>count</th>\n",
       "      <td>1.853000e+03</td>\n",
       "    </tr>\n",
       "    <tr>\n",
       "      <th>mean</th>\n",
       "      <td>1.412922e+05</td>\n",
       "    </tr>\n",
       "    <tr>\n",
       "      <th>std</th>\n",
       "      <td>6.052171e+05</td>\n",
       "    </tr>\n",
       "    <tr>\n",
       "      <th>min</th>\n",
       "      <td>0.000000e+00</td>\n",
       "    </tr>\n",
       "    <tr>\n",
       "      <th>25%</th>\n",
       "      <td>5.500000e+02</td>\n",
       "    </tr>\n",
       "    <tr>\n",
       "      <th>50%</th>\n",
       "      <td>5.975000e+03</td>\n",
       "    </tr>\n",
       "    <tr>\n",
       "      <th>75%</th>\n",
       "      <td>3.900000e+04</td>\n",
       "    </tr>\n",
       "    <tr>\n",
       "      <th>max</th>\n",
       "      <td>8.000000e+06</td>\n",
       "    </tr>\n",
       "  </tbody>\n",
       "</table>\n",
       "</div>"
      ],
      "text/plain": [
       "         측정값(총대장균군)\n",
       "count  1.853000e+03\n",
       "mean   1.412922e+05\n",
       "std    6.052171e+05\n",
       "min    0.000000e+00\n",
       "25%    5.500000e+02\n",
       "50%    5.975000e+03\n",
       "75%    3.900000e+04\n",
       "max    8.000000e+06"
      ]
     },
     "execution_count": 67,
     "metadata": {},
     "output_type": "execute_result"
    }
   ],
   "source": [
    "WQ_2018.describe()"
   ]
  },
  {
   "cell_type": "code",
   "execution_count": 68,
   "metadata": {},
   "outputs": [
    {
     "data": {
      "image/png": "[encoded data removed]",
      "text/plain": [
       "<Figure size 640x480 with 1 Axes>"
      ]
     },
     "metadata": {},
     "output_type": "display_data"
    }
   ],
   "source": [
    "NullDist(WQ_2018)"
   ]
  },
  {
   "cell_type": "code",
   "execution_count": 69,
   "metadata": {},
   "outputs": [
    {
     "name": "stdout",
     "output_type": "stream",
     "text": [
      "['1007A01', '1007A03', '1007A11', '1007A12', '1007A14', '1007A21', '1007A41', '1007A43', '1007A45', '1007A52', '1007A57', '1007A58', '1007A61', '1007A63', '1007A67', '1007A80', '1007A85', '1007A90', '1007D90', '1015A10', '1015A27', '1015A41', '1015A45', '1015A55', '1016A32', '1016A35', '1016A37', '1016A45', '1016A52', '1016A55', '1016A57', '1016A65', '1016A72', '1016A75', '1018A08', '1018A10', '1018A26', '1018A58', '1018A62', '1018A64', '1018A68', '1018A74', '1018D10', '1019A07', '1019A09', '1019A32', '1019A41', '1019A43', '1019A47', '1019A52', '1019A57', '1019A59', '1021A20', '1022A42', '1022A51', '1022A53', '1022A80', '1022D55', '1022D60', '1023A15', '1023A22', '1023A27', '1025A30', '1025A33', '1025A42', '1025A45', '1101B45', '3011D60']\n"
     ]
    }
   ],
   "source": [
    "except_codes_2018 = list(WQ_2018[(WQ_2018['측정값(총대장균군)'].isna()) & (~WQ_2018['측정월'].isin(['03', '05', '08', '10']))]['조사지점코드'].unique())\n",
    "print(except_codes_2018)"
   ]
  },
  {
   "cell_type": "code",
   "execution_count": 70,
   "metadata": {},
   "outputs": [
    {
     "data": {
      "text/plain": [
       "조사지점명         0\n",
       "조사지점코드        0\n",
       "측정년도          0\n",
       "측정월           0\n",
       "측정값(총대장균군)    0\n",
       "dtype: int64"
      ]
     },
     "execution_count": 70,
     "metadata": {},
     "output_type": "execute_result"
    }
   ],
   "source": [
    "WQ_2018 = Interpolate(WQ_2018, except_codes_2018)\n",
    "WQ_2018.isnull().sum()"
   ]
  },
  {
   "cell_type": "code",
   "execution_count": 71,
   "metadata": {},
   "outputs": [
    {
     "data": {
      "text/html": [
       "<div>\n",
       "<style scoped>\n",
       "    .dataframe tbody tr th:only-of-type {\n",
       "        vertical-align: middle;\n",
       "    }\n",
       "\n",
       "    .dataframe tbody tr th {\n",
       "        vertical-align: top;\n",
       "    }\n",
       "\n",
       "    .dataframe thead th {\n",
       "        text-align: right;\n",
       "    }\n",
       "</style>\n",
       "<table border=\"1\" class=\"dataframe\">\n",
       "  <thead>\n",
       "    <tr style=\"text-align: right;\">\n",
       "      <th></th>\n",
       "      <th>측정값(총대장균군)</th>\n",
       "    </tr>\n",
       "  </thead>\n",
       "  <tbody>\n",
       "    <tr>\n",
       "      <th>count</th>\n",
       "      <td>1.859000e+03</td>\n",
       "    </tr>\n",
       "    <tr>\n",
       "      <th>mean</th>\n",
       "      <td>1.408368e+05</td>\n",
       "    </tr>\n",
       "    <tr>\n",
       "      <th>std</th>\n",
       "      <td>6.042921e+05</td>\n",
       "    </tr>\n",
       "    <tr>\n",
       "      <th>min</th>\n",
       "      <td>0.000000e+00</td>\n",
       "    </tr>\n",
       "    <tr>\n",
       "      <th>25%</th>\n",
       "      <td>5.400000e+02</td>\n",
       "    </tr>\n",
       "    <tr>\n",
       "      <th>50%</th>\n",
       "      <td>5.900000e+03</td>\n",
       "    </tr>\n",
       "    <tr>\n",
       "      <th>75%</th>\n",
       "      <td>3.900000e+04</td>\n",
       "    </tr>\n",
       "    <tr>\n",
       "      <th>max</th>\n",
       "      <td>8.000000e+06</td>\n",
       "    </tr>\n",
       "  </tbody>\n",
       "</table>\n",
       "</div>"
      ],
      "text/plain": [
       "         측정값(총대장균군)\n",
       "count  1.859000e+03\n",
       "mean   1.408368e+05\n",
       "std    6.042921e+05\n",
       "min    0.000000e+00\n",
       "25%    5.400000e+02\n",
       "50%    5.900000e+03\n",
       "75%    3.900000e+04\n",
       "max    8.000000e+06"
      ]
     },
     "execution_count": 71,
     "metadata": {},
     "output_type": "execute_result"
    }
   ],
   "source": [
    "WQ_2018.describe()"
   ]
  },
  {
   "cell_type": "code",
   "execution_count": 72,
   "metadata": {},
   "outputs": [
    {
     "name": "stdout",
     "output_type": "stream",
     "text": [
      "<class 'pandas.core.frame.DataFrame'>\n",
      "Index: 1859 entries, 24 to 2794\n",
      "Data columns (total 5 columns):\n",
      " #   Column      Non-Null Count  Dtype  \n",
      "---  ------      --------------  -----  \n",
      " 0   조사지점명       1859 non-null   object \n",
      " 1   조사지점코드      1859 non-null   object \n",
      " 2   측정년도        1859 non-null   object \n",
      " 3   측정월         1859 non-null   object \n",
      " 4   측정값(총대장균군)  1859 non-null   float64\n",
      "dtypes: float64(1), object(4)\n",
      "memory usage: 87.1+ KB\n"
     ]
    }
   ],
   "source": [
    "WQ_2018.info()"
   ]
  },
  {
   "cell_type": "markdown",
   "metadata": {},
   "source": [
    "#### 데이터 저장"
   ]
  },
  {
   "cell_type": "code",
   "execution_count": 73,
   "metadata": {},
   "outputs": [],
   "source": [
    "def Merge(df):\n",
    "    # 지점코드를 기준으로 시군구 병합\n",
    "    merged_df = pd.merge(df, code_df[['지점코드', '시군구']], how='left', left_on='조사지점코드', right_on='지점코드').drop(columns='지점코드')\n",
    "    return merged_df"
   ]
  },
  {
   "cell_type": "code",
   "execution_count": 74,
   "metadata": {},
   "outputs": [],
   "source": [
    "WQ_2020 = Merge(WQ_2020)\n",
    "WQ_2019 = Merge(WQ_2019)\n",
    "WQ_2018 = Merge(WQ_2018)"
   ]
  },
  {
   "cell_type": "code",
   "execution_count": 75,
   "metadata": {},
   "outputs": [],
   "source": [
    "WQ_2020.to_csv('../data/water_quality_Gyeonggi_2020.csv', index=False, encoding='utf-8-sig')\n",
    "WQ_2019.to_csv('../data/water_quality_Gyeonggi_2019.csv', index=False, encoding='utf-8-sig')\n",
    "WQ_2018.to_csv('../data/water_quality_Gyeonggi_2018.csv', index=False, encoding='utf-8-sig')"
   ]
  }
 ],
 "metadata": {
  "kernelspec": {
   "display_name": "base",
   "language": "python",
   "name": "python3"
  },
  "language_info": {
   "codemirror_mode": {
    "name": "ipython",
    "version": 3
   },
   "file_extension": ".py",
   "mimetype": "text/x-python",
   "name": "python",
   "nbconvert_exporter": "python",
   "pygments_lexer": "ipython3",
   "version": "3.11.5"
  }
 },
 "nbformat": 4,
 "nbformat_minor": 2
}
