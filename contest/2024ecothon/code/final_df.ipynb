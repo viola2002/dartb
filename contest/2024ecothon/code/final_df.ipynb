{
 "cells": [
  {
   "cell_type": "markdown",
   "metadata": {},
   "source": [
    "# 0. 기본 정보\n",
    "* 코드 작성자: 여서연\n",
    "* 코드 작성일: 2024-05-31"
   ]
  },
  {
   "cell_type": "markdown",
   "metadata": {},
   "source": [
    "# 1. 기초 설정"
   ]
  },
  {
   "cell_type": "markdown",
   "metadata": {},
   "source": [
    "## 사용 라이브러리"
   ]
  },
  {
   "cell_type": "code",
   "execution_count": 1,
   "metadata": {},
   "outputs": [],
   "source": [
    "import pandas as pd"
   ]
  },
  {
   "cell_type": "markdown",
   "metadata": {},
   "source": [
    "## 기타 설정"
   ]
  },
  {
   "cell_type": "code",
   "execution_count": 2,
   "metadata": {},
   "outputs": [],
   "source": [
    "# 데이터 프레임 열 전부 표시\n",
    "pd.set_option('display.max_columns', None)"
   ]
  },
  {
   "cell_type": "markdown",
   "metadata": {},
   "source": [
    "# 2. 수집 데이터 불러오기"
   ]
  },
  {
   "cell_type": "markdown",
   "metadata": {},
   "source": [
    "## A. [환경부 국립환경과학원_골프장 농약사용량 DB](https://www.data.go.kr/data/15000937/openapi.do)"
   ]
  },
  {
   "cell_type": "code",
   "execution_count": 3,
   "metadata": {},
   "outputs": [],
   "source": [
    "golf2020 = pd.read_csv('../data/golf_Gangwon_2020.csv')\n",
    "golf2019 = pd.read_csv('../data/golf_Gangwon_2019.csv')\n",
    "golf2018 = pd.read_csv('../data/golf_Gangwon_2018.csv')"
   ]
  },
  {
   "cell_type": "code",
   "execution_count": 4,
   "metadata": {},
   "outputs": [],
   "source": [
    "for df in [golf2020, golf2019, golf2018]:\n",
    "    df['농약사용_ha_농도(%)'] = round((df['농약사용_ha_성분량(kg)'] / df['농약사용_ha_실물량(kg)']) * 100, 2)"
   ]
  },
  {
   "cell_type": "code",
   "execution_count": 5,
   "metadata": {},
   "outputs": [],
   "source": [
    "# 시군구별 농약 사용 농도의 평균 구하기\n",
    "golf2020_avg = golf2020.groupby('시군구')['농약사용_ha_농도(%)'].mean().reset_index()\n",
    "golf2019_avg = golf2019.groupby('시군구')['농약사용_ha_농도(%)'].mean().reset_index()\n",
    "golf2018_avg = golf2018.groupby('시군구')['농약사용_ha_농도(%)'].mean().reset_index()"
   ]
  },
  {
   "cell_type": "code",
   "execution_count": 6,
   "metadata": {},
   "outputs": [
    {
     "name": "stdout",
     "output_type": "stream",
     "text": [
      "<class 'pandas.core.frame.DataFrame'>\n",
      "RangeIndex: 15 entries, 0 to 14\n",
      "Data columns (total 2 columns):\n",
      " #   Column         Non-Null Count  Dtype  \n",
      "---  ------         --------------  -----  \n",
      " 0   시군구            15 non-null     object \n",
      " 1   농약사용_ha_농도(%)  15 non-null     float64\n",
      "dtypes: float64(1), object(1)\n",
      "memory usage: 372.0+ bytes\n"
     ]
    }
   ],
   "source": [
    "golf2020_avg.info()"
   ]
  },
  {
   "cell_type": "code",
   "execution_count": 7,
   "metadata": {},
   "outputs": [
    {
     "name": "stdout",
     "output_type": "stream",
     "text": [
      "<class 'pandas.core.frame.DataFrame'>\n",
      "RangeIndex: 15 entries, 0 to 14\n",
      "Data columns (total 2 columns):\n",
      " #   Column         Non-Null Count  Dtype  \n",
      "---  ------         --------------  -----  \n",
      " 0   시군구            15 non-null     object \n",
      " 1   농약사용_ha_농도(%)  15 non-null     float64\n",
      "dtypes: float64(1), object(1)\n",
      "memory usage: 372.0+ bytes\n"
     ]
    }
   ],
   "source": [
    "golf2019_avg.info()"
   ]
  },
  {
   "cell_type": "code",
   "execution_count": 8,
   "metadata": {},
   "outputs": [
    {
     "name": "stdout",
     "output_type": "stream",
     "text": [
      "<class 'pandas.core.frame.DataFrame'>\n",
      "RangeIndex: 15 entries, 0 to 14\n",
      "Data columns (total 2 columns):\n",
      " #   Column         Non-Null Count  Dtype  \n",
      "---  ------         --------------  -----  \n",
      " 0   시군구            15 non-null     object \n",
      " 1   농약사용_ha_농도(%)  14 non-null     float64\n",
      "dtypes: float64(1), object(1)\n",
      "memory usage: 372.0+ bytes\n"
     ]
    }
   ],
   "source": [
    "golf2018_avg.info()"
   ]
  },
  {
   "cell_type": "code",
   "execution_count": 9,
   "metadata": {},
   "outputs": [
    {
     "data": {
      "text/html": [
       "<div>\n",
       "<style scoped>\n",
       "    .dataframe tbody tr th:only-of-type {\n",
       "        vertical-align: middle;\n",
       "    }\n",
       "\n",
       "    .dataframe tbody tr th {\n",
       "        vertical-align: top;\n",
       "    }\n",
       "\n",
       "    .dataframe thead th {\n",
       "        text-align: right;\n",
       "    }\n",
       "</style>\n",
       "<table border=\"1\" class=\"dataframe\">\n",
       "  <thead>\n",
       "    <tr style=\"text-align: right;\">\n",
       "      <th></th>\n",
       "      <th>지점표준코드</th>\n",
       "      <th>입력년도</th>\n",
       "      <th>골프장명</th>\n",
       "      <th>소재지</th>\n",
       "      <th>홀수</th>\n",
       "      <th>시도</th>\n",
       "      <th>시군구</th>\n",
       "      <th>개장년도</th>\n",
       "      <th>골프장 형태</th>\n",
       "      <th>면적총계(m2)</th>\n",
       "      <th>농약사용면적(m2)</th>\n",
       "      <th>농약미사용면적(m2)</th>\n",
       "      <th>총사용량_실물량(kg)</th>\n",
       "      <th>총사용량_성분량(kg)</th>\n",
       "      <th>농약사용_ha_성분량(kg)</th>\n",
       "      <th>농약사용_ha_실물량(kg)</th>\n",
       "      <th>전체면적대비_ha_성분량(kg)</th>\n",
       "      <th>전체면적대비_ha_실물량(kg)</th>\n",
       "      <th>농약사용_ha_농도(%)</th>\n",
       "    </tr>\n",
       "  </thead>\n",
       "  <tbody>\n",
       "    <tr>\n",
       "      <th>7</th>\n",
       "      <td>42190G040100001</td>\n",
       "      <td>2018</td>\n",
       "      <td>오투리조트CC</td>\n",
       "      <td>강원도 태백시 황지동 산531-2</td>\n",
       "      <td>18</td>\n",
       "      <td>강원도</td>\n",
       "      <td>태백시</td>\n",
       "      <td>2008</td>\n",
       "      <td>대중제</td>\n",
       "      <td>1045231.0</td>\n",
       "      <td>935739.0</td>\n",
       "      <td>109492.0</td>\n",
       "      <td>0.0</td>\n",
       "      <td>0.0</td>\n",
       "      <td>0.0</td>\n",
       "      <td>0.0</td>\n",
       "      <td>0.0</td>\n",
       "      <td>0.0</td>\n",
       "      <td>NaN</td>\n",
       "    </tr>\n",
       "    <tr>\n",
       "      <th>8</th>\n",
       "      <td>42190G040200001</td>\n",
       "      <td>2018</td>\n",
       "      <td>오투리조트골프</td>\n",
       "      <td>강원도 태백시 황지동 산531-2</td>\n",
       "      <td>9</td>\n",
       "      <td>강원도</td>\n",
       "      <td>태백시</td>\n",
       "      <td>2008</td>\n",
       "      <td>대중제</td>\n",
       "      <td>457558.0</td>\n",
       "      <td>405814.0</td>\n",
       "      <td>51744.0</td>\n",
       "      <td>0.0</td>\n",
       "      <td>0.0</td>\n",
       "      <td>0.0</td>\n",
       "      <td>0.0</td>\n",
       "      <td>0.0</td>\n",
       "      <td>0.0</td>\n",
       "      <td>NaN</td>\n",
       "    </tr>\n",
       "  </tbody>\n",
       "</table>\n",
       "</div>"
      ],
      "text/plain": [
       "            지점표준코드  입력년도     골프장명                 소재지  홀수   시도  시군구  개장년도  \\\n",
       "7  42190G040100001  2018  오투리조트CC  강원도 태백시 황지동 산531-2  18  강원도  태백시  2008   \n",
       "8  42190G040200001  2018  오투리조트골프  강원도 태백시 황지동 산531-2   9  강원도  태백시  2008   \n",
       "\n",
       "  골프장 형태   면적총계(m2)  농약사용면적(m2)  농약미사용면적(m2)  총사용량_실물량(kg)  총사용량_성분량(kg)  \\\n",
       "7    대중제  1045231.0    935739.0     109492.0           0.0           0.0   \n",
       "8    대중제   457558.0    405814.0      51744.0           0.0           0.0   \n",
       "\n",
       "   농약사용_ha_성분량(kg)  농약사용_ha_실물량(kg)  전체면적대비_ha_성분량(kg)  전체면적대비_ha_실물량(kg)  \\\n",
       "7              0.0              0.0                0.0                0.0   \n",
       "8              0.0              0.0                0.0                0.0   \n",
       "\n",
       "   농약사용_ha_농도(%)  \n",
       "7            NaN  \n",
       "8            NaN  "
      ]
     },
     "execution_count": 9,
     "metadata": {},
     "output_type": "execute_result"
    }
   ],
   "source": [
    "golf2018[golf2018['시군구']=='태백시']"
   ]
  },
  {
   "cell_type": "markdown",
   "metadata": {},
   "source": [
    "## B. [강원특별자치도_강수량 통계](https://www.data.go.kr/data/3081221/fileData.do)"
   ]
  },
  {
   "cell_type": "code",
   "execution_count": 10,
   "metadata": {},
   "outputs": [],
   "source": [
    "rain2020 = pd.read_csv('../data/강수량_20240526105254.csv', encoding='cp949', header=1)\n",
    "rain2019 = pd.read_csv('../data/강수량_20240526105308.csv', encoding='cp949', header=1)\n",
    "rain2018 = pd.read_csv('../data/강수량_20240526105317.csv', encoding='cp949', header=1)"
   ]
  },
  {
   "cell_type": "code",
   "execution_count": 11,
   "metadata": {},
   "outputs": [],
   "source": [
    "# 필요 없는 컬럼 제거\n",
    "rain2020 = rain2020[['시군별','전체']].drop(rain2020.index[0])\n",
    "rain2019 = rain2019[['시군별','전체']].drop(rain2019.index[0])\n",
    "rain2018 = rain2018[['시군별','전체']].drop(rain2018.index[0])"
   ]
  },
  {
   "cell_type": "code",
   "execution_count": 12,
   "metadata": {},
   "outputs": [],
   "source": [
    "# 컬럼 이름 변경\n",
    "rain2020.rename(columns={'시군별':'시군구','전체':'연평균_강수량'}, inplace=True)\n",
    "rain2019.rename(columns={'시군별':'시군구','전체':'연평균_강수량'}, inplace=True)\n",
    "rain2018.rename(columns={'시군별':'시군구','전체':'연평균_강수량'}, inplace=True)"
   ]
  },
  {
   "cell_type": "code",
   "execution_count": 13,
   "metadata": {},
   "outputs": [
    {
     "name": "stdout",
     "output_type": "stream",
     "text": [
      "<class 'pandas.core.frame.DataFrame'>\n",
      "RangeIndex: 18 entries, 1 to 18\n",
      "Data columns (total 2 columns):\n",
      " #   Column   Non-Null Count  Dtype  \n",
      "---  ------   --------------  -----  \n",
      " 0   시군구      18 non-null     object \n",
      " 1   연평균_강수량  18 non-null     float64\n",
      "dtypes: float64(1), object(1)\n",
      "memory usage: 420.0+ bytes\n"
     ]
    }
   ],
   "source": [
    "rain2020.info()"
   ]
  },
  {
   "cell_type": "code",
   "execution_count": 14,
   "metadata": {},
   "outputs": [
    {
     "name": "stdout",
     "output_type": "stream",
     "text": [
      "<class 'pandas.core.frame.DataFrame'>\n",
      "RangeIndex: 18 entries, 1 to 18\n",
      "Data columns (total 2 columns):\n",
      " #   Column   Non-Null Count  Dtype  \n",
      "---  ------   --------------  -----  \n",
      " 0   시군구      18 non-null     object \n",
      " 1   연평균_강수량  18 non-null     float64\n",
      "dtypes: float64(1), object(1)\n",
      "memory usage: 420.0+ bytes\n"
     ]
    }
   ],
   "source": [
    "rain2019.info()"
   ]
  },
  {
   "cell_type": "code",
   "execution_count": 15,
   "metadata": {},
   "outputs": [
    {
     "name": "stdout",
     "output_type": "stream",
     "text": [
      "<class 'pandas.core.frame.DataFrame'>\n",
      "RangeIndex: 18 entries, 1 to 18\n",
      "Data columns (total 2 columns):\n",
      " #   Column   Non-Null Count  Dtype  \n",
      "---  ------   --------------  -----  \n",
      " 0   시군구      18 non-null     object \n",
      " 1   연평균_강수량  18 non-null     float64\n",
      "dtypes: float64(1), object(1)\n",
      "memory usage: 420.0+ bytes\n"
     ]
    }
   ],
   "source": [
    "rain2018.info()"
   ]
  },
  {
   "cell_type": "markdown",
   "metadata": {},
   "source": [
    "## C. [환경부 국립환경과학원_수질 DB](https://www.data.go.kr/data/15081073/openapi.do)"
   ]
  },
  {
   "cell_type": "code",
   "execution_count": 16,
   "metadata": {},
   "outputs": [],
   "source": [
    "water2020 = pd.read_csv('../data/water_quality_Gangwon_2020.csv')\n",
    "water2019 = pd.read_csv('../data/water_quality_Gangwon_2019.csv')\n",
    "water2018 = pd.read_csv('../data/water_quality_Gangwon_2018.csv')"
   ]
  },
  {
   "cell_type": "code",
   "execution_count": 17,
   "metadata": {},
   "outputs": [],
   "source": [
    "# 시군구별 수질(ml 당 총대장균군 수)의 평균 구하기\n",
    "water2020_avg = water2020.groupby('시군구')['측정값(총대장균군)'].mean().reset_index()\n",
    "water2019_avg = water2019.groupby('시군구')['측정값(총대장균군)'].mean().reset_index()\n",
    "water2018_avg = water2018.groupby('시군구')['측정값(총대장균군)'].mean().reset_index()"
   ]
  },
  {
   "cell_type": "code",
   "execution_count": 18,
   "metadata": {},
   "outputs": [
    {
     "name": "stdout",
     "output_type": "stream",
     "text": [
      "<class 'pandas.core.frame.DataFrame'>\n",
      "RangeIndex: 18 entries, 0 to 17\n",
      "Data columns (total 2 columns):\n",
      " #   Column      Non-Null Count  Dtype  \n",
      "---  ------      --------------  -----  \n",
      " 0   시군구         18 non-null     object \n",
      " 1   측정값(총대장균군)  18 non-null     float64\n",
      "dtypes: float64(1), object(1)\n",
      "memory usage: 420.0+ bytes\n"
     ]
    }
   ],
   "source": [
    "water2020_avg.info()"
   ]
  },
  {
   "cell_type": "code",
   "execution_count": 19,
   "metadata": {},
   "outputs": [
    {
     "name": "stdout",
     "output_type": "stream",
     "text": [
      "<class 'pandas.core.frame.DataFrame'>\n",
      "RangeIndex: 18 entries, 0 to 17\n",
      "Data columns (total 2 columns):\n",
      " #   Column      Non-Null Count  Dtype  \n",
      "---  ------      --------------  -----  \n",
      " 0   시군구         18 non-null     object \n",
      " 1   측정값(총대장균군)  18 non-null     float64\n",
      "dtypes: float64(1), object(1)\n",
      "memory usage: 420.0+ bytes\n"
     ]
    }
   ],
   "source": [
    "water2019_avg.info()"
   ]
  },
  {
   "cell_type": "code",
   "execution_count": 20,
   "metadata": {},
   "outputs": [
    {
     "name": "stdout",
     "output_type": "stream",
     "text": [
      "<class 'pandas.core.frame.DataFrame'>\n",
      "RangeIndex: 18 entries, 0 to 17\n",
      "Data columns (total 2 columns):\n",
      " #   Column      Non-Null Count  Dtype  \n",
      "---  ------      --------------  -----  \n",
      " 0   시군구         18 non-null     object \n",
      " 1   측정값(총대장균군)  18 non-null     float64\n",
      "dtypes: float64(1), object(1)\n",
      "memory usage: 420.0+ bytes\n"
     ]
    }
   ],
   "source": [
    "water2018_avg.info()"
   ]
  },
  {
   "cell_type": "markdown",
   "metadata": {},
   "source": [
    "# 3. 최종 데이터 프레임 생성"
   ]
  },
  {
   "cell_type": "code",
   "execution_count": 21,
   "metadata": {},
   "outputs": [
    {
     "data": {
      "text/html": [
       "<div>\n",
       "<style scoped>\n",
       "    .dataframe tbody tr th:only-of-type {\n",
       "        vertical-align: middle;\n",
       "    }\n",
       "\n",
       "    .dataframe tbody tr th {\n",
       "        vertical-align: top;\n",
       "    }\n",
       "\n",
       "    .dataframe thead th {\n",
       "        text-align: right;\n",
       "    }\n",
       "</style>\n",
       "<table border=\"1\" class=\"dataframe\">\n",
       "  <thead>\n",
       "    <tr style=\"text-align: right;\">\n",
       "      <th></th>\n",
       "      <th>시군구</th>\n",
       "      <th>농약사용_ha_농도(%)</th>\n",
       "    </tr>\n",
       "  </thead>\n",
       "  <tbody>\n",
       "    <tr>\n",
       "      <th>14</th>\n",
       "      <td>횡성군</td>\n",
       "      <td>31.688</td>\n",
       "    </tr>\n",
       "  </tbody>\n",
       "</table>\n",
       "</div>"
      ],
      "text/plain": [
       "    시군구  농약사용_ha_농도(%)\n",
       "14  횡성군         31.688"
      ]
     },
     "execution_count": 21,
     "metadata": {},
     "output_type": "execute_result"
    }
   ],
   "source": [
    "golf2020_avg.sample()"
   ]
  },
  {
   "cell_type": "code",
   "execution_count": 22,
   "metadata": {},
   "outputs": [
    {
     "data": {
      "text/html": [
       "<div>\n",
       "<style scoped>\n",
       "    .dataframe tbody tr th:only-of-type {\n",
       "        vertical-align: middle;\n",
       "    }\n",
       "\n",
       "    .dataframe tbody tr th {\n",
       "        vertical-align: top;\n",
       "    }\n",
       "\n",
       "    .dataframe thead th {\n",
       "        text-align: right;\n",
       "    }\n",
       "</style>\n",
       "<table border=\"1\" class=\"dataframe\">\n",
       "  <thead>\n",
       "    <tr style=\"text-align: right;\">\n",
       "      <th></th>\n",
       "      <th>시군구</th>\n",
       "      <th>연평균_강수량</th>\n",
       "    </tr>\n",
       "  </thead>\n",
       "  <tbody>\n",
       "    <tr>\n",
       "      <th>9</th>\n",
       "      <td>횡성군</td>\n",
       "      <td>1317.0</td>\n",
       "    </tr>\n",
       "  </tbody>\n",
       "</table>\n",
       "</div>"
      ],
      "text/plain": [
       "   시군구  연평균_강수량\n",
       "9  횡성군   1317.0"
      ]
     },
     "execution_count": 22,
     "metadata": {},
     "output_type": "execute_result"
    }
   ],
   "source": [
    "rain2020.sample()"
   ]
  },
  {
   "cell_type": "code",
   "execution_count": 23,
   "metadata": {},
   "outputs": [
    {
     "data": {
      "text/html": [
       "<div>\n",
       "<style scoped>\n",
       "    .dataframe tbody tr th:only-of-type {\n",
       "        vertical-align: middle;\n",
       "    }\n",
       "\n",
       "    .dataframe tbody tr th {\n",
       "        vertical-align: top;\n",
       "    }\n",
       "\n",
       "    .dataframe thead th {\n",
       "        text-align: right;\n",
       "    }\n",
       "</style>\n",
       "<table border=\"1\" class=\"dataframe\">\n",
       "  <thead>\n",
       "    <tr style=\"text-align: right;\">\n",
       "      <th></th>\n",
       "      <th>시군구</th>\n",
       "      <th>측정값(총대장균군)</th>\n",
       "    </tr>\n",
       "  </thead>\n",
       "  <tbody>\n",
       "    <tr>\n",
       "      <th>16</th>\n",
       "      <td>화천군</td>\n",
       "      <td>683.568966</td>\n",
       "    </tr>\n",
       "  </tbody>\n",
       "</table>\n",
       "</div>"
      ],
      "text/plain": [
       "    시군구  측정값(총대장균군)\n",
       "16  화천군  683.568966"
      ]
     },
     "execution_count": 23,
     "metadata": {},
     "output_type": "execute_result"
    }
   ],
   "source": [
    "water2020_avg.sample()"
   ]
  },
  {
   "cell_type": "code",
   "execution_count": 24,
   "metadata": {},
   "outputs": [],
   "source": [
    "def Merge3 (df1, df2, df3, col):\n",
    "    # 세 개의 데이터프레임 병합\n",
    "    merged_df = pd.merge(df1, df2, on=col, how='inner')\n",
    "    merged_df = pd.merge(merged_df, df3, on=col, how='inner')\n",
    "\n",
    "    return merged_df"
   ]
  },
  {
   "cell_type": "code",
   "execution_count": 25,
   "metadata": {},
   "outputs": [],
   "source": [
    "df2020 = Merge3(golf2020_avg, rain2020, water2020_avg, '시군구')\n",
    "df2019 = Merge3(golf2019_avg, rain2019, water2019_avg, '시군구')\n",
    "df2018 = Merge3(golf2018_avg, rain2018, water2018_avg, '시군구')"
   ]
  },
  {
   "cell_type": "code",
   "execution_count": 26,
   "metadata": {},
   "outputs": [
    {
     "data": {
      "text/html": [
       "<div>\n",
       "<style scoped>\n",
       "    .dataframe tbody tr th:only-of-type {\n",
       "        vertical-align: middle;\n",
       "    }\n",
       "\n",
       "    .dataframe tbody tr th {\n",
       "        vertical-align: top;\n",
       "    }\n",
       "\n",
       "    .dataframe thead th {\n",
       "        text-align: right;\n",
       "    }\n",
       "</style>\n",
       "<table border=\"1\" class=\"dataframe\">\n",
       "  <thead>\n",
       "    <tr style=\"text-align: right;\">\n",
       "      <th></th>\n",
       "      <th>시군구</th>\n",
       "      <th>농약사용_ha_농도(%)</th>\n",
       "      <th>연평균_강수량</th>\n",
       "      <th>측정값(총대장균군)</th>\n",
       "    </tr>\n",
       "  </thead>\n",
       "  <tbody>\n",
       "    <tr>\n",
       "      <th>0</th>\n",
       "      <td>강릉시</td>\n",
       "      <td>35.4400</td>\n",
       "      <td>1599.4</td>\n",
       "      <td>8831.898734</td>\n",
       "    </tr>\n",
       "    <tr>\n",
       "      <th>1</th>\n",
       "      <td>고성군</td>\n",
       "      <td>32.2025</td>\n",
       "      <td>1777.0</td>\n",
       "      <td>9176.044776</td>\n",
       "    </tr>\n",
       "    <tr>\n",
       "      <th>2</th>\n",
       "      <td>동해시</td>\n",
       "      <td>14.8900</td>\n",
       "      <td>1436.5</td>\n",
       "      <td>719.250000</td>\n",
       "    </tr>\n",
       "    <tr>\n",
       "      <th>3</th>\n",
       "      <td>삼척시</td>\n",
       "      <td>24.8700</td>\n",
       "      <td>1584.0</td>\n",
       "      <td>3374.892857</td>\n",
       "    </tr>\n",
       "    <tr>\n",
       "      <th>4</th>\n",
       "      <td>속초시</td>\n",
       "      <td>33.4400</td>\n",
       "      <td>1777.0</td>\n",
       "      <td>2567.625000</td>\n",
       "    </tr>\n",
       "  </tbody>\n",
       "</table>\n",
       "</div>"
      ],
      "text/plain": [
       "   시군구  농약사용_ha_농도(%)  연평균_강수량   측정값(총대장균군)\n",
       "0  강릉시        35.4400   1599.4  8831.898734\n",
       "1  고성군        32.2025   1777.0  9176.044776\n",
       "2  동해시        14.8900   1436.5   719.250000\n",
       "3  삼척시        24.8700   1584.0  3374.892857\n",
       "4  속초시        33.4400   1777.0  2567.625000"
      ]
     },
     "execution_count": 26,
     "metadata": {},
     "output_type": "execute_result"
    }
   ],
   "source": [
    "train = pd.concat([df2018,df2019], ignore_index=True)\n",
    "train.head()"
   ]
  },
  {
   "cell_type": "code",
   "execution_count": 27,
   "metadata": {},
   "outputs": [],
   "source": [
    "train.to_csv('../data/train.csv', index=False, encoding='utf-8-sig')"
   ]
  },
  {
   "cell_type": "code",
   "execution_count": 28,
   "metadata": {},
   "outputs": [
    {
     "data": {
      "text/html": [
       "<div>\n",
       "<style scoped>\n",
       "    .dataframe tbody tr th:only-of-type {\n",
       "        vertical-align: middle;\n",
       "    }\n",
       "\n",
       "    .dataframe tbody tr th {\n",
       "        vertical-align: top;\n",
       "    }\n",
       "\n",
       "    .dataframe thead th {\n",
       "        text-align: right;\n",
       "    }\n",
       "</style>\n",
       "<table border=\"1\" class=\"dataframe\">\n",
       "  <thead>\n",
       "    <tr style=\"text-align: right;\">\n",
       "      <th></th>\n",
       "      <th>시군구</th>\n",
       "      <th>농약사용_ha_농도(%)</th>\n",
       "      <th>연평균_강수량</th>\n",
       "      <th>측정값(총대장균군)</th>\n",
       "    </tr>\n",
       "  </thead>\n",
       "  <tbody>\n",
       "    <tr>\n",
       "      <th>0</th>\n",
       "      <td>강릉시</td>\n",
       "      <td>29.706667</td>\n",
       "      <td>1812.9</td>\n",
       "      <td>3447.710843</td>\n",
       "    </tr>\n",
       "    <tr>\n",
       "      <th>1</th>\n",
       "      <td>고성군</td>\n",
       "      <td>35.220000</td>\n",
       "      <td>2085.8</td>\n",
       "      <td>2983.030303</td>\n",
       "    </tr>\n",
       "    <tr>\n",
       "      <th>2</th>\n",
       "      <td>동해시</td>\n",
       "      <td>24.740000</td>\n",
       "      <td>1322.4</td>\n",
       "      <td>1904.028571</td>\n",
       "    </tr>\n",
       "    <tr>\n",
       "      <th>3</th>\n",
       "      <td>삼척시</td>\n",
       "      <td>30.020000</td>\n",
       "      <td>1545.9</td>\n",
       "      <td>1078.357143</td>\n",
       "    </tr>\n",
       "    <tr>\n",
       "      <th>4</th>\n",
       "      <td>속초시</td>\n",
       "      <td>30.790000</td>\n",
       "      <td>2085.8</td>\n",
       "      <td>381.916667</td>\n",
       "    </tr>\n",
       "  </tbody>\n",
       "</table>\n",
       "</div>"
      ],
      "text/plain": [
       "   시군구  농약사용_ha_농도(%)  연평균_강수량   측정값(총대장균군)\n",
       "0  강릉시      29.706667   1812.9  3447.710843\n",
       "1  고성군      35.220000   2085.8  2983.030303\n",
       "2  동해시      24.740000   1322.4  1904.028571\n",
       "3  삼척시      30.020000   1545.9  1078.357143\n",
       "4  속초시      30.790000   2085.8   381.916667"
      ]
     },
     "execution_count": 28,
     "metadata": {},
     "output_type": "execute_result"
    }
   ],
   "source": [
    "test = df2020\n",
    "test.head()"
   ]
  },
  {
   "cell_type": "code",
   "execution_count": 29,
   "metadata": {},
   "outputs": [],
   "source": [
    "test.to_csv('../data/test.csv', index=False, encoding='utf-8-sig')"
   ]
  }
 ],
 "metadata": {
  "kernelspec": {
   "display_name": "base",
   "language": "python",
   "name": "python3"
  },
  "language_info": {
   "codemirror_mode": {
    "name": "ipython",
    "version": 3
   },
   "file_extension": ".py",
   "mimetype": "text/x-python",
   "name": "python",
   "nbconvert_exporter": "python",
   "pygments_lexer": "ipython3",
   "version": "3.11.5"
  }
 },
 "nbformat": 4,
 "nbformat_minor": 2
}
