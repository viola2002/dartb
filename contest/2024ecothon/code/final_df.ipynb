{
 "cells": [
  {
   "cell_type": "markdown",
   "metadata": {},
   "source": [
    "# 0. 기본 정보\n",
    "* 코드 작성자: 여서연\n",
    "* 코드 작성일: 2024-05-31"
   ]
  },
  {
   "cell_type": "markdown",
   "metadata": {},
   "source": [
    "# 1. 기초 설정"
   ]
  },
  {
   "cell_type": "markdown",
   "metadata": {},
   "source": [
    "## 사용 라이브러리"
   ]
  },
  {
   "cell_type": "code",
   "execution_count": 1,
   "metadata": {},
   "outputs": [],
   "source": [
    "import pandas as pd"
   ]
  },
  {
   "cell_type": "markdown",
   "metadata": {},
   "source": [
    "## 기타 설정"
   ]
  },
  {
   "cell_type": "code",
   "execution_count": 2,
   "metadata": {},
   "outputs": [],
   "source": [
    "# 데이터 프레임 열 전부 표시\n",
    "pd.set_option('display.max_columns', None)"
   ]
  },
  {
   "cell_type": "markdown",
   "metadata": {},
   "source": [
    "# 2. 수집 데이터 불러오기"
   ]
  },
  {
   "cell_type": "markdown",
   "metadata": {},
   "source": [
    "## A. [환경부 국립환경과학원_골프장 농약사용량 DB](https://www.data.go.kr/data/15000937/openapi.do)"
   ]
  },
  {
   "cell_type": "code",
   "execution_count": 3,
   "metadata": {},
   "outputs": [],
   "source": [
    "golf2020 = pd.read_csv('../data/golf_Gangwon_2020.csv')\n",
    "golf2019 = pd.read_csv('../data/golf_Gangwon_2019.csv')\n",
    "golf2018 = pd.read_csv('../data/golf_Gangwon_2018.csv')"
   ]
  },
  {
   "cell_type": "code",
   "execution_count": 4,
   "metadata": {},
   "outputs": [
    {
     "data": {
      "text/plain": [
       "0     1007011.0\n",
       "1      983642.0\n",
       "2     1899828.0\n",
       "3      165318.0\n",
       "4      986626.0\n",
       "        ...    \n",
       "56     929669.0\n",
       "57    1045231.0\n",
       "58     457558.0\n",
       "59    1048906.0\n",
       "60     344773.0\n",
       "Name: 면적총계(m2), Length: 61, dtype: float64"
      ]
     },
     "execution_count": 4,
     "metadata": {},
     "output_type": "execute_result"
    }
   ],
   "source": [
    "golf2020['면적총계(m2)']"
   ]
  },
  {
   "cell_type": "code",
   "execution_count": 5,
   "metadata": {},
   "outputs": [],
   "source": [
    "# 시군구별 각 컬럼의 평균 구하기\n",
    "golf2020_avg = golf2020.groupby('시군구')[[\n",
    "    '면적총계(m2)', '농약사용면적(m2)', '농약미사용면적(m2)', '총사용량_실물량(kg)', '총사용량_성분량(kg)',\n",
    "    '농약사용_ha_성분량(kg)', '농약사용_ha_실물량(kg)', '전체면적대비_ha_성분량(kg)','전체면적대비_ha_실물량(kg)'\n",
    "    ]].mean().reset_index()\n",
    "golf2019_avg = golf2019.groupby('시군구')[[\n",
    "    '면적총계(m2)', '농약사용면적(m2)', '농약미사용면적(m2)', '총사용량_실물량(kg)', '총사용량_성분량(kg)',\n",
    "    '농약사용_ha_성분량(kg)', '농약사용_ha_실물량(kg)', '전체면적대비_ha_성분량(kg)','전체면적대비_ha_실물량(kg)'\n",
    "    ]].mean().reset_index()\n",
    "golf2018_avg = golf2018.groupby('시군구')[[\n",
    "    '면적총계(m2)', '농약사용면적(m2)', '농약미사용면적(m2)', '총사용량_실물량(kg)', '총사용량_성분량(kg)',\n",
    "    '농약사용_ha_성분량(kg)', '농약사용_ha_실물량(kg)', '전체면적대비_ha_성분량(kg)','전체면적대비_ha_실물량(kg)'\n",
    "    ]].mean().reset_index()"
   ]
  },
  {
   "cell_type": "code",
   "execution_count": 6,
   "metadata": {},
   "outputs": [
    {
     "name": "stdout",
     "output_type": "stream",
     "text": [
      "<class 'pandas.core.frame.DataFrame'>\n",
      "RangeIndex: 15 entries, 0 to 14\n",
      "Data columns (total 10 columns):\n",
      " #   Column             Non-Null Count  Dtype  \n",
      "---  ------             --------------  -----  \n",
      " 0   시군구                15 non-null     object \n",
      " 1   면적총계(m2)           15 non-null     float64\n",
      " 2   농약사용면적(m2)         15 non-null     float64\n",
      " 3   농약미사용면적(m2)        15 non-null     float64\n",
      " 4   총사용량_실물량(kg)       15 non-null     float64\n",
      " 5   총사용량_성분량(kg)       15 non-null     float64\n",
      " 6   농약사용_ha_성분량(kg)    15 non-null     float64\n",
      " 7   농약사용_ha_실물량(kg)    15 non-null     float64\n",
      " 8   전체면적대비_ha_성분량(kg)  15 non-null     float64\n",
      " 9   전체면적대비_ha_실물량(kg)  15 non-null     float64\n",
      "dtypes: float64(9), object(1)\n",
      "memory usage: 1.3+ KB\n"
     ]
    }
   ],
   "source": [
    "golf2020_avg.info()"
   ]
  },
  {
   "cell_type": "code",
   "execution_count": 7,
   "metadata": {},
   "outputs": [
    {
     "name": "stdout",
     "output_type": "stream",
     "text": [
      "<class 'pandas.core.frame.DataFrame'>\n",
      "RangeIndex: 15 entries, 0 to 14\n",
      "Data columns (total 10 columns):\n",
      " #   Column             Non-Null Count  Dtype  \n",
      "---  ------             --------------  -----  \n",
      " 0   시군구                15 non-null     object \n",
      " 1   면적총계(m2)           15 non-null     float64\n",
      " 2   농약사용면적(m2)         15 non-null     float64\n",
      " 3   농약미사용면적(m2)        15 non-null     float64\n",
      " 4   총사용량_실물량(kg)       15 non-null     float64\n",
      " 5   총사용량_성분량(kg)       15 non-null     float64\n",
      " 6   농약사용_ha_성분량(kg)    15 non-null     float64\n",
      " 7   농약사용_ha_실물량(kg)    15 non-null     float64\n",
      " 8   전체면적대비_ha_성분량(kg)  15 non-null     float64\n",
      " 9   전체면적대비_ha_실물량(kg)  15 non-null     float64\n",
      "dtypes: float64(9), object(1)\n",
      "memory usage: 1.3+ KB\n"
     ]
    }
   ],
   "source": [
    "golf2019_avg.info()"
   ]
  },
  {
   "cell_type": "code",
   "execution_count": 8,
   "metadata": {},
   "outputs": [
    {
     "name": "stdout",
     "output_type": "stream",
     "text": [
      "<class 'pandas.core.frame.DataFrame'>\n",
      "RangeIndex: 15 entries, 0 to 14\n",
      "Data columns (total 10 columns):\n",
      " #   Column             Non-Null Count  Dtype  \n",
      "---  ------             --------------  -----  \n",
      " 0   시군구                15 non-null     object \n",
      " 1   면적총계(m2)           15 non-null     float64\n",
      " 2   농약사용면적(m2)         15 non-null     float64\n",
      " 3   농약미사용면적(m2)        15 non-null     float64\n",
      " 4   총사용량_실물량(kg)       15 non-null     float64\n",
      " 5   총사용량_성분량(kg)       15 non-null     float64\n",
      " 6   농약사용_ha_성분량(kg)    15 non-null     float64\n",
      " 7   농약사용_ha_실물량(kg)    15 non-null     float64\n",
      " 8   전체면적대비_ha_성분량(kg)  15 non-null     float64\n",
      " 9   전체면적대비_ha_실물량(kg)  15 non-null     float64\n",
      "dtypes: float64(9), object(1)\n",
      "memory usage: 1.3+ KB\n"
     ]
    }
   ],
   "source": [
    "golf2018_avg.info()"
   ]
  },
  {
   "cell_type": "markdown",
   "metadata": {},
   "source": [
    "## B. [강원특별자치도_강수량 통계](https://www.data.go.kr/data/3081221/fileData.do)"
   ]
  },
  {
   "cell_type": "code",
   "execution_count": 9,
   "metadata": {},
   "outputs": [],
   "source": [
    "rain2020 = pd.read_csv('../data/강수량_20240526105254.csv', encoding='cp949', header=1)\n",
    "rain2019 = pd.read_csv('../data/강수량_20240526105308.csv', encoding='cp949', header=1)\n",
    "rain2018 = pd.read_csv('../data/강수량_20240526105317.csv', encoding='cp949', header=1)"
   ]
  },
  {
   "cell_type": "code",
   "execution_count": 10,
   "metadata": {},
   "outputs": [],
   "source": [
    "# 월별 평균 강수량의 합계를 이용하여 연평균 강수량 계산\n",
    "rain2020['연평균_강수량'] = rain2020['전체'] / 12\n",
    "rain2019['연평균_강수량'] = rain2019['전체'] / 12\n",
    "rain2018['연평균_강수량'] = rain2018['전체'] / 12"
   ]
  },
  {
   "cell_type": "code",
   "execution_count": 11,
   "metadata": {},
   "outputs": [],
   "source": [
    "# 필요 없는 컬럼 제거\n",
    "rain2020 = rain2020[['시군별','연평균_강수량']].drop(rain2020.index[0])\n",
    "rain2019 = rain2019[['시군별','연평균_강수량']].drop(rain2019.index[0])\n",
    "rain2018 = rain2018[['시군별','연평균_강수량']].drop(rain2018.index[0])"
   ]
  },
  {
   "cell_type": "code",
   "execution_count": 12,
   "metadata": {},
   "outputs": [],
   "source": [
    "# 컬럼 이름 변경\n",
    "rain2020.rename(columns={'시군별':'시군구'}, inplace=True)\n",
    "rain2019.rename(columns={'시군별':'시군구'}, inplace=True)\n",
    "rain2018.rename(columns={'시군별':'시군구'}, inplace=True)"
   ]
  },
  {
   "cell_type": "code",
   "execution_count": 13,
   "metadata": {},
   "outputs": [
    {
     "name": "stdout",
     "output_type": "stream",
     "text": [
      "<class 'pandas.core.frame.DataFrame'>\n",
      "RangeIndex: 18 entries, 1 to 18\n",
      "Data columns (total 2 columns):\n",
      " #   Column   Non-Null Count  Dtype  \n",
      "---  ------   --------------  -----  \n",
      " 0   시군구      18 non-null     object \n",
      " 1   연평균_강수량  18 non-null     float64\n",
      "dtypes: float64(1), object(1)\n",
      "memory usage: 420.0+ bytes\n"
     ]
    }
   ],
   "source": [
    "rain2020.info()"
   ]
  },
  {
   "cell_type": "code",
   "execution_count": 14,
   "metadata": {},
   "outputs": [
    {
     "name": "stdout",
     "output_type": "stream",
     "text": [
      "<class 'pandas.core.frame.DataFrame'>\n",
      "RangeIndex: 18 entries, 1 to 18\n",
      "Data columns (total 2 columns):\n",
      " #   Column   Non-Null Count  Dtype  \n",
      "---  ------   --------------  -----  \n",
      " 0   시군구      18 non-null     object \n",
      " 1   연평균_강수량  18 non-null     float64\n",
      "dtypes: float64(1), object(1)\n",
      "memory usage: 420.0+ bytes\n"
     ]
    }
   ],
   "source": [
    "rain2019.info()"
   ]
  },
  {
   "cell_type": "code",
   "execution_count": 15,
   "metadata": {},
   "outputs": [
    {
     "name": "stdout",
     "output_type": "stream",
     "text": [
      "<class 'pandas.core.frame.DataFrame'>\n",
      "RangeIndex: 18 entries, 1 to 18\n",
      "Data columns (total 2 columns):\n",
      " #   Column   Non-Null Count  Dtype  \n",
      "---  ------   --------------  -----  \n",
      " 0   시군구      18 non-null     object \n",
      " 1   연평균_강수량  18 non-null     float64\n",
      "dtypes: float64(1), object(1)\n",
      "memory usage: 420.0+ bytes\n"
     ]
    }
   ],
   "source": [
    "rain2018.info()"
   ]
  },
  {
   "cell_type": "markdown",
   "metadata": {},
   "source": [
    "## C. [환경부 국립환경과학원_수질 DB](https://www.data.go.kr/data/15081073/openapi.do)"
   ]
  },
  {
   "cell_type": "code",
   "execution_count": 16,
   "metadata": {},
   "outputs": [],
   "source": [
    "water2020 = pd.read_csv('../data/water_quality_Gangwon_2020.csv')\n",
    "water2019 = pd.read_csv('../data/water_quality_Gangwon_2019.csv')\n",
    "water2018 = pd.read_csv('../data/water_quality_Gangwon_2018.csv')"
   ]
  },
  {
   "cell_type": "code",
   "execution_count": 17,
   "metadata": {},
   "outputs": [],
   "source": [
    "# 시군구별 수질(ml 당 총대장균군 수)의 평균 구하기\n",
    "water2020_avg = water2020.groupby('시군구')['측정값(총대장균군)'].mean().reset_index()\n",
    "water2019_avg = water2019.groupby('시군구')['측정값(총대장균군)'].mean().reset_index()\n",
    "water2018_avg = water2018.groupby('시군구')['측정값(총대장균군)'].mean().reset_index()"
   ]
  },
  {
   "cell_type": "code",
   "execution_count": 18,
   "metadata": {},
   "outputs": [
    {
     "name": "stdout",
     "output_type": "stream",
     "text": [
      "<class 'pandas.core.frame.DataFrame'>\n",
      "RangeIndex: 18 entries, 0 to 17\n",
      "Data columns (total 2 columns):\n",
      " #   Column      Non-Null Count  Dtype  \n",
      "---  ------      --------------  -----  \n",
      " 0   시군구         18 non-null     object \n",
      " 1   측정값(총대장균군)  18 non-null     float64\n",
      "dtypes: float64(1), object(1)\n",
      "memory usage: 420.0+ bytes\n"
     ]
    }
   ],
   "source": [
    "water2020_avg.info()"
   ]
  },
  {
   "cell_type": "code",
   "execution_count": 19,
   "metadata": {},
   "outputs": [
    {
     "name": "stdout",
     "output_type": "stream",
     "text": [
      "<class 'pandas.core.frame.DataFrame'>\n",
      "RangeIndex: 18 entries, 0 to 17\n",
      "Data columns (total 2 columns):\n",
      " #   Column      Non-Null Count  Dtype  \n",
      "---  ------      --------------  -----  \n",
      " 0   시군구         18 non-null     object \n",
      " 1   측정값(총대장균군)  18 non-null     float64\n",
      "dtypes: float64(1), object(1)\n",
      "memory usage: 420.0+ bytes\n"
     ]
    }
   ],
   "source": [
    "water2019_avg.info()"
   ]
  },
  {
   "cell_type": "code",
   "execution_count": 20,
   "metadata": {},
   "outputs": [
    {
     "name": "stdout",
     "output_type": "stream",
     "text": [
      "<class 'pandas.core.frame.DataFrame'>\n",
      "RangeIndex: 18 entries, 0 to 17\n",
      "Data columns (total 2 columns):\n",
      " #   Column      Non-Null Count  Dtype  \n",
      "---  ------      --------------  -----  \n",
      " 0   시군구         18 non-null     object \n",
      " 1   측정값(총대장균군)  18 non-null     float64\n",
      "dtypes: float64(1), object(1)\n",
      "memory usage: 420.0+ bytes\n"
     ]
    }
   ],
   "source": [
    "water2018_avg.info()"
   ]
  },
  {
   "cell_type": "markdown",
   "metadata": {},
   "source": [
    "# 3. 최종 데이터 프레임 생성"
   ]
  },
  {
   "cell_type": "code",
   "execution_count": 21,
   "metadata": {},
   "outputs": [
    {
     "data": {
      "text/html": [
       "<div>\n",
       "<style scoped>\n",
       "    .dataframe tbody tr th:only-of-type {\n",
       "        vertical-align: middle;\n",
       "    }\n",
       "\n",
       "    .dataframe tbody tr th {\n",
       "        vertical-align: top;\n",
       "    }\n",
       "\n",
       "    .dataframe thead th {\n",
       "        text-align: right;\n",
       "    }\n",
       "</style>\n",
       "<table border=\"1\" class=\"dataframe\">\n",
       "  <thead>\n",
       "    <tr style=\"text-align: right;\">\n",
       "      <th></th>\n",
       "      <th>시군구</th>\n",
       "      <th>면적총계(m2)</th>\n",
       "      <th>농약사용면적(m2)</th>\n",
       "      <th>농약미사용면적(m2)</th>\n",
       "      <th>총사용량_실물량(kg)</th>\n",
       "      <th>총사용량_성분량(kg)</th>\n",
       "      <th>농약사용_ha_성분량(kg)</th>\n",
       "      <th>농약사용_ha_실물량(kg)</th>\n",
       "      <th>전체면적대비_ha_성분량(kg)</th>\n",
       "      <th>전체면적대비_ha_실물량(kg)</th>\n",
       "    </tr>\n",
       "  </thead>\n",
       "  <tbody>\n",
       "    <tr>\n",
       "      <th>12</th>\n",
       "      <td>평창군</td>\n",
       "      <td>906593.857143</td>\n",
       "      <td>571521.992857</td>\n",
       "      <td>335071.864286</td>\n",
       "      <td>991.887143</td>\n",
       "      <td>261.56199</td>\n",
       "      <td>4.818961</td>\n",
       "      <td>16.814901</td>\n",
       "      <td>3.210091</td>\n",
       "      <td>10.823953</td>\n",
       "    </tr>\n",
       "  </tbody>\n",
       "</table>\n",
       "</div>"
      ],
      "text/plain": [
       "    시군구       면적총계(m2)     농약사용면적(m2)    농약미사용면적(m2)  총사용량_실물량(kg)  \\\n",
       "12  평창군  906593.857143  571521.992857  335071.864286    991.887143   \n",
       "\n",
       "    총사용량_성분량(kg)  농약사용_ha_성분량(kg)  농약사용_ha_실물량(kg)  전체면적대비_ha_성분량(kg)  \\\n",
       "12     261.56199         4.818961        16.814901           3.210091   \n",
       "\n",
       "    전체면적대비_ha_실물량(kg)  \n",
       "12          10.823953  "
      ]
     },
     "execution_count": 21,
     "metadata": {},
     "output_type": "execute_result"
    }
   ],
   "source": [
    "golf2020_avg.sample()"
   ]
  },
  {
   "cell_type": "code",
   "execution_count": 22,
   "metadata": {},
   "outputs": [
    {
     "data": {
      "text/html": [
       "<div>\n",
       "<style scoped>\n",
       "    .dataframe tbody tr th:only-of-type {\n",
       "        vertical-align: middle;\n",
       "    }\n",
       "\n",
       "    .dataframe tbody tr th {\n",
       "        vertical-align: top;\n",
       "    }\n",
       "\n",
       "    .dataframe thead th {\n",
       "        text-align: right;\n",
       "    }\n",
       "</style>\n",
       "<table border=\"1\" class=\"dataframe\">\n",
       "  <thead>\n",
       "    <tr style=\"text-align: right;\">\n",
       "      <th></th>\n",
       "      <th>시군구</th>\n",
       "      <th>연평균_강수량</th>\n",
       "    </tr>\n",
       "  </thead>\n",
       "  <tbody>\n",
       "    <tr>\n",
       "      <th>5</th>\n",
       "      <td>태백시</td>\n",
       "      <td>127.508333</td>\n",
       "    </tr>\n",
       "  </tbody>\n",
       "</table>\n",
       "</div>"
      ],
      "text/plain": [
       "   시군구     연평균_강수량\n",
       "5  태백시  127.508333"
      ]
     },
     "execution_count": 22,
     "metadata": {},
     "output_type": "execute_result"
    }
   ],
   "source": [
    "rain2020.sample()"
   ]
  },
  {
   "cell_type": "code",
   "execution_count": 23,
   "metadata": {},
   "outputs": [
    {
     "data": {
      "text/html": [
       "<div>\n",
       "<style scoped>\n",
       "    .dataframe tbody tr th:only-of-type {\n",
       "        vertical-align: middle;\n",
       "    }\n",
       "\n",
       "    .dataframe tbody tr th {\n",
       "        vertical-align: top;\n",
       "    }\n",
       "\n",
       "    .dataframe thead th {\n",
       "        text-align: right;\n",
       "    }\n",
       "</style>\n",
       "<table border=\"1\" class=\"dataframe\">\n",
       "  <thead>\n",
       "    <tr style=\"text-align: right;\">\n",
       "      <th></th>\n",
       "      <th>시군구</th>\n",
       "      <th>측정값(총대장균군)</th>\n",
       "    </tr>\n",
       "  </thead>\n",
       "  <tbody>\n",
       "    <tr>\n",
       "      <th>4</th>\n",
       "      <td>속초시</td>\n",
       "      <td>381.916667</td>\n",
       "    </tr>\n",
       "  </tbody>\n",
       "</table>\n",
       "</div>"
      ],
      "text/plain": [
       "   시군구  측정값(총대장균군)\n",
       "4  속초시  381.916667"
      ]
     },
     "execution_count": 23,
     "metadata": {},
     "output_type": "execute_result"
    }
   ],
   "source": [
    "water2020_avg.sample()"
   ]
  },
  {
   "cell_type": "code",
   "execution_count": 24,
   "metadata": {},
   "outputs": [],
   "source": [
    "def Merge3 (df1, df2, df3, col):\n",
    "    # 세 개의 데이터프레임 병합\n",
    "    merged_df = pd.merge(df1, df2, on=col, how='inner')\n",
    "    merged_df = pd.merge(merged_df, df3, on=col, how='inner')\n",
    "\n",
    "    return merged_df"
   ]
  },
  {
   "cell_type": "code",
   "execution_count": 25,
   "metadata": {},
   "outputs": [],
   "source": [
    "df2020 = Merge3(golf2020_avg, rain2020, water2020_avg, '시군구')\n",
    "df2019 = Merge3(golf2019_avg, rain2019, water2019_avg, '시군구')\n",
    "df2018 = Merge3(golf2018_avg, rain2018, water2018_avg, '시군구')"
   ]
  },
  {
   "cell_type": "code",
   "execution_count": 26,
   "metadata": {},
   "outputs": [
    {
     "data": {
      "text/html": [
       "<div>\n",
       "<style scoped>\n",
       "    .dataframe tbody tr th:only-of-type {\n",
       "        vertical-align: middle;\n",
       "    }\n",
       "\n",
       "    .dataframe tbody tr th {\n",
       "        vertical-align: top;\n",
       "    }\n",
       "\n",
       "    .dataframe thead th {\n",
       "        text-align: right;\n",
       "    }\n",
       "</style>\n",
       "<table border=\"1\" class=\"dataframe\">\n",
       "  <thead>\n",
       "    <tr style=\"text-align: right;\">\n",
       "      <th></th>\n",
       "      <th>시군구</th>\n",
       "      <th>면적총계(m2)</th>\n",
       "      <th>농약사용면적(m2)</th>\n",
       "      <th>농약미사용면적(m2)</th>\n",
       "      <th>총사용량_실물량(kg)</th>\n",
       "      <th>총사용량_성분량(kg)</th>\n",
       "      <th>농약사용_ha_성분량(kg)</th>\n",
       "      <th>농약사용_ha_실물량(kg)</th>\n",
       "      <th>전체면적대비_ha_성분량(kg)</th>\n",
       "      <th>전체면적대비_ha_실물량(kg)</th>\n",
       "      <th>연평균_강수량</th>\n",
       "      <th>측정값(총대장균군)</th>\n",
       "    </tr>\n",
       "  </thead>\n",
       "  <tbody>\n",
       "    <tr>\n",
       "      <th>0</th>\n",
       "      <td>강릉시</td>\n",
       "      <td>582247.333333</td>\n",
       "      <td>335607.333333</td>\n",
       "      <td>246640.0</td>\n",
       "      <td>675.0685</td>\n",
       "      <td>233.595067</td>\n",
       "      <td>6.995625</td>\n",
       "      <td>21.057476</td>\n",
       "      <td>4.027363</td>\n",
       "      <td>11.899533</td>\n",
       "      <td>133.283333</td>\n",
       "      <td>8831.898734</td>\n",
       "    </tr>\n",
       "    <tr>\n",
       "      <th>1</th>\n",
       "      <td>고성군</td>\n",
       "      <td>921266.500000</td>\n",
       "      <td>513368.500000</td>\n",
       "      <td>407898.0</td>\n",
       "      <td>1489.3125</td>\n",
       "      <td>563.575175</td>\n",
       "      <td>7.799428</td>\n",
       "      <td>21.060081</td>\n",
       "      <td>4.129354</td>\n",
       "      <td>11.371300</td>\n",
       "      <td>148.083333</td>\n",
       "      <td>9176.044776</td>\n",
       "    </tr>\n",
       "    <tr>\n",
       "      <th>2</th>\n",
       "      <td>동해시</td>\n",
       "      <td>238565.000000</td>\n",
       "      <td>206953.000000</td>\n",
       "      <td>31612.0</td>\n",
       "      <td>226.6400</td>\n",
       "      <td>33.750000</td>\n",
       "      <td>1.630805</td>\n",
       "      <td>10.951279</td>\n",
       "      <td>1.414709</td>\n",
       "      <td>9.500136</td>\n",
       "      <td>119.708333</td>\n",
       "      <td>719.250000</td>\n",
       "    </tr>\n",
       "    <tr>\n",
       "      <th>3</th>\n",
       "      <td>삼척시</td>\n",
       "      <td>974748.500000</td>\n",
       "      <td>460192.500000</td>\n",
       "      <td>514556.0</td>\n",
       "      <td>1157.2950</td>\n",
       "      <td>256.518300</td>\n",
       "      <td>5.677880</td>\n",
       "      <td>24.945085</td>\n",
       "      <td>2.636115</td>\n",
       "      <td>11.860218</td>\n",
       "      <td>132.000000</td>\n",
       "      <td>3374.892857</td>\n",
       "    </tr>\n",
       "    <tr>\n",
       "      <th>4</th>\n",
       "      <td>속초시</td>\n",
       "      <td>455394.500000</td>\n",
       "      <td>224794.500000</td>\n",
       "      <td>230600.0</td>\n",
       "      <td>411.2500</td>\n",
       "      <td>127.052450</td>\n",
       "      <td>5.296649</td>\n",
       "      <td>16.721147</td>\n",
       "      <td>2.777307</td>\n",
       "      <td>8.460465</td>\n",
       "      <td>148.083333</td>\n",
       "      <td>2567.625000</td>\n",
       "    </tr>\n",
       "  </tbody>\n",
       "</table>\n",
       "</div>"
      ],
      "text/plain": [
       "   시군구       면적총계(m2)     농약사용면적(m2)  농약미사용면적(m2)  총사용량_실물량(kg)  총사용량_성분량(kg)  \\\n",
       "0  강릉시  582247.333333  335607.333333     246640.0      675.0685    233.595067   \n",
       "1  고성군  921266.500000  513368.500000     407898.0     1489.3125    563.575175   \n",
       "2  동해시  238565.000000  206953.000000      31612.0      226.6400     33.750000   \n",
       "3  삼척시  974748.500000  460192.500000     514556.0     1157.2950    256.518300   \n",
       "4  속초시  455394.500000  224794.500000     230600.0      411.2500    127.052450   \n",
       "\n",
       "   농약사용_ha_성분량(kg)  농약사용_ha_실물량(kg)  전체면적대비_ha_성분량(kg)  전체면적대비_ha_실물량(kg)  \\\n",
       "0         6.995625        21.057476           4.027363          11.899533   \n",
       "1         7.799428        21.060081           4.129354          11.371300   \n",
       "2         1.630805        10.951279           1.414709           9.500136   \n",
       "3         5.677880        24.945085           2.636115          11.860218   \n",
       "4         5.296649        16.721147           2.777307           8.460465   \n",
       "\n",
       "      연평균_강수량   측정값(총대장균군)  \n",
       "0  133.283333  8831.898734  \n",
       "1  148.083333  9176.044776  \n",
       "2  119.708333   719.250000  \n",
       "3  132.000000  3374.892857  \n",
       "4  148.083333  2567.625000  "
      ]
     },
     "execution_count": 26,
     "metadata": {},
     "output_type": "execute_result"
    }
   ],
   "source": [
    "train = pd.concat([df2018,df2019], ignore_index=True)\n",
    "train.head()"
   ]
  },
  {
   "cell_type": "code",
   "execution_count": 27,
   "metadata": {},
   "outputs": [
    {
     "data": {
      "text/html": [
       "<div>\n",
       "<style scoped>\n",
       "    .dataframe tbody tr th:only-of-type {\n",
       "        vertical-align: middle;\n",
       "    }\n",
       "\n",
       "    .dataframe tbody tr th {\n",
       "        vertical-align: top;\n",
       "    }\n",
       "\n",
       "    .dataframe thead th {\n",
       "        text-align: right;\n",
       "    }\n",
       "</style>\n",
       "<table border=\"1\" class=\"dataframe\">\n",
       "  <thead>\n",
       "    <tr style=\"text-align: right;\">\n",
       "      <th></th>\n",
       "      <th>시군구</th>\n",
       "      <th>면적총계(m2)</th>\n",
       "      <th>농약사용면적(m2)</th>\n",
       "      <th>농약미사용면적(m2)</th>\n",
       "      <th>총사용량_실물량(kg)</th>\n",
       "      <th>총사용량_성분량(kg)</th>\n",
       "      <th>농약사용_ha_성분량(kg)</th>\n",
       "      <th>농약사용_ha_실물량(kg)</th>\n",
       "      <th>전체면적대비_ha_성분량(kg)</th>\n",
       "      <th>전체면적대비_ha_실물량(kg)</th>\n",
       "      <th>연평균_강수량</th>\n",
       "      <th>측정값(총대장균군)</th>\n",
       "    </tr>\n",
       "  </thead>\n",
       "  <tbody>\n",
       "    <tr>\n",
       "      <th>0</th>\n",
       "      <td>강릉시</td>\n",
       "      <td>5.885358e+05</td>\n",
       "      <td>336963.000000</td>\n",
       "      <td>251572.79</td>\n",
       "      <td>1394.0600</td>\n",
       "      <td>385.532613</td>\n",
       "      <td>11.625277</td>\n",
       "      <td>43.827415</td>\n",
       "      <td>6.330546</td>\n",
       "      <td>23.250838</td>\n",
       "      <td>151.075000</td>\n",
       "      <td>3447.710843</td>\n",
       "    </tr>\n",
       "    <tr>\n",
       "      <th>1</th>\n",
       "      <td>고성군</td>\n",
       "      <td>1.228355e+06</td>\n",
       "      <td>684491.333333</td>\n",
       "      <td>543864.00</td>\n",
       "      <td>2394.0800</td>\n",
       "      <td>859.571027</td>\n",
       "      <td>12.092960</td>\n",
       "      <td>33.961476</td>\n",
       "      <td>6.750470</td>\n",
       "      <td>19.088488</td>\n",
       "      <td>173.816667</td>\n",
       "      <td>2983.030303</td>\n",
       "    </tr>\n",
       "    <tr>\n",
       "      <th>2</th>\n",
       "      <td>동해시</td>\n",
       "      <td>2.385650e+05</td>\n",
       "      <td>206953.000000</td>\n",
       "      <td>31612.00</td>\n",
       "      <td>1080.3320</td>\n",
       "      <td>267.240776</td>\n",
       "      <td>12.913114</td>\n",
       "      <td>52.201804</td>\n",
       "      <td>11.202011</td>\n",
       "      <td>45.284597</td>\n",
       "      <td>110.200000</td>\n",
       "      <td>1904.028571</td>\n",
       "    </tr>\n",
       "    <tr>\n",
       "      <th>3</th>\n",
       "      <td>삼척시</td>\n",
       "      <td>9.747485e+05</td>\n",
       "      <td>460192.500000</td>\n",
       "      <td>514556.00</td>\n",
       "      <td>992.4725</td>\n",
       "      <td>300.522001</td>\n",
       "      <td>6.631652</td>\n",
       "      <td>21.656875</td>\n",
       "      <td>3.087333</td>\n",
       "      <td>10.183989</td>\n",
       "      <td>128.825000</td>\n",
       "      <td>1078.357143</td>\n",
       "    </tr>\n",
       "    <tr>\n",
       "      <th>4</th>\n",
       "      <td>속초시</td>\n",
       "      <td>4.553945e+05</td>\n",
       "      <td>224794.500000</td>\n",
       "      <td>230600.00</td>\n",
       "      <td>534.6900</td>\n",
       "      <td>139.085350</td>\n",
       "      <td>5.735455</td>\n",
       "      <td>21.184061</td>\n",
       "      <td>2.961786</td>\n",
       "      <td>10.304701</td>\n",
       "      <td>173.816667</td>\n",
       "      <td>381.916667</td>\n",
       "    </tr>\n",
       "  </tbody>\n",
       "</table>\n",
       "</div>"
      ],
      "text/plain": [
       "   시군구      면적총계(m2)     농약사용면적(m2)  농약미사용면적(m2)  총사용량_실물량(kg)  총사용량_성분량(kg)  \\\n",
       "0  강릉시  5.885358e+05  336963.000000    251572.79     1394.0600    385.532613   \n",
       "1  고성군  1.228355e+06  684491.333333    543864.00     2394.0800    859.571027   \n",
       "2  동해시  2.385650e+05  206953.000000     31612.00     1080.3320    267.240776   \n",
       "3  삼척시  9.747485e+05  460192.500000    514556.00      992.4725    300.522001   \n",
       "4  속초시  4.553945e+05  224794.500000    230600.00      534.6900    139.085350   \n",
       "\n",
       "   농약사용_ha_성분량(kg)  농약사용_ha_실물량(kg)  전체면적대비_ha_성분량(kg)  전체면적대비_ha_실물량(kg)  \\\n",
       "0        11.625277        43.827415           6.330546          23.250838   \n",
       "1        12.092960        33.961476           6.750470          19.088488   \n",
       "2        12.913114        52.201804          11.202011          45.284597   \n",
       "3         6.631652        21.656875           3.087333          10.183989   \n",
       "4         5.735455        21.184061           2.961786          10.304701   \n",
       "\n",
       "      연평균_강수량   측정값(총대장균군)  \n",
       "0  151.075000  3447.710843  \n",
       "1  173.816667  2983.030303  \n",
       "2  110.200000  1904.028571  \n",
       "3  128.825000  1078.357143  \n",
       "4  173.816667   381.916667  "
      ]
     },
     "execution_count": 27,
     "metadata": {},
     "output_type": "execute_result"
    }
   ],
   "source": [
    "test = df2020\n",
    "test.head()"
   ]
  },
  {
   "cell_type": "code",
   "execution_count": 28,
   "metadata": {},
   "outputs": [],
   "source": [
    "train.to_csv('../data/train.csv', index=False, encoding='utf-8-sig')"
   ]
  },
  {
   "cell_type": "code",
   "execution_count": 29,
   "metadata": {},
   "outputs": [],
   "source": [
    "test.to_csv('../data/test.csv', index=False, encoding='utf-8-sig')"
   ]
  }
 ],
 "metadata": {
  "kernelspec": {
   "display_name": "base",
   "language": "python",
   "name": "python3"
  },
  "language_info": {
   "codemirror_mode": {
    "name": "ipython",
    "version": 3
   },
   "file_extension": ".py",
   "mimetype": "text/x-python",
   "name": "python",
   "nbconvert_exporter": "python",
   "pygments_lexer": "ipython3",
   "version": "3.11.5"
  }
 },
 "nbformat": 4,
 "nbformat_minor": 2
}
