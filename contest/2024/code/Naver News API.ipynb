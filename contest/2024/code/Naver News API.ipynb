{
 "cells": [
  {
   "cell_type": "code",
   "execution_count": 1,
   "metadata": {},
   "outputs": [],
   "source": [
    "import os\n",
    "import sys\n",
    "import urllib.request"
   ]
  },
  {
   "cell_type": "code",
   "execution_count": 2,
   "metadata": {},
   "outputs": [
    {
     "name": "stdout",
     "output_type": "stream",
     "text": [
      "{\n",
      "\t\"lastBuildDate\":\"Tue, 12 Nov 2024 11:03:48 +0900\",\n",
      "\t\"total\":4,\n",
      "\t\"start\":1,\n",
      "\t\"display\":4,\n",
      "\t\"items\":[\n",
      "\t\t{\n",
      "\t\t\t\"title\":\"‘이차전지 인버스 ETF’ 역대급 성공 거뒀는데… 업계 반응은 시큰둥\",\n",
      "\t\t\t\"originallink\":\"https:\\/\\/biz.chosun.com\\/stock\\/stock_general\\/2023\\/09\\/20\\/SZHKN5ARAVECBMETLNQI3VOC4E\\/?utm_source=naver&utm_medium=original&utm_campaign=biz\",\n",
      "\t\t\t\"link\":\"https:\\/\\/n.news.naver.com\\/mnews\\/article\\/366\\/0000933598?sid=101\",\n",
      "\t\t\t\"description\":\"상위 10개 기업의 수익률을 역방향으로 1배 추종한다. 에코프로, 에코프로비엠, LG에너지솔루션, 포스코퓨처엠, 삼성SDI, SK이노베이션, <b>고려아연<\\/b>, 엘앤에프, 코스모신소재, SK아이이테크놀로지 등을 편입한다.\",\n",
      "\t\t\t\"pubDate\":\"Wed, 20 Sep 2023 06:01:00 +0900\"\n",
      "\t\t},\n",
      "\t\t{\n",
      "\t\t\t\"title\":\"비철금속協, 온실가스 감축 노하우 교류 및 확산 도모\",\n",
      "\t\t\t\"originallink\":\"http:\\/\\/www.snmnews.com\\/news\\/articleView.html?idxno=516905\",\n",
      "\t\t\t\"link\":\"http:\\/\\/www.snmnews.com\\/news\\/articleView.html?idxno=516905\",\n",
      "\t\t\t\"description\":\"이번 행사에는 <b>고려아연<\\/b>, 영풍, 노벨리스, LS MnM, 풍산, 동일알루미늄, 대구텍, SNNC 등에서 공정관리, 혁신... Soft <b>Start<\\/b> System 및 Demand Control Peak 전력 감소, 부하효율 개선, 선로와 주변압기 손실 감소, 유효전력 절감... \",\n",
      "\t\t\t\"pubDate\":\"Fri, 12 May 2023 15:24:00 +0900\"\n",
      "\t\t},\n",
      "\t\t{\n",
      "\t\t\t\"title\":\"&quot;배터리의 미래를 엿보다&quot;…세계 3대 이차전지 전시회 '인터배터리2022'\",\n",
      "\t\t\t\"originallink\":\"http:\\/\\/www.epnc.co.kr\\/news\\/articleView.html?idxno=222243\",\n",
      "\t\t\t\"link\":\"http:\\/\\/www.epnc.co.kr\\/news\\/articleView.html?idxno=222243\",\n",
      "\t\t\t\"description\":\"하지만 포스코케미칼과 <b>고려아연<\\/b>, 엘엔에프, 천보 등 배터리 소재기업들도 그들의 강점과 기술력으로... 홍보관은 ▲스타트 온(<b>Start<\\/b> On; 시작하다) ▲올웨이즈 온(Always On; 항상 움직이다) ▲비욘드 익스펙테이션... \",\n",
      "\t\t\t\"pubDate\":\"Thu, 21 Apr 2022 08:32:00 +0900\"\n",
      "\t\t},\n",
      "\t\t{\n",
      "\t\t\t\"title\":\"개장전 증권사 추천주(<b>1<\\/b>\\/14)\",\n",
      "\t\t\t\"originallink\":\"https:\\/\\/www.etoday.co.kr\\/news\\/view\\/1984217\",\n",
      "\t\t\t\"link\":\"https:\\/\\/www.etoday.co.kr\\/news\\/view\\/1984217\",\n",
      "\t\t\t\"description\":\"매출 <b>Start<\\/b>! 그러나 GUC 시가총액 대비 12% &quot; 2021년 시스템반도체 매출 <b>Start<\\/b>!-전자담배용 칩 양산 가시화... IBK <b>고려아연<\\/b> 금속가격 상승으로 양호한 4분기 영업실적 기대 &quot; 금속가격 상승으로 4분기 영업이익... \",\n",
      "\t\t\t\"pubDate\":\"Thu, 14 Jan 2021 08:09:00 +0900\"\n",
      "\t\t}\n",
      "\t]\n",
      "}\n"
     ]
    }
   ],
   "source": [
    "# 네이버 검색 API 예제 - 기사\n",
    "client_id = os.environ.get('NAVER_CLIENT_ID')\n",
    "client_secret = os.environ.get('NAVER_CLIENT_SECRET')\n",
    "encText = urllib.parse.quote(\"고려아연\")\n",
    "startText = 1\n",
    "url = \"https://openapi.naver.com/v1/search/news?query=\" + encText + \"start=\" + str(startText) # JSON 결과\n",
    "# url = \"https://openapi.naver.com/v1/search/blog.xml?query=\" + encText # XML 결과\n",
    "request = urllib.request.Request(url)\n",
    "request.add_header(\"X-Naver-Client-Id\",client_id)\n",
    "request.add_header(\"X-Naver-Client-Secret\",client_secret)\n",
    "response = urllib.request.urlopen(request)\n",
    "rescode = response.getcode()\n",
    "if(rescode==200):\n",
    "    response_body = response.read()\n",
    "    print(response_body.decode('utf-8'))\n",
    "else:\n",
    "    print(\"Error Code:\" + rescode)"
   ]
  },
  {
   "cell_type": "code",
   "execution_count": null,
   "metadata": {},
   "outputs": [],
   "source": []
  }
 ],
 "metadata": {
  "kernelspec": {
   "display_name": "base",
   "language": "python",
   "name": "python3"
  },
  "language_info": {
   "codemirror_mode": {
    "name": "ipython",
    "version": 3
   },
   "file_extension": ".py",
   "mimetype": "text/x-python",
   "name": "python",
   "nbconvert_exporter": "python",
   "pygments_lexer": "ipython3",
   "version": "3.11.5"
  }
 },
 "nbformat": 4,
 "nbformat_minor": 2
}
